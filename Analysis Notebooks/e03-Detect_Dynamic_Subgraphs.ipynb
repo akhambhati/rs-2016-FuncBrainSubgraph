{
 "cells": [
  {
   "cell_type": "markdown",
   "metadata": {
    "toc": "true"
   },
   "source": [
    "# Table of Contents\n",
    " <p><div class=\"lev1\"><a href=\"#Optimize-Dynamic-Subgraphs-1\"><span class=\"toc-item-num\">1&nbsp;&nbsp;</span>Optimize Dynamic Subgraphs</a></div><div class=\"lev2\"><a href=\"#Initialize-Environment-1.1\"><span class=\"toc-item-num\">1.1&nbsp;&nbsp;</span>Initialize Environment</a></div><div class=\"lev2\"><a href=\"#Generate-List-of-Data-1.2\"><span class=\"toc-item-num\">1.2&nbsp;&nbsp;</span>Generate List of Data</a></div><div class=\"lev2\"><a href=\"#Construct-Configuration-Matrices-1.3\"><span class=\"toc-item-num\">1.3&nbsp;&nbsp;</span>Construct Configuration Matrices</a></div><div class=\"lev2\"><a href=\"#Parameter-Search-Space-1.4\"><span class=\"toc-item-num\">1.4&nbsp;&nbsp;</span>Parameter Search Space</a></div><div class=\"lev2\"><a href=\"#Run-Non-Negative-Matrix-Factorization-Algorithm-1.5\"><span class=\"toc-item-num\">1.5&nbsp;&nbsp;</span>Run Non-Negative Matrix Factorization Algorithm</a></div><div class=\"lev2\"><a href=\"#Analyze-Parameter-Search-Space-1.6\"><span class=\"toc-item-num\">1.6&nbsp;&nbsp;</span>Analyze Parameter Search Space</a></div><div class=\"lev3\"><a href=\"#Display-Parameter-Search-Space-1.6.1\"><span class=\"toc-item-num\">1.6.1&nbsp;&nbsp;</span>Display Parameter Search Space</a></div><div class=\"lev3\"><a href=\"#Display-Relationship-Between-Parameters-and-Quality-Measures-1.6.2\"><span class=\"toc-item-num\">1.6.2&nbsp;&nbsp;</span>Display Relationship Between Parameters and Quality Measures</a></div><div class=\"lev3\"><a href=\"#Display-Bivariate-Distribution-of-Error-and-Sparsity-1.6.3\"><span class=\"toc-item-num\">1.6.3&nbsp;&nbsp;</span>Display Bivariate Distribution of Error and Sparsity</a></div><div class=\"lev3\"><a href=\"#Find-Optimal-Parameters-1.6.4\"><span class=\"toc-item-num\">1.6.4&nbsp;&nbsp;</span>Find Optimal Parameters</a></div><div class=\"lev1\"><a href=\"#Detect-Dynamic-Subgraphs-2\"><span class=\"toc-item-num\">2&nbsp;&nbsp;</span>Detect Dynamic Subgraphs</a></div><div class=\"lev2\"><a href=\"#Initialize-Environment-2.1\"><span class=\"toc-item-num\">2.1&nbsp;&nbsp;</span>Initialize Environment</a></div><div class=\"lev2\"><a href=\"#Run-Non-Negative-Matrix-Factorization-Algorithm-2.2\"><span class=\"toc-item-num\">2.2&nbsp;&nbsp;</span>Run Non-Negative Matrix Factorization Algorithm</a></div><div class=\"lev1\"><a href=\"#Statistics-on-Dynamic-Subgraphs-3\"><span class=\"toc-item-num\">3&nbsp;&nbsp;</span>Statistics on Dynamic Subgraphs</a></div><div class=\"lev2\"><a href=\"#Initialize-Environment-3.1\"><span class=\"toc-item-num\">3.1&nbsp;&nbsp;</span>Initialize Environment</a></div><div class=\"lev2\"><a href=\"#Generate-List-of-Data-3.2\"><span class=\"toc-item-num\">3.2&nbsp;&nbsp;</span>Generate List of Data</a></div><div class=\"lev2\"><a href=\"#Consensus-Dynamic-Subgraphs-3.3\"><span class=\"toc-item-num\">3.3&nbsp;&nbsp;</span>Consensus Dynamic Subgraphs</a></div>"
   ]
  },
  {
   "cell_type": "markdown",
   "metadata": {},
   "source": [
    "# Optimize Dynamic Subgraphs"
   ]
  },
  {
   "cell_type": "markdown",
   "metadata": {},
   "source": [
    "## Initialize Environment"
   ]
  },
  {
   "cell_type": "code",
   "execution_count": 1,
   "metadata": {
    "ExecuteTime": {
     "end_time": "2016-05-16T11:42:25.043239",
     "start_time": "2016-05-16T11:42:24.434161"
    },
    "collapsed": false
   },
   "outputs": [
    {
     "name": "stderr",
     "output_type": "stream",
     "text": [
      "/Users/akhambhati/Developer/miniconda2/envs/cb-nmfsubnet/lib/python2.7/site-packages/matplotlib/__init__.py:872: UserWarning: axes.color_cycle is deprecated and replaced with axes.prop_cycle; please use the latter.\n",
      "  warnings.warn(self.msg_depr % (key, alt_key))\n"
     ]
    }
   ],
   "source": [
    "try:\n",
    "    %load_ext autoreload\n",
    "    %autoreload 2\n",
    "    \n",
    "except:\n",
    "    print 'NOT IPYTHON'\n",
    "\n",
    "from __future__ import division\n",
    "from IPython.display import display\n",
    "\n",
    "import os\n",
    "import sys\n",
    "import glob\n",
    "import json\n",
    "\n",
    "import numpy as np\n",
    "import pandas as pd\n",
    "import scipy.stats as stats\n",
    "import h5py\n",
    "\n",
    "import matplotlib.pyplot as plt\n",
    "import matplotlib.pyplot as plt\n",
    "import matplotlib.patches as patches\n",
    "from matplotlib import rcParams\n",
    "import seaborn as sns\n",
    "import fig_plotting\n",
    "rcParams = fig_plotting.update_rcparams(rcParams)\n",
    "\n",
    "os.chdir('../')\n",
    "import Codebase\n",
    "os.chdir('./Analysis Notebooks/')\n",
    "\n",
    "path_CoreData = '/Users/akhambhati/Remotes/hoth_research/CoreData/fMRI_multiband-mmattar/restdata'\n",
    "path_PeriphData = '/Users/akhambhati/Remotes/hoth_research/PeriphData/ds-NMF_Subnetworks'\n",
    "path_InpData = path_PeriphData + '/e01-Dyne_FuncNetw'\n",
    "path_ExpData = path_PeriphData + '/e03-DynFuncSubgraph'\n",
    "\n",
    "for path in [path_CoreData, path_PeriphData, path_InpData, path_ExpData]:\n",
    "    if not os.path.exists(path):\n",
    "        print('Path: {}, does not exist'.format(path))\n",
    "        os.makedirs(path)"
   ]
  },
  {
   "cell_type": "markdown",
   "metadata": {
    "heading_collapsed": true
   },
   "source": [
    "## Generate List of Data"
   ]
  },
  {
   "cell_type": "code",
   "execution_count": null,
   "metadata": {
    "collapsed": true
   },
   "outputs": [],
   "source": [
    "subj_date = [full_subj_path.split('/')[-1]\n",
    "             for full_subj_path in glob.iglob('{}/*.dyne_output.hdf'.format(path_InpData))]\n",
    "\n",
    "subj_ids = {}\n",
    "for s_d in subj_date:\n",
    "    subj, date = s_d.split('.')[:2]\n",
    "    try:\n",
    "        subj_ids[subj]\n",
    "    except KeyError:\n",
    "        subj_ids[subj] = []\n",
    "    \n",
    "    subj_ids[subj].append(date)"
   ]
  },
  {
   "cell_type": "markdown",
   "metadata": {
    "heading_collapsed": true
   },
   "source": [
    "## Construct Configuration Matrices\n",
    "*__WARNING: Will Delete Existing Output__*"
   ]
  },
  {
   "cell_type": "code",
   "execution_count": null,
   "metadata": {
    "collapsed": true
   },
   "outputs": [],
   "source": [
    "# Remove all existing output (retains pipe/pipeline definitions)\n",
    "rm_outp = glob.glob(\"{}/*.cfg_matr.npz\".format(path_ExpData))\n",
    "\n",
    "for rm_type in [rm_outp]:\n",
    "    for path in rm_type:\n",
    "        try:\n",
    "            os.remove(path)\n",
    "        except:\n",
    "            print(\"{} not found\".format(path))"
   ]
  },
  {
   "cell_type": "code",
   "execution_count": null,
   "metadata": {
    "collapsed": true
   },
   "outputs": [],
   "source": [
    "conv_adj_matr_to_cfg_matr = Codebase.Networks.configuration.convert_adj_matr_to_cfg_matr\n",
    "\n",
    "for subj, dates in subj_ids.items():\n",
    "    \n",
    "    cfg_matr = []\n",
    "    for d_i, date in enumerate(dates):\n",
    "        \n",
    "        # Input data paths\n",
    "        log_path = \"{}/{}.{}.dyne_log.csv\".format(path_InpData,\n",
    "                                                  subj, date)\n",
    "        inp_path = \"{}/{}.{}.dyne_output.hdf\".format(path_InpData,\n",
    "                                                     subj, date)\n",
    "\n",
    "        # Read the input data\n",
    "        df_log = pd.read_csv(log_path, delimiter=',')\n",
    "        pipe_hash = df_log[df_log.PIPE_NAME == 'MTCoh'].DOWNSTREAM_HASH[0]\n",
    "        \n",
    "        df_inp = h5py.File(inp_path, 'r')\n",
    "        inp_dat = df_inp[pipe_hash]['data'][...]\n",
    "        inp_meta = df_inp[pipe_hash]['meta']\n",
    "\n",
    "        for cfg_vec in conv_adj_matr_to_cfg_matr(inp_dat):\n",
    "            cfg_matr.append(cfg_vec)\n",
    "                \n",
    "    # Cache the modularity matrices\n",
    "    cfg_matr = np.array(cfg_matr)\n",
    "    np.savez(\"{}/{}.cfg_matr.npz\".format(path_ExpData, subj),\n",
    "             cfg_matr=cfg_matr)"
   ]
  },
  {
   "cell_type": "markdown",
   "metadata": {
    "heading_collapsed": true
   },
   "source": [
    "## Parameter Search Space"
   ]
  },
  {
   "cell_type": "code",
   "execution_count": null,
   "metadata": {
    "ExecuteTime": {
     "end_time": "2016-03-28T11:51:31.219800",
     "start_time": "2016-03-28T11:51:12.348513"
    },
    "collapsed": false,
    "scrolled": true
   },
   "outputs": [],
   "source": [
    "# Set search ranges\n",
    "search_alpha_log = [0.01, 2.0]\n",
    "search_beta_log = [0.01, 2.0]\n",
    "search_rank = [2, 21]\n",
    "n_search = 30000\n",
    "\n",
    "# Generate parameter set\n",
    "param_set = []\n",
    "param_alpha = np.zeros(n_search)\n",
    "param_beta = np.zeros(n_search)\n",
    "param_rank = np.zeros(n_search)\n",
    "for ii in xrange(n_search):\n",
    "    alpha = np.random.uniform(low=search_alpha_log[0],\n",
    "                              high=search_alpha_log[1])\n",
    "\n",
    "    beta = np.random.uniform(low=search_beta_log[0],\n",
    "                             high=search_beta_log[1])\n",
    "    \n",
    "    rank = np.random.randint(low=search_rank[0],\n",
    "                             high=search_rank[1])\n",
    "    \n",
    "    param_alpha[ii] = alpha\n",
    "    param_beta[ii] = beta\n",
    "    param_rank[ii] = rank\n",
    "    param_set.append({'alpha': alpha,\n",
    "                      'beta': beta,\n",
    "                      'rank': rank})\n",
    "\n",
    "    \n",
    "# Display Joint-Distributions Parameter Space\n",
    "%matplotlib inline\n",
    "g = sns.jointplot(param_alpha, param_beta, kind='kde')\n",
    "g.set_axis_labels('Alpha', 'Beta')\n",
    "\n",
    "g = sns.jointplot(param_alpha, param_rank, kind='kde')\n",
    "g.set_axis_labels('Alpha', 'Rank')\n",
    "\n",
    "g = sns.jointplot(param_beta, param_rank, kind='kde')\n",
    "g.set_axis_labels('Beta', 'Rank')"
   ]
  },
  {
   "cell_type": "markdown",
   "metadata": {
    "heading_collapsed": true
   },
   "source": [
    "## Run Non-Negative Matrix Factorization Algorithm\n",
    "*__WARNING: Will Delete Existing Output__*"
   ]
  },
  {
   "cell_type": "code",
   "execution_count": null,
   "metadata": {
    "ExecuteTime": {
     "end_time": "2016-03-28T11:51:37.432905",
     "start_time": "2016-03-28T11:51:37.414685"
    },
    "collapsed": false
   },
   "outputs": [],
   "source": [
    "# Remove all existing output (retains pipe/pipeline definitions)\n",
    "rm_outp = glob.glob(\"{}/subgraph_param_opt-*.npz\".format(path_ExpData))\n",
    "\n",
    "for rm_type in [rm_outp]:\n",
    "    for path in rm_type:\n",
    "        try:\n",
    "            os.remove(path)\n",
    "        except:\n",
    "            print(\"{} not found\".format(path))"
   ]
  },
  {
   "cell_type": "code",
   "execution_count": null,
   "metadata": {
    "ExecuteTime": {
     "end_time": "2016-03-28T19:14:52.280026",
     "start_time": "2016-03-28T11:54:28.318836"
    },
    "collapsed": false,
    "scrolled": true
   },
   "outputs": [],
   "source": [
    "from Codebase.Networks.SubgraphDetection.nonnegfac import nmf\n",
    "\n",
    "from multiprocessing import Pool\n",
    "parallel_run = True\n",
    "\n",
    "# Associate param search with a randomly chosen subject\n",
    "subj_cfgmatr_path = glob.glob(\"{}/*.cfg_matr.npz\".format(path_ExpData))\n",
    "proc_list = []\n",
    "for ii, param in enumerate(param_set):\n",
    "    path = np.random.permutation(subj_cfgmatr_path)[0]\n",
    "    proc_list.append((ii+1, param, path))\n",
    "    \n",
    "# Setup helper function to map pipeline run\n",
    "def _nmf_helper(proc_item):\n",
    "    ii, param, inp_path = proc_item\n",
    "    \n",
    "    # Load the file\n",
    "    #if os.path.exists(inp_path):\n",
    "    #    return 0\n",
    "    print(\" -- Processing: {}, with Parameter: {}\".format(inp_path.split('/')[-1],\n",
    "                                                          ii))\n",
    "    data = np.load(inp_path, mmap_mode='r')\n",
    "    \n",
    "    # Initialize the factors for NMF\n",
    "    fac_subnet = np.random.uniform(low=0, high=1.0,\n",
    "                                   size=(param['rank'],\n",
    "                                         data['cfg_matr'].shape[1]))\n",
    "    fac_coef = np.random.uniform(low=0, high=1.0,\n",
    "                                 size=(param['rank'],\n",
    "                                       data['cfg_matr'].shape[0]))\n",
    "\n",
    "    # Run NMF Algorithm\n",
    "    fac_subnet, fac_coef, err = nmf.snmf_bcd(\n",
    "        data['cfg_matr'],\n",
    "        alpha=param['alpha'], beta=param['beta'],\n",
    "        fac_subnet_init=fac_subnet,\n",
    "        fac_coef_init=fac_coef,\n",
    "        max_iter=100, verbose=False)\n",
    "    \n",
    "    # Cache the NMF result\n",
    "    np.savez(\"{}/subgraph_param_opt-{}.npz\".format(path_ExpData, ii),\n",
    "             fac_subnet=fac_subnet, fac_coef=fac_coef, err=err,\n",
    "             param=param, path=path)\n",
    "\n",
    "if parallel_run:\n",
    "    mp = Pool(7)\n",
    "    mp.map(_nmf_helper, proc_list)\n",
    "else:\n",
    "    map(_nmf_helper, proc_list)"
   ]
  },
  {
   "cell_type": "markdown",
   "metadata": {
    "collapsed": true
   },
   "source": [
    "## Analyze Parameter Search Space"
   ]
  },
  {
   "cell_type": "code",
   "execution_count": 3,
   "metadata": {
    "ExecuteTime": {
     "end_time": "2016-05-16T11:56:35.394988",
     "start_time": "2016-05-16T11:51:18.235682"
    },
    "collapsed": false,
    "scrolled": true
   },
   "outputs": [],
   "source": [
    "import scipy.stats as stats\n",
    "\n",
    "param_run = glob.glob(\"{}/subgraph_param_opt-*.npz\".format(path_ExpData))\n",
    "n_param = len(param_run)\n",
    "\n",
    "param_alpha = np.zeros(n_param)\n",
    "param_beta = np.zeros(n_param)\n",
    "param_rank = np.zeros(n_param)\n",
    "\n",
    "err = np.zeros(n_param)\n",
    "subnet_sparsity = np.zeros(n_param)\n",
    "coef_sparsity = np.zeros(n_param)\n",
    "\n",
    "ii = 0\n",
    "for path in param_run:\n",
    "    data = np.load(path, mmap_mode='r')\n",
    "    param = data['param'][()]\n",
    "    \n",
    "    param_alpha[ii] = param['alpha']\n",
    "    param_beta[ii] = param['beta']\n",
    "    param_rank[ii] = param['rank']\n",
    "\n",
    "    err[ii] = data['err'][-1]\n",
    "    subnet_sparsity[ii] = (data['fac_subnet'] == 0).mean()\n",
    "    coef_sparsity[ii] = (data['fac_coef'] == 0).mean()\n",
    "    \n",
    "    ii += 1\n",
    "\n",
    "param_alpha = param_alpha[:ii]\n",
    "param_beta = param_beta[:ii]\n",
    "param_rank = param_rank[:ii]\n",
    "\n",
    "err = err[:ii]\n",
    "subnet_sparsity = subnet_sparsity[:ii]\n",
    "coef_sparsity = coef_sparsity[:ii]"
   ]
  },
  {
   "cell_type": "markdown",
   "metadata": {},
   "source": [
    "### Display Parameter Search Space"
   ]
  },
  {
   "cell_type": "code",
   "execution_count": 5,
   "metadata": {
    "ExecuteTime": {
     "end_time": "2016-05-16T12:03:43.816157",
     "start_time": "2016-05-16T12:03:35.330451"
    },
    "collapsed": false,
    "scrolled": false
   },
   "outputs": [
    {
     "name": "stderr",
     "output_type": "stream",
     "text": [
      "/Users/akhambhati/Developer/miniconda2/envs/cb-nmfsubnet/lib/python2.7/site-packages/matplotlib/figure.py:1744: UserWarning: This figure includes Axes that are not compatible with tight_layout, so its results might be incorrect.\n",
      "  warnings.warn(\"This figure includes Axes that are not \"\n"
     ]
    }
   ],
   "source": [
    "%matplotlib inline\n",
    "from mpl_toolkits.mplot3d import Axes3D\n",
    "\n",
    "plt.figure()                \n",
    "ax = plt.subplot(111, projection='3d')\n",
    "\n",
    "ax.scatter(param_alpha, param_beta, param_rank, alpha=0.3, color='k', s=1.0)\n",
    "\n",
    "ax.set_xlabel('Alpha')\n",
    "ax.set_ylabel('Beta')\n",
    "ax.set_zlabel('Rank')\n",
    "\n",
    "plt.savefig('./e03-Figures/Parameter_Search_Space.svg')                           \n",
    "plt.close()  "
   ]
  },
  {
   "cell_type": "markdown",
   "metadata": {},
   "source": [
    "### Display Relationship Between Parameters and Quality Measures"
   ]
  },
  {
   "cell_type": "code",
   "execution_count": 6,
   "metadata": {
    "ExecuteTime": {
     "end_time": "2016-05-16T12:07:52.643068",
     "start_time": "2016-05-16T12:07:00.772672"
    },
    "collapsed": false,
    "scrolled": false
   },
   "outputs": [
    {
     "name": "stdout",
     "output_type": "stream",
     "text": [
      "Plotting -- Residual Error\n",
      "Plotting -- Pct Subgraph Sparse\n",
      "Plotting -- Pct Coef Sparse\n"
     ]
    },
    {
     "data": {
      "text/plain": [
       "<matplotlib.figure.Figure at 0x1112564d0>"
      ]
     },
     "metadata": {},
     "output_type": "display_data"
    },
    {
     "data": {
      "text/plain": [
       "<matplotlib.figure.Figure at 0x11230ad10>"
      ]
     },
     "metadata": {},
     "output_type": "display_data"
    },
    {
     "data": {
      "text/plain": [
       "<matplotlib.figure.Figure at 0x112379850>"
      ]
     },
     "metadata": {},
     "output_type": "display_data"
    },
    {
     "data": {
      "text/plain": [
       "<matplotlib.figure.Figure at 0x11151ec90>"
      ]
     },
     "metadata": {},
     "output_type": "display_data"
    },
    {
     "data": {
      "text/plain": [
       "<matplotlib.figure.Figure at 0x1110bdf50>"
      ]
     },
     "metadata": {},
     "output_type": "display_data"
    },
    {
     "data": {
      "text/plain": [
       "<matplotlib.figure.Figure at 0x118d89210>"
      ]
     },
     "metadata": {},
     "output_type": "display_data"
    },
    {
     "data": {
      "text/plain": [
       "<matplotlib.figure.Figure at 0x102eefe10>"
      ]
     },
     "metadata": {},
     "output_type": "display_data"
    },
    {
     "data": {
      "text/plain": [
       "<matplotlib.figure.Figure at 0x11a50de10>"
      ]
     },
     "metadata": {},
     "output_type": "display_data"
    },
    {
     "data": {
      "text/plain": [
       "<matplotlib.figure.Figure at 0x11b3fcbd0>"
      ]
     },
     "metadata": {},
     "output_type": "display_data"
    }
   ],
   "source": [
    "%matplotlib inline\n",
    "\n",
    "for qmeas, qname in [(err, 'Residual Error'),\n",
    "                     (subnet_sparsity, 'Pct Subgraph Sparse'),\n",
    "                     (coef_sparsity, 'Pct Coef Sparse')]:\n",
    "    print('Plotting -- {}'.format(qname))\n",
    "    \n",
    "    plt.figure()                \n",
    "    g = sns.jointplot(param_rank, qmeas, kind='kde',\n",
    "                       ylim=[np.min(qmeas), np.max(qmeas)])\n",
    "    g.set_axis_labels('Rank', qname)\n",
    "    plt.savefig('./e03-Figures/Param_{}-QMeas_{}.svg'.format('rank', qname))\n",
    "    plt.close()\n",
    "\n",
    "    plt.figure()\n",
    "    g = sns.jointplot((param_alpha), qmeas, kind='kde',\n",
    "                       ylim=[np.min(qmeas), np.max(qmeas)])\n",
    "    g.set_axis_labels('Alpha', qname)\n",
    "    plt.savefig('./e03-Figures/Param_{}-QMeas_{}.svg'.format('alpha', qname))\n",
    "    plt.close()\n",
    "\n",
    "    plt.figure()\n",
    "    g = sns.jointplot((param_beta), qmeas, kind='kde',\n",
    "                       ylim=[np.min(qmeas), np.max(qmeas)])\n",
    "    g.set_axis_labels('Beta', qname)\n",
    "    plt.savefig('./e03-Figures/Param_{}-QMeas_{}.svg'.format('beta', qname))\n",
    "    plt.close()    "
   ]
  },
  {
   "cell_type": "markdown",
   "metadata": {},
   "source": [
    "### Display Bivariate Distribution of Error and Sparsity"
   ]
  },
  {
   "cell_type": "code",
   "execution_count": 7,
   "metadata": {
    "ExecuteTime": {
     "end_time": "2016-05-16T12:13:18.493294",
     "start_time": "2016-05-16T12:13:00.974147"
    },
    "collapsed": false
   },
   "outputs": [
    {
     "data": {
      "text/plain": [
       "<matplotlib.figure.Figure at 0x103a680d0>"
      ]
     },
     "metadata": {},
     "output_type": "display_data"
    },
    {
     "data": {
      "text/plain": [
       "<matplotlib.figure.Figure at 0x11d356090>"
      ]
     },
     "metadata": {},
     "output_type": "display_data"
    },
    {
     "data": {
      "text/plain": [
       "<matplotlib.figure.Figure at 0x11d36cb90>"
      ]
     },
     "metadata": {},
     "output_type": "display_data"
    }
   ],
   "source": [
    "plt.figure()\n",
    "g = sns.jointplot(subnet_sparsity, err, kind='kde',\n",
    "                  xlim=[np.min(subnet_sparsity), np.max(subnet_sparsity)],\n",
    "                  ylim=[np.min(err), np.max(err)])\n",
    "g.set_axis_labels('Pct Subgraph Sparse', 'Residual Error')\n",
    "plt.savefig('./e03-Figures/QMeas_{}-QMeas_{}.svg'.format('Pct Subgraph Sparse', 'Residual Error'))\n",
    "plt.close()\n",
    "\n",
    "plt.figure()\n",
    "g = sns.jointplot(coef_sparsity, err, kind='kde',\n",
    "                  xlim=[np.min(coef_sparsity), np.max(coef_sparsity)],\n",
    "                  ylim=[np.min(err), np.max(err)])\n",
    "g.set_axis_labels('Pct Coef Sparse', 'Residual Error')\n",
    "plt.savefig('./e03-Figures/QMeas_{}-QMeas_{}.svg'.format('Pct Coef Sparse', 'Residual Error'))\n",
    "plt.close()\n",
    "\n",
    "plt.figure()\n",
    "g = sns.jointplot(subnet_sparsity, coef_sparsity, kind='kde',\n",
    "                  xlim=[np.min(subnet_sparsity), np.max(subnet_sparsity)],\n",
    "                  ylim=[np.min(coef_sparsity), np.max(coef_sparsity)])\n",
    "g.set_axis_labels('Pct Subgraph Sparse', 'Pct Coef Sparse')\n",
    "plt.savefig('./e03-Figures/QMeas_{}-QMeas_{}.svg'.format('Pct Subgraph Sparse', 'Pct Coef Sparse'))\n",
    "plt.close()"
   ]
  },
  {
   "cell_type": "markdown",
   "metadata": {
    "heading_collapsed": true
   },
   "source": [
    "### Find Optimal Parameters"
   ]
  },
  {
   "cell_type": "markdown",
   "metadata": {},
   "source": [
    "Minimize the residual error and maximize subgraph and temporal coefficient sparsity"
   ]
  },
  {
   "cell_type": "code",
   "execution_count": 72,
   "metadata": {
    "ExecuteTime": {
     "end_time": "2016-03-30T20:45:08.510638",
     "start_time": "2016-03-30T20:45:08.485985"
    },
    "collapsed": false
   },
   "outputs": [
    {
     "name": "stdout",
     "output_type": "stream",
     "text": [
      "Alpha: 1.36852679246 +/- 0.00954609840187\n",
      "Beta: 1.38259027296 +/- 0.00978854709068\n",
      "Rank: 16.6436851739 +/- 0.0727663476459\n"
     ]
    }
   ],
   "source": [
    "# Specify ranges\n",
    "err_range = [np.percentile(err, 0), np.percentile(err, 25)]\n",
    "subnet_sparsity_range = [np.percentile(subnet_sparsity, 75), np.percentile(subnet_sparsity, 100)]\n",
    "coef_sparsity_range = [np.percentile(coef_sparsity, 75), np.percentile(coef_sparsity, 100)]\n",
    "\n",
    "err_ix = np.flatnonzero((err >= err_range[0]) & (err <= err_range[1]))\n",
    "subnet_sparsity_ix = np.flatnonzero((subnet_sparsity >= subnet_sparsity_range[0]) &\n",
    "                                    (subnet_sparsity <= subnet_sparsity_range[1]))\n",
    "coef_sparsity_ix = np.flatnonzero((coef_sparsity >= coef_sparsity_range[0]) &\n",
    "                                    (coef_sparsity <= coef_sparsity_range[1]))\n",
    "\n",
    "param_ix = np.intersect1d(np.intersect1d(err_ix, subnet_sparsity_ix), coef_sparsity_ix)\n",
    "n_param = len(param_ix)\n",
    "\n",
    "print('Alpha: {} +/- {}'.format(np.mean(param_alpha[param_ix]),\n",
    "                                np.std(param_alpha[param_ix]) / np.sqrt(n_param)))\n",
    "print('Beta: {} +/- {}'.format(np.mean(param_beta[param_ix]),\n",
    "                               np.std(param_beta[param_ix]) / np.sqrt(n_param)))\n",
    "print('Rank: {} +/- {}'.format(np.mean(param_rank[param_ix]),\n",
    "                               np.std(param_rank[param_ix]) / np.sqrt(n_param)))"
   ]
  },
  {
   "cell_type": "markdown",
   "metadata": {
    "heading_collapsed": true
   },
   "source": [
    "# Detect Dynamic Subgraphs"
   ]
  },
  {
   "cell_type": "markdown",
   "metadata": {},
   "source": [
    "## Initialize Environment"
   ]
  },
  {
   "cell_type": "code",
   "execution_count": null,
   "metadata": {
    "collapsed": true
   },
   "outputs": [],
   "source": [
    "try:\n",
    "    %load_ext autoreload\n",
    "    %autoreload 2\n",
    "    \n",
    "except:\n",
    "    print 'NOT IPYTHON'\n",
    "\n",
    "from __future__ import division\n",
    "from IPython.display import display\n",
    "\n",
    "import os\n",
    "import sys\n",
    "import glob\n",
    "import json\n",
    "\n",
    "import numpy as np\n",
    "import pandas as pd\n",
    "import h5py\n",
    "import matplotlib.pyplot as plt\n",
    "import seaborn as sns\n",
    "\n",
    "os.chdir('../')\n",
    "import Codebase\n",
    "\n",
    "path_CoreData = '/Users/akhambhati/Remotes/hoth_research/CoreData/fMRI_multiband-mmattar/restdata'\n",
    "path_PeriphData = '/Users/akhambhati/Remotes/hoth_research/PeriphData/ds-NMF_Subnetworks'\n",
    "path_InpData = path_PeriphData + '/e01-Dyne_FuncNetw'\n",
    "path_ExpData = path_PeriphData + '/e03-DynFuncSubgraph'\n",
    "\n",
    "for path in [path_CoreData, path_PeriphData, path_InpData, path_ExpData]:\n",
    "    if not os.path.exists(path):\n",
    "        print('Path: {}, does not exist'.format(path))\n",
    "        os.makedirs(path)"
   ]
  },
  {
   "cell_type": "markdown",
   "metadata": {},
   "source": [
    "## Run Non-Negative Matrix Factorization Algorithm\n",
    "*__WARNING: Will Delete Existing Output__*"
   ]
  },
  {
   "cell_type": "code",
   "execution_count": null,
   "metadata": {
    "ExecuteTime": {
     "end_time": "2016-03-29T16:58:05.731325",
     "start_time": "2016-03-29T16:58:05.695664"
    },
    "collapsed": false
   },
   "outputs": [],
   "source": [
    "# Remove all existing output (retains pipe/pipeline definitions)\n",
    "rm_outp = glob.glob(\"{}/*.subgraph_seed-*.npz\".format(path_ExpData))\n",
    "\n",
    "for rm_type in [rm_outp]:\n",
    "    for path in rm_type:\n",
    "        try:\n",
    "            os.remove(path)\n",
    "        except:\n",
    "            print(\"{} not found\".format(path))"
   ]
  },
  {
   "cell_type": "code",
   "execution_count": null,
   "metadata": {
    "ExecuteTime": {
     "end_time": "2016-03-29T17:58:28.134804",
     "start_time": "2016-03-29T16:58:42.765783"
    },
    "collapsed": false,
    "scrolled": true
   },
   "outputs": [],
   "source": [
    "param = {'rank': 16,\n",
    "         'alpha': 1.37,\n",
    "         'beta': 1.38}\n",
    "n_seed = 100\n",
    "\n",
    "from Codebase.Networks.SubgraphDetection.nonnegfac import nmf\n",
    "from multiprocessing import Pool\n",
    "parallel_run = True\n",
    "\n",
    "# Generate a processing joblist\n",
    "subj_cfgmatr_path = glob.glob(\"{}/*.cfg_matr.npz\".format(path_ExpData))\n",
    "proc_list = []\n",
    "for seed in xrange(n_seed):\n",
    "    for path in subj_cfgmatr_path:\n",
    "        subj_name = path.split('/')[-1].split('.')[0]\n",
    "        proc_list.append({'subj_name': subj_name,\n",
    "                          'path': path,\n",
    "                          'param': param,\n",
    "                          'seed': seed+1})\n",
    "    \n",
    "# Setup helper function to map pipeline run\n",
    "def _nmf_helper(proc_item):\n",
    "    \n",
    "    # Load the file\n",
    "    #if os.path.exists(inp_path):\n",
    "    #    return 0\n",
    "    print(\" -- Processing: {}, with Parameter: {}\".format(proc_item['subj_name'],\n",
    "                                                          proc_item['seed']))\n",
    "    data = np.load(proc_item['path'], mmap_mode='r')\n",
    "    \n",
    "    # Initialize the factors for NMF\n",
    "    fac_subnet = np.random.uniform(low=0, high=1.0,\n",
    "                                   size=(proc_item['param']['rank'],\n",
    "                                         data['cfg_matr'].shape[1]))\n",
    "    fac_coef = np.random.uniform(low=0, high=1.0,\n",
    "                                 size=(proc_item['param']['rank'],\n",
    "                                       data['cfg_matr'].shape[0]))\n",
    "\n",
    "    # Run NMF Algorithm\n",
    "    fac_subnet, fac_coef, err = nmf.snmf_bcd(\n",
    "        data['cfg_matr'],\n",
    "        alpha=proc_item['param']['alpha'],\n",
    "        beta=proc_item['param']['beta'],\n",
    "        fac_subnet_init=fac_subnet,\n",
    "        fac_coef_init=fac_coef,\n",
    "        max_iter=100, verbose=False)\n",
    "    \n",
    "    # Cache the NMF result\n",
    "    np.savez(\"{}/{}.subgraph_seed-{}.npz\".format(path_ExpData,\n",
    "                                                 proc_item['subj_name'],\n",
    "                                                 proc_item['seed']),\n",
    "             fac_subnet=fac_subnet, fac_coef=fac_coef, err=err,\n",
    "             param=proc_item['param'], path=proc_item['path'])\n",
    "\n",
    "if parallel_run:\n",
    "    mp = Pool(7)\n",
    "    mp.map(_nmf_helper, proc_list)\n",
    "else:\n",
    "    map(_nmf_helper, proc_list)"
   ]
  },
  {
   "cell_type": "markdown",
   "metadata": {},
   "source": [
    "# Statistics on Dynamic Subgraphs"
   ]
  },
  {
   "cell_type": "markdown",
   "metadata": {},
   "source": [
    "## Initialize Environment"
   ]
  },
  {
   "cell_type": "code",
   "execution_count": 1,
   "metadata": {
    "ExecuteTime": {
     "end_time": "2016-06-04T12:02:59.394190",
     "start_time": "2016-06-04T12:02:59.059177"
    },
    "collapsed": false
   },
   "outputs": [
    {
     "name": "stderr",
     "output_type": "stream",
     "text": [
      "/Users/akhambhati/Developer/miniconda2/envs/cb-nmfsubnet/lib/python2.7/site-packages/matplotlib/__init__.py:872: UserWarning: axes.color_cycle is deprecated and replaced with axes.prop_cycle; please use the latter.\n",
      "  warnings.warn(self.msg_depr % (key, alt_key))\n"
     ]
    }
   ],
   "source": [
    "try:\n",
    "    %load_ext autoreload\n",
    "    %autoreload 2\n",
    "    \n",
    "except:\n",
    "    print 'NOT IPYTHON'\n",
    "\n",
    "from __future__ import division\n",
    "from IPython.display import display\n",
    "\n",
    "import os\n",
    "import sys\n",
    "import glob\n",
    "import json\n",
    "\n",
    "import numpy as np\n",
    "import pandas as pd\n",
    "import h5py\n",
    "\n",
    "import matplotlib.pyplot as plt\n",
    "import matplotlib.patches as patches\n",
    "from matplotlib import rcParams\n",
    "import fig_plotting\n",
    "rcParams = fig_plotting.update_rcparams(rcParams)\n",
    "\n",
    "os.chdir('../')\n",
    "import Codebase\n",
    "os.chdir('./Analysis Notebooks/')\n",
    "\n",
    "path_CoreData = '/Users/akhambhati/Remotes/hoth_research/CoreData/fMRI_multiband-mmattar/restdata'\n",
    "path_PeriphData = '/Users/akhambhati/Remotes/hoth_research/PeriphData/ds-NMF_Subnetworks'\n",
    "path_InpData = path_PeriphData + '/e01-Dyne_FuncNetw'\n",
    "path_ExpData = path_PeriphData + '/e03-DynFuncSubgraph'\n",
    "\n",
    "for path in [path_CoreData, path_PeriphData, path_InpData, path_ExpData]:\n",
    "    if not os.path.exists(path):\n",
    "        print('Path: {}, does not exist'.format(path))\n",
    "        os.makedirs(path)"
   ]
  },
  {
   "cell_type": "markdown",
   "metadata": {},
   "source": [
    "## Generate List of Data"
   ]
  },
  {
   "cell_type": "code",
   "execution_count": 2,
   "metadata": {
    "ExecuteTime": {
     "end_time": "2016-06-04T12:03:01.513457",
     "start_time": "2016-06-04T12:03:01.162652"
    },
    "collapsed": false
   },
   "outputs": [],
   "source": [
    "subj_ids = np.unique([full_subj_path.split('/')[-1].split('.')[0]\n",
    "                      for full_subj_path in glob.iglob('{}/*.subgraph_seed-*.npz'.format(path_ExpData))])\n",
    "\n",
    "subj_seeds = {}\n",
    "for subj in subj_ids:\n",
    "    subj_seeds[subj] = {'seed_path': [full_subj_path\n",
    "                                      for full_subj_path in glob.iglob('{}/{}.subgraph_seed-*.npz'.format(path_ExpData, subj))],\n",
    "                        'cfg_path': '{}/{}.cfg_matr.npz'.format(path_ExpData, subj)}"
   ]
  },
  {
   "cell_type": "markdown",
   "metadata": {},
   "source": [
    "## Consensus Dynamic Subgraphs"
   ]
  },
  {
   "cell_type": "code",
   "execution_count": 46,
   "metadata": {
    "ExecuteTime": {
     "end_time": "2016-03-30T09:48:16.110314",
     "start_time": "2016-03-30T09:38:50.439666"
    },
    "collapsed": false
   },
   "outputs": [
    {
     "name": "stdout",
     "output_type": "stream",
     "text": [
      " -- Processing: h010615p\n",
      " -- Processing: j032315w\n",
      " -- Processing: A010615C\n",
      " -- Processing: b031615b\n",
      " -- Processing: a012615k\n",
      " -- Processing: d011215h\n",
      " -- Processing: a022315k\n",
      " -- Processing: b020315b\n",
      " -- Processing: k031615k\n",
      " -- Processing: m020915s\n",
      " -- Processing: s031015v\n",
      " -- Processing: n032315o\n",
      " -- Processing: H020915Z\n",
      " -- Processing: m011215c\n",
      " -- Processing: a020315s\n",
      " -- Processing: h022315k\n",
      " -- Processing: m030215g\n",
      " -- Processing: M030215R\n",
      " -- Processing: j030915h\n",
      " -- Processing: b012615o\n"
     ]
    }
   ],
   "source": [
    "from Codebase.Networks.SubgraphDetection.nonnegfac import nmf\n",
    "\n",
    "for ii, (subj, paths) in enumerate(subj_seeds.items()):\n",
    "    print(\" -- Processing: {}\".format(subj))\n",
    "    \n",
    "    fac_subnet_seeds = []\n",
    "    for ix, path in enumerate(paths['seed_path']):\n",
    "        data = np.load(path, mmap_mode='r')\n",
    "        fac_subnet = data['fac_subnet'][:, :]\n",
    "        data.close()\n",
    "        \n",
    "        n_fac = fac_subnet.shape[0]\n",
    "        n_conn = fac_subnet.shape[1]\n",
    "\n",
    "        for ix in xrange(fac_subnet.shape[0]):\n",
    "            fac_subnet_seeds.append(fac_subnet[ix, :])\n",
    "    fac_subnet_seeds = np.array(fac_subnet_seeds)\n",
    "    \n",
    "    n_obs = fac_subnet_seeds.shape[0]\n",
    "    n_conn = fac_subnet_seeds.shape[1]\n",
    "\n",
    "    # Consensus Subgraphs\n",
    "    fac_cons_subnet, fac_cons_seeds, err = nmf.snmf_bcd(\n",
    "        fac_subnet_seeds,\n",
    "        alpha=0.0,\n",
    "        beta=0.0,\n",
    "        fac_subnet_init=np.random.uniform(low=0.0, high=1.0, size=(n_fac, n_conn)),\n",
    "        fac_coef_init=np.random.uniform(low=0.0, high=1.0, size=(n_fac, n_obs)),\n",
    "        max_iter=100, verbose=False)\n",
    "    \n",
    "    # Consensus Coefficients\n",
    "    data_cfg = np.load(paths['cfg_path'], mmap_mode='r')\n",
    "    n_win = data_cfg['cfg_matr'].shape[0]\n",
    "    fac_cons_subnet_2, fac_cons_coef_2, err = nmf.snmf_bcd(\n",
    "        data_cfg['cfg_matr'],\n",
    "        alpha=0.0,\n",
    "        beta=0.0,\n",
    "        fac_subnet_init=fac_cons_subnet,\n",
    "        fac_coef_init=np.random.uniform(low=0.0, high=1.0, size=(n_fac, n_win)),\n",
    "        max_iter=100, verbose=False)\n",
    "    \n",
    "    # Cache the Consensus NMF result\n",
    "    np.savez(\"{}/{}.consensus_subgraph.npz\".format(path_ExpData,\n",
    "                                                   subj),\n",
    "             fac_subnet=fac_cons_subnet_2, fac_coef=fac_cons_coef_2, err=err)"
   ]
  },
  {
   "cell_type": "code",
   "execution_count": 18,
   "metadata": {
    "ExecuteTime": {
     "end_time": "2016-06-05T14:57:44.405711",
     "start_time": "2016-06-05T14:54:02.151043"
    },
    "collapsed": false,
    "scrolled": false
   },
   "outputs": [],
   "source": [
    "%matplotlib inline\n",
    "\n",
    "for ss in subj_ids:\n",
    "    data = np.load(\"{}/{}.consensus_subgraph.npz\".format(path_ExpData, ss),\n",
    "                   mmap_mode='r')\n",
    "    fac_subnet = data['fac_subnet']\n",
    "    fac_coef = data['fac_coef']\n",
    "\n",
    "    n_fac = fac_subnet.shape[0]\n",
    "    n_conn = fac_subnet.shape[1]\n",
    "    n_win = fac_coef.shape[1]\n",
    "    \n",
    "    # Plot subgraph matrix\n",
    "    plt.figure()\n",
    "    ax = plt.subplot(111)\n",
    "    mat = ax.matshow(fac_subnet.T, aspect=n_fac/n_conn, cmap='rainbow')\n",
    "    plt.colorbar(mat, ax=ax)\n",
    "    \n",
    "    ax.yaxis.set_ticks_position('left')\n",
    "    ax.xaxis.set_ticks_position('bottom')\n",
    "    #ax.set_xticks(np.linspace(0, 80, 5))\n",
    "    ax.set_ylabel('Functional Interactions')\n",
    "    ax.set_xlabel('Subgraphs')\n",
    "\n",
    "    plt.savefig('./e01-Figures/{}-Subgraph-Cfg_Matrix.svg'.format(ss))\n",
    "    plt.close()      \n",
    "    \n",
    "    # Plot subgraph adjacency\n",
    "    for ii, subg in enumerate(fac_subnet):\n",
    "        adj = Codebase.Networks.configuration.convert_conn_vec_to_adj_matr(subg)\n",
    "        \n",
    "        plt.figure()\n",
    "        ax = plt.subplot(111)\n",
    "        mat = ax.matshow(adj, cmap='rainbow')\n",
    "        plt.colorbar(mat, ax=ax)\n",
    "        \n",
    "        ax.yaxis.set_ticks_position('left')\n",
    "        ax.xaxis.set_ticks_position('bottom')\n",
    "        ax.set_ylabel('Brain Regions')\n",
    "        ax.set_xlabel('Brain Regions')\n",
    "\n",
    "        plt.savefig('./e01-Figures/{}-Subgraph-Adj-{}.svg'.format(ss, ii+1))\n",
    "        plt.close()      \n",
    "\n",
    "    # Plot Coefficients\n",
    "    plt.figure()\n",
    "    ax = plt.subplot(111)\n",
    "\n",
    "    fac_coef = fac_coef.T\n",
    "    norm_fac = fac_coef - fac_coef.mean(axis=0)\n",
    "    for ff in xrange(n_fac):\n",
    "        ax.plot(ff + norm_fac[:, ff] / (3*np.std(norm_fac[:, ff])), color=[66/256., 152/256., 221./256])\n",
    "\n",
    "    # Axis Settings\n",
    "    ax.yaxis.set_ticks_position('left')\n",
    "    ax.xaxis.set_ticks_position('bottom')\n",
    "    ax.set_ylim([-1, n_fac+1])\n",
    "    ax.set_ylabel('Subgraphs')\n",
    "    ax.set_xlabel('Time Windows')\n",
    "\n",
    "    plt.savefig('./e01-Figures/{}-Subgraph-Coefs.svg'.format(ss))\n",
    "    plt.close()  "
   ]
  },
  {
   "cell_type": "code",
   "execution_count": null,
   "metadata": {
    "collapsed": true
   },
   "outputs": [],
   "source": []
  },
  {
   "cell_type": "code",
   "execution_count": null,
   "metadata": {
    "collapsed": true
   },
   "outputs": [],
   "source": []
  }
 ],
 "metadata": {
  "anaconda-cloud": {},
  "kernelspec": {
   "display_name": "Env-Echobase",
   "language": "python",
   "name": "env-echobase"
  },
  "language_info": {
   "codemirror_mode": {
    "name": "ipython",
    "version": 2
   },
   "file_extension": ".py",
   "mimetype": "text/x-python",
   "name": "python",
   "nbconvert_exporter": "python",
   "pygments_lexer": "ipython2",
   "version": "2.7.13"
  },
  "latex_envs": {
   "bibliofile": "biblio.bib",
   "cite_by": "apalike",
   "current_citInitial": 1,
   "eqLabelWithNumbers": true,
   "eqNumInitial": 0
  },
  "toc": {
   "toc_cell": true,
   "toc_number_sections": true,
   "toc_section_display": "none",
   "toc_threshold": 6,
   "toc_window_display": true
  }
 },
 "nbformat": 4,
 "nbformat_minor": 0
}
