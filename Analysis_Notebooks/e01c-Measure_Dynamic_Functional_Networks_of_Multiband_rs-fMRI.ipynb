{
 "cells": [
  {
   "cell_type": "markdown",
   "metadata": {
    "deletable": true,
    "editable": true,
    "toc": "true"
   },
   "source": [
    "# Table of Contents\n",
    " <p><div class=\"lev1 toc-item\"><a href=\"#Multiband-Resting-State-fMRI\" data-toc-modified-id=\"Multiband-Resting-State-fMRI-1\"><span class=\"toc-item-num\">1&nbsp;&nbsp;</span>Multiband Resting-State fMRI</a></div><div class=\"lev2 toc-item\"><a href=\"#Summary\" data-toc-modified-id=\"Summary-11\"><span class=\"toc-item-num\">1.1&nbsp;&nbsp;</span>Summary</a></div><div class=\"lev2 toc-item\"><a href=\"#Methodology\" data-toc-modified-id=\"Methodology-12\"><span class=\"toc-item-num\">1.2&nbsp;&nbsp;</span>Methodology</a></div><div class=\"lev1 toc-item\"><a href=\"#Measure-Dynamic-Functional-Connectivity\" data-toc-modified-id=\"Measure-Dynamic-Functional-Connectivity-2\"><span class=\"toc-item-num\">2&nbsp;&nbsp;</span>Measure Dynamic Functional Connectivity</a></div><div class=\"lev2 toc-item\"><a href=\"#Initialize-Environment\" data-toc-modified-id=\"Initialize-Environment-21\"><span class=\"toc-item-num\">2.1&nbsp;&nbsp;</span>Initialize Environment</a></div><div class=\"lev2 toc-item\"><a href=\"#Generate-List-of-Data\" data-toc-modified-id=\"Generate-List-of-Data-22\"><span class=\"toc-item-num\">2.2&nbsp;&nbsp;</span>Generate List of Data</a></div><div class=\"lev2 toc-item\"><a href=\"#Design-and-Run-DyNe-Pipeline\" data-toc-modified-id=\"Design-and-Run-DyNe-Pipeline-23\"><span class=\"toc-item-num\">2.3&nbsp;&nbsp;</span>Design and Run DyNe Pipeline</a></div><div class=\"lev3 toc-item\"><a href=\"#Plot-Sample-BOLD-Signal\" data-toc-modified-id=\"Plot-Sample-BOLD-Signal-231\"><span class=\"toc-item-num\">2.3.1&nbsp;&nbsp;</span>Plot Sample BOLD Signal</a></div><div class=\"lev3 toc-item\"><a href=\"#Generate-proc_list\" data-toc-modified-id=\"Generate-proc_list-232\"><span class=\"toc-item-num\">2.3.2&nbsp;&nbsp;</span>Generate proc_list</a></div><div class=\"lev3 toc-item\"><a href=\"#Echobase-Pipeline-for-adajcency-matrices\" data-toc-modified-id=\"Echobase-Pipeline-for-adajcency-matrices-233\"><span class=\"toc-item-num\">2.3.3&nbsp;&nbsp;</span>Echobase Pipeline for adajcency matrices</a></div><div class=\"lev3 toc-item\"><a href=\"#Run-the-Pipeline\" data-toc-modified-id=\"Run-the-Pipeline-234\"><span class=\"toc-item-num\">2.3.4&nbsp;&nbsp;</span>Run the Pipeline</a></div><div class=\"lev2 toc-item\"><a href=\"#Plot-Adjacency-Matrices\" data-toc-modified-id=\"Plot-Adjacency-Matrices-24\"><span class=\"toc-item-num\">2.4&nbsp;&nbsp;</span>Plot Adjacency Matrices</a></div><div class=\"lev2 toc-item\"><a href=\"#Verify-Dynamic-Functional-Connectivity\" data-toc-modified-id=\"Verify-Dynamic-Functional-Connectivity-25\"><span class=\"toc-item-num\">2.5&nbsp;&nbsp;</span>Verify Dynamic Functional Connectivity</a></div>"
   ]
  },
  {
   "cell_type": "markdown",
   "metadata": {
    "deletable": true,
    "editable": true,
    "heading_collapsed": true
   },
   "source": [
    "# Multiband Resting-State fMRI"
   ]
  },
  {
   "cell_type": "markdown",
   "metadata": {
    "deletable": true,
    "editable": true,
    "heading_collapsed": true
   },
   "source": [
    "## Summary"
   ]
  },
  {
   "cell_type": "markdown",
   "metadata": {
    "deletable": true,
    "editable": true
   },
   "source": [
    "*__Introduction__*\n",
    "\n",
    "  * The brain is a complex organ that manifests a network of interactions, at the finer scale, between neurons and neuron populations, and at the meso-scale, between large functional domains. Over time, the pattern of interactions between brain regions change, describing a dynamic system capable of supporting cognition during tasks and at rest.\n",
    "  \n",
    "  * Recent advances in functional brain imaging make it possible to acquire images from multiple brain slices simultaneously, known as multiband imaging. \n",
    "  \n",
    "  * Multiband imaging improves the sampling frequency of the blood oxygenation level dependant (BOLD) signal from $\\approx$0.5 Hz to $\\approx$2.0 Hz. With faster sampling of the BOLD signal, we are able to examine functional interactions across whole brain at unprecendent temporal resolution.\n",
    "  \n",
    "  * Previous work has indicated that functional associations between low-frequency components of the fMRI signal (0–0.15 Hz) can be attributed to task-related functional connectivity, whereas associations between high-frequency components (0.2–0.4 Hz) cannot. This frequency specificity of task-relevant functional connectivity is likely to be due at least in part to the hemodynamic response function, which might act as a noninvertible bandpass filter on underlying neural activity.\n",
    "  \n",
    "*__References__*\n",
    "  - Pan, Wen-Ju, et al. \"Infraslow LFP correlates to resting-state fMRI BOLD signals.\" Neuroimage 74 (2013): 288-297.\n",
    "  - F. T. Sun, L. M. Miller, and M. D’Esposito, “Measuring interregional functional connectivity using coherence and partial coherence analyses of fMRI data.” Neuroimage 21 (2004): 647–658.\n",
    "\n"
   ]
  },
  {
   "cell_type": "markdown",
   "metadata": {
    "collapsed": false,
    "deletable": true,
    "editable": true,
    "heading_collapsed": true
   },
   "source": [
    "## Methodology"
   ]
  },
  {
   "cell_type": "markdown",
   "metadata": {
    "deletable": true,
    "editable": true
   },
   "source": [
    "*__Multi-Taper Coherence__*\n",
    "\n",
    "  * Multi-Taper methods are designed to limit the leakage of spectral power from other frequency bands into the frequency bands of interest. This is a critical concern when spectral properties of the signal are computed in discrete temporal windows. Different shapes of the temporal window can cause unwanted effects in the Fourier domain.\n",
    "\n",
    "  * The choice of window length and shape impacts the allowable frequency resolution of the signal power spectrum. Slepian sequences, or orthogonal, wave-like eigenfunctions, give the optimal windowing to achieve a spectral bandwidth resolution on the interval $[-W, W]$. To achieve this resolution, multiple sequences are required, such that the optimal number of Slepian sequences, $k\\approx2WT$, where $k$ is the number of Slepian sequences, $2W$ is the desired spectral resolution bandwidth, and $T$ is the duration of the window.\n",
    "  \n",
    "  * Suppose we wanted to estimate dynamic functional connectivity of fMRI in 30 second windows between 0.034 Hz and 0.167 Hz (i.e. a bandwidth resolution of 0.133 Hz), then the time-bandwidth product would be $4.0 = 0.133 Hz * 30 sec$, and the optimal number of tapers would be $2*4.0-1 = 7$.\n",
    "  \n",
    "   "
   ]
  },
  {
   "cell_type": "markdown",
   "metadata": {
    "deletable": true,
    "editable": true
   },
   "source": [
    "# Measure Dynamic Functional Connectivity"
   ]
  },
  {
   "cell_type": "markdown",
   "metadata": {
    "deletable": true,
    "editable": true
   },
   "source": [
    "## Initialize Environment"
   ]
  },
  {
   "cell_type": "code",
   "execution_count": null,
   "metadata": {
    "collapsed": false,
    "deletable": true,
    "editable": true
   },
   "outputs": [],
   "source": [
    "try:\n",
    "    %load_ext autoreload\n",
    "    %autoreload 2\n",
    "    %reset\n",
    "except:\n",
    "    print 'NOT IPYTHON'\n",
    "\n",
    "from __future__ import division\n",
    "\n",
    "import os\n",
    "import sys\n",
    "import glob\n",
    "\n",
    "import numpy as np\n",
    "import pandas as pd\n",
    "import seaborn as sns\n",
    "import scipy.stats as stats\n",
    "import scipy.io as io\n",
    "import h5py\n",
    "import matplotlib.pyplot as plt\n",
    "from matplotlib import rcParams\n",
    "\n",
    "sys.path.append('/Users/akhambhati/Developer/hoth_research/Echobase')\n",
    "import Echobase\n",
    "convert_conn_vec_to_adj_matr = Echobase.Network.Transforms.configuration.convert_conn_vec_to_adj_matr\n",
    "convert_adj_matr_to_cfg_matr = Echobase.Network.Transforms.configuration.convert_adj_matr_to_cfg_matr\n",
    "\n",
    "rcParams = Echobase.Plotting.fig_format.update_rcparams(rcParams)\n",
    "\n",
    "path_CoreData = '/Users/akhambhati/Remotes/CORE.fMRI_multiband.mmattar/ValueLearning/Glasser180/wGSregress'\n",
    "path_PeriphData = '/Users/akhambhati/Remotes/RSRCH.NMF_Subnetworks'\n",
    "path_ExpData = path_PeriphData + '/e01c-Dyne_FuncNetw'\n",
    "\n",
    "for path in [path_CoreData, path_PeriphData, path_ExpData]:\n",
    "    if not os.path.exists(path):\n",
    "        print('Path: {}, does not exist'.format(path))\n",
    "        os.makedirs(path)\n",
    "        \n",
    "if not os.path.exists('./e01c-Figures'):\n",
    "    os.makedirs('./e01c-Figures')"
   ]
  },
  {
   "cell_type": "markdown",
   "metadata": {
    "deletable": true,
    "editable": true
   },
   "source": [
    "## Generate List of Data"
   ]
  },
  {
   "cell_type": "code",
   "execution_count": null,
   "metadata": {
    "collapsed": false,
    "deletable": true,
    "editable": true
   },
   "outputs": [],
   "source": [
    "subj_ids = [full_subj_path.split('/')[-1]\n",
    "         for full_subj_path in glob.iglob('{}/*'.format(path_CoreData))]\n",
    "run_ids = ['day1', 'day2', 'day3', 'day4']\n",
    "\n",
    "subj_dict = {}\n",
    "for subj_id in subj_ids:\n",
    "    subj_dict[subj_id] = []\n",
    "    \n",
    "    for run_id in run_ids:\n",
    "        run_path = '{}/{}/{}/REST/TS_Glasser180.csv'.format(path_CoreData, subj_id, run_id)\n",
    "        subj_dict[subj_id].append(run_path)"
   ]
  },
  {
   "cell_type": "markdown",
   "metadata": {
    "deletable": true,
    "editable": true
   },
   "source": [
    "## Design and Run DyNe Pipeline"
   ]
  },
  {
   "cell_type": "markdown",
   "metadata": {
    "deletable": true,
    "editable": true
   },
   "source": [
    "### Plot Sample BOLD Signal"
   ]
  },
  {
   "cell_type": "code",
   "execution_count": null,
   "metadata": {
    "collapsed": false,
    "deletable": true,
    "editable": true,
    "scrolled": false
   },
   "outputs": [],
   "source": [
    "#%matplotlib inline\n",
    "\n",
    "for subj_id in subj_dict.keys():\n",
    "    for run_path in subj_dict[subj_id]:\n",
    "                    \n",
    "        df = pd.read_csv(run_path)\n",
    "        norm_df = (df - df.mean(axis=0)).as_matrix()\n",
    "        norm_df = norm_df / (0.75*np.std(norm_df, axis=0))\n",
    "        \n",
    "        n_samp = df.shape[0]\n",
    "        Fs = 2.0\n",
    "        time = 120\n",
    "        samples = np.arange(0, time*Fs)\n",
    "        \n",
    "        # Construct result figure\n",
    "        plt.figure()\n",
    "        ax = plt.subplot(111)\n",
    "        \n",
    "        ch_subset = np.arange(0, df.shape[1], 8)\n",
    "        for ch in ch_subset:\n",
    "            ax.plot(samples/Fs, ch + norm_df[map(int, samples), ch], color=[66/256., 152/256., 221./256])\n",
    "            #ax.plot(time, ch + norm_df[:, ch]/(0.75*norm_df[:, ch].max()), )\n",
    "            #break\n",
    "\n",
    "        ax.set_ylim([ch_subset.min()-4, ch_subset.max()+4])\n",
    "\n",
    "        # Axis Settings\n",
    "        ax.yaxis.set_ticks_position('left')\n",
    "        ax.xaxis.set_ticks_position('bottom')\n",
    "        ax.set_xticks([0, 30, 60, 90, 120])\n",
    "        ax.set_ylim([ch_subset.min()-6, ch_subset.max()+6])\n",
    "        ax.set_ylabel('Brain Regions')\n",
    "        ax.set_xlabel('Time (sec)')\n",
    "        \n",
    "        plt.savefig('./e01c-Figures/BOLD_Signal.svg')\n",
    "        plt.show()\n",
    "        break\n",
    "    break"
   ]
  },
  {
   "cell_type": "markdown",
   "metadata": {
    "deletable": true,
    "editable": true
   },
   "source": [
    "### Generate proc_list"
   ]
  },
  {
   "cell_type": "code",
   "execution_count": null,
   "metadata": {
    "collapsed": false,
    "deletable": true,
    "editable": true
   },
   "outputs": [],
   "source": [
    "proc_list = []\n",
    "\n",
    "for subj_id in subj_dict.keys():\n",
    "    for run_id, run_path in zip(run_ids, subj_dict[subj_id]):\n",
    "        \n",
    "        # Generate path to the input fMRI clip\n",
    "        adj_path = '{}/Adjacency.{}.{}.npz'.format(path_ExpData,\n",
    "                                                   subj_id, run_id)\n",
    "        \n",
    "        if not os.path.exists(run_path):\n",
    "            print('Procesing item: {}, not found'.format(run_path))\n",
    "            continue\n",
    "            \n",
    "        proc_list.append({'bold_path': run_path,\n",
    "                          'adj_path': adj_path})"
   ]
  },
  {
   "cell_type": "markdown",
   "metadata": {
    "deletable": true,
    "editable": true
   },
   "source": [
    "### Echobase Pipeline for adajcency matrices"
   ]
  },
  {
   "cell_type": "code",
   "execution_count": null,
   "metadata": {
    "collapsed": false,
    "deletable": true,
    "editable": true
   },
   "outputs": [],
   "source": [
    "# Parameters\n",
    "params = {'signal': {},\n",
    "          'coherence': {}}\n",
    "\n",
    "# Signal processing\n",
    "params['signal'] = {'fs': 2,\n",
    "                    'win_len': 30.0,\n",
    "                    'win_disp': 30.0}\n",
    "\n",
    "# Coherence measurement\n",
    "params['coherence'] = {'time_band': 2.5,\n",
    "                       'n_taper': 4,\n",
    "                       'cf': [0.034, 0.20]}\n",
    "\n",
    "\n",
    "def measure_coherence(proc_item):\n",
    "    print('\\nProcessing: {}'.format(proc_item['bold_path']))\n",
    "    \n",
    "    # Load the BOLD Signal from CSV\n",
    "    df = np.array(np.genfromtxt(proc_item['bold_path'], delimiter=','),\n",
    "                  dtype=np.float)\n",
    "    \n",
    "    n_sample, n_node = df.shape\n",
    "    \n",
    "    \n",
    "    # Check window size and displacement\n",
    "    n_win_len = int(params['signal']['win_len'] * params['signal']['fs'])\n",
    "    n_win_disp = int(params['signal']['win_disp'] * params['signal']['fs'])\n",
    "    if n_win_len > n_sample:\n",
    "        raise ValueError('win_len cannot be longer than signal duration')\n",
    "    n_wins = int((n_sample - n_win_len) /\n",
    "                 n_win_disp) + 1\n",
    "            \n",
    "    # Compute dynamic functional connectivity\n",
    "    # Initialize a time-varying adjacency matrix\n",
    "    adj_matr = np.zeros((n_wins, n_node, n_node))\n",
    "    for win_id, idx in enumerate(range(0, n_wins * n_win_disp, n_win_disp)):\n",
    "        win = df[idx:idx+n_win_len, :]\n",
    "        adj_matr[win_id, ...] = Echobase.Network.Functional.coherence.multitaper(win, params['signal']['fs'],\n",
    "                                                                                 **params['coherence'])\n",
    "    # Save the output\n",
    "    np.savez(proc_item['adj_path'],\n",
    "             adj_matr=adj_matr)"
   ]
  },
  {
   "cell_type": "markdown",
   "metadata": {
    "deletable": true,
    "editable": true
   },
   "source": [
    "### Run the Pipeline"
   ]
  },
  {
   "cell_type": "code",
   "execution_count": null,
   "metadata": {
    "collapsed": false,
    "deletable": true,
    "editable": true,
    "scrolled": false
   },
   "outputs": [],
   "source": [
    "from multiprocessing import Pool\n",
    "parallel_run = True    \n",
    "    \n",
    "if parallel_run:\n",
    "    mp = Pool(7)\n",
    "    mp.map(measure_coherence, proc_list)\n",
    "else:\n",
    "    map(measure_coherence, proc_list)"
   ]
  },
  {
   "cell_type": "markdown",
   "metadata": {
    "deletable": true,
    "editable": true
   },
   "source": [
    "## Plot Adjacency Matrices"
   ]
  },
  {
   "cell_type": "code",
   "execution_count": null,
   "metadata": {
    "collapsed": false,
    "deletable": true,
    "editable": true,
    "scrolled": false
   },
   "outputs": [],
   "source": [
    "# Get list of Output Files\n",
    "adj_paths = glob.glob('{}/Adjacency.*.npz'.format(path_ExpData))\n",
    "adj_path = np.random.permutation(adj_paths)[0]\n",
    "\n",
    "# Figure\n",
    "%matplotlib inline\n",
    "for ix, ii in enumerate([0, 1, -1]):\n",
    "       \n",
    "    df = np.load(adj_path)\n",
    "    data = df['adj_matr'][ix, :, :]\n",
    "    df.close()\n",
    "\n",
    "    plt.figure()\n",
    "    ax = plt.subplot(111)\n",
    "    mat = ax.matshow(data, cmap='viridis', vmin=0, vmax=1)\n",
    "    ax.set_axis_off()\n",
    "    \n",
    "    plt.savefig('./e01-Figures/Sample_Adjacency_{}.svg'.format(ix+1))\n",
    "    plt.show()\n",
    "    plt.close()  "
   ]
  },
  {
   "cell_type": "markdown",
   "metadata": {
    "deletable": true,
    "editable": true
   },
   "source": [
    "## Verify Dynamic Functional Connectivity"
   ]
  },
  {
   "cell_type": "code",
   "execution_count": null,
   "metadata": {
    "collapsed": false,
    "deletable": true,
    "editable": true
   },
   "outputs": [],
   "source": [
    "n_subj = len(subj_ids.keys())\n",
    "n_date = len(subj_ids[subj_ids.keys()[0]])\n",
    "\n",
    "var_edge_dyn = np.zeros((n_subj, n_date))\n",
    "var_edge_null = np.zeros((n_subj, n_date))\n",
    "\n",
    "for s_i, subj_id in enumerate(subj_ids.keys()):\n",
    "    for d_i, date_id in enumerate(subj_ids[subj_id]):\n",
    "        \n",
    "        # Load the data\n",
    "        df = np.load('{}/Adjacency.{}.{}.npz'.format(path_ExpData, subj_id, date_id))\n",
    "        \n",
    "        # Compute the standard deviation of the dynamic edge fluctuation\n",
    "        adj_matr = df['adj_matr']\n",
    "        cfg_matr = convert_adj_matr_to_cfg_matr(adj_matr)\n",
    "        var_edge_dyn[s_i, d_i] = np.mean(np.var(cfg_matr, axis=0))\n",
    "        \n",
    "        # Compute the standard deviation of the surrogate, static adjacency matrices\n",
    "        adj_surr_matr = df['adj_surr_matr']\n",
    "        cfg_surr_matr = convert_adj_matr_to_cfg_matr(adj_surr_matr)\n",
    "        var_edge_null[s_i, d_i] = np.mean(np.var(cfg_surr_matr, axis=0))\n",
    "        \n",
    "# Figure\n",
    "%matplotlib inline\n",
    "\n",
    "plt.figure()\n",
    "ax = plt.subplot(111)\n",
    "bplot = ax.boxplot([var_edge_dyn.mean(axis=1),\n",
    "                    var_edge_null.mean(axis=1)],\n",
    "                   patch_artist=True);\n",
    "Echobase.Plotting.fig_format.set_box_color(bplot, 'k', [[0.00, 0.37, 1.00],\n",
    "                                                        [0.75, 0.75, 0.75]])\n",
    "\n",
    "\n",
    "# Axis Settings\n",
    "ax.set_xlim([0, 3])\n",
    "ax.yaxis.set_ticks_position('left')\n",
    "ax.xaxis.set_ticks_position('bottom')\n",
    "ax.set_ylabel('Mean Variance of Edge Strength');\n",
    "ax.set_xticklabels(['Windowed\\nFunctional Connections', 'Static Surrogate\\nFunctional Connections']);\n",
    "\n",
    "plt.savefig('./e01-Figures/Dynamic_Static_FuncConn.svg')\n",
    "plt.show()\n",
    "plt.close()              "
   ]
  },
  {
   "cell_type": "code",
   "execution_count": null,
   "metadata": {
    "collapsed": false,
    "deletable": true,
    "editable": true
   },
   "outputs": [],
   "source": []
  }
 ],
 "metadata": {
  "anaconda-cloud": {},
  "kernelspec": {
   "display_name": "Python 2",
   "language": "python",
   "name": "python2"
  },
  "language_info": {
   "codemirror_mode": {
    "name": "ipython",
    "version": 2
   },
   "file_extension": ".py",
   "mimetype": "text/x-python",
   "name": "python",
   "nbconvert_exporter": "python",
   "pygments_lexer": "ipython2",
   "version": "2.7.13"
  },
  "latex_envs": {
   "LaTeX_envs_menu_present": true,
   "bibliofile": "biblio.bib",
   "cite_by": "apalike",
   "current_citInitial": 1,
   "eqLabelWithNumbers": true,
   "eqNumInitial": 0,
   "labels_anchors": false,
   "latex_user_defs": false,
   "report_style_numbering": false,
   "user_envs_cfg": false
  },
  "toc": {
   "colors": {
    "hover_highlight": "#DAA520",
    "running_highlight": "#FF0000",
    "selected_highlight": "#FFD700"
   },
   "moveMenuLeft": true,
   "nav_menu": {
    "height": "246px",
    "width": "252px"
   },
   "navigate_menu": true,
   "number_sections": true,
   "sideBar": true,
   "threshold": 4,
   "toc_cell": true,
   "toc_number_sections": true,
   "toc_position": {
    "height": "897px",
    "left": "0px",
    "right": "1588px",
    "top": "106px",
    "width": "331px"
   },
   "toc_section_display": "block",
   "toc_threshold": 6,
   "toc_window_display": true
  }
 },
 "nbformat": 4,
 "nbformat_minor": 0
}
