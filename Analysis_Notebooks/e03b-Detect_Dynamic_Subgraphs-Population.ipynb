{
 "cells": [
  {
   "cell_type": "markdown",
   "metadata": {
    "deletable": true,
    "editable": true,
    "toc": "true"
   },
   "source": [
    "# Table of Contents\n",
    " <p><div class=\"lev1 toc-item\"><a href=\"#Initialize-Environment\" data-toc-modified-id=\"Initialize-Environment-1\"><span class=\"toc-item-num\">1&nbsp;&nbsp;</span>Initialize Environment</a></div><div class=\"lev2 toc-item\"><a href=\"#Generate-List-of-Data\" data-toc-modified-id=\"Generate-List-of-Data-11\"><span class=\"toc-item-num\">1.1&nbsp;&nbsp;</span>Generate List of Data</a></div><div class=\"lev2 toc-item\"><a href=\"#Construct-Configuration-Matrices\" data-toc-modified-id=\"Construct-Configuration-Matrices-12\"><span class=\"toc-item-num\">1.2&nbsp;&nbsp;</span>Construct Configuration Matrices</a></div><div class=\"lev1 toc-item\"><a href=\"#Optimize-Dynamic-Subgraphs\" data-toc-modified-id=\"Optimize-Dynamic-Subgraphs-2\"><span class=\"toc-item-num\">2&nbsp;&nbsp;</span>Optimize Dynamic Subgraphs</a></div><div class=\"lev2 toc-item\"><a href=\"#NMF-Cross-Validation-Optimizaion\" data-toc-modified-id=\"NMF-Cross-Validation-Optimizaion-21\"><span class=\"toc-item-num\">2.1&nbsp;&nbsp;</span>NMF Cross-Validation Optimizaion</a></div><div class=\"lev1 toc-item\"><a href=\"#Detect-Dynamic-Subgraphs\" data-toc-modified-id=\"Detect-Dynamic-Subgraphs-3\"><span class=\"toc-item-num\">3&nbsp;&nbsp;</span>Detect Dynamic Subgraphs</a></div><div class=\"lev2 toc-item\"><a href=\"#Run-Non-Negative-Matrix-Factorization-Algorithm\" data-toc-modified-id=\"Run-Non-Negative-Matrix-Factorization-Algorithm-31\"><span class=\"toc-item-num\">3.1&nbsp;&nbsp;</span>Run Non-Negative Matrix Factorization Algorithm</a></div><div class=\"lev2 toc-item\"><a href=\"#Consensus-Clustering-of-Dynamic-Subgraphs\" data-toc-modified-id=\"Consensus-Clustering-of-Dynamic-Subgraphs-32\"><span class=\"toc-item-num\">3.2&nbsp;&nbsp;</span>Consensus Clustering of Dynamic Subgraphs</a></div><div class=\"lev3 toc-item\"><a href=\"#Plot-Subgraphs\" data-toc-modified-id=\"Plot-Subgraphs-321\"><span class=\"toc-item-num\">3.2.1&nbsp;&nbsp;</span>Plot Subgraphs</a></div><div class=\"lev1 toc-item\"><a href=\"#Detect-Geometric-Null-Subgraphs\" data-toc-modified-id=\"Detect-Geometric-Null-Subgraphs-4\"><span class=\"toc-item-num\">4&nbsp;&nbsp;</span>Detect Geometric-Null Subgraphs</a></div><div class=\"lev2 toc-item\"><a href=\"#Generate-Geometric-Adjacency-Matrix\" data-toc-modified-id=\"Generate-Geometric-Adjacency-Matrix-41\"><span class=\"toc-item-num\">4.1&nbsp;&nbsp;</span>Generate Geometric Adjacency Matrix</a></div><div class=\"lev2 toc-item\"><a href=\"#Run-Non-Negative-Matrix-Factorization-Algorithm\" data-toc-modified-id=\"Run-Non-Negative-Matrix-Factorization-Algorithm-42\"><span class=\"toc-item-num\">4.2&nbsp;&nbsp;</span>Run Non-Negative Matrix Factorization Algorithm</a></div><div class=\"lev3 toc-item\"><a href=\"#Plot-Subgraphs\" data-toc-modified-id=\"Plot-Subgraphs-421\"><span class=\"toc-item-num\">4.2.1&nbsp;&nbsp;</span>Plot Subgraphs</a></div><div class=\"lev1 toc-item\"><a href=\"#Detect-Edge-Constrained-Null-Subgraphs\" data-toc-modified-id=\"Detect-Edge-Constrained-Null-Subgraphs-5\"><span class=\"toc-item-num\">5&nbsp;&nbsp;</span>Detect Edge Constrained Null Subgraphs</a></div><div class=\"lev2 toc-item\"><a href=\"#Run-Non-Negative-Matrix-Factorization-Algorithm\" data-toc-modified-id=\"Run-Non-Negative-Matrix-Factorization-Algorithm-51\"><span class=\"toc-item-num\">5.1&nbsp;&nbsp;</span>Run Non-Negative Matrix Factorization Algorithm</a></div><div class=\"lev3 toc-item\"><a href=\"#Plot-Subgraphs\" data-toc-modified-id=\"Plot-Subgraphs-511\"><span class=\"toc-item-num\">5.1.1&nbsp;&nbsp;</span>Plot Subgraphs</a></div>"
   ]
  },
  {
   "cell_type": "markdown",
   "metadata": {
    "deletable": true,
    "editable": true
   },
   "source": [
    "# Initialize Environment"
   ]
  },
  {
   "cell_type": "code",
   "execution_count": null,
   "metadata": {
    "collapsed": false,
    "deletable": true,
    "editable": true
   },
   "outputs": [],
   "source": [
    "try:\n",
    "    %load_ext autoreload\n",
    "    %autoreload 2\n",
    "    %reset\n",
    "except:\n",
    "    print 'NOT IPYTHON'\n",
    "\n",
    "from __future__ import division\n",
    "\n",
    "import os\n",
    "import sys\n",
    "import glob\n",
    "\n",
    "import numpy as np\n",
    "import pandas as pd\n",
    "import seaborn as sns\n",
    "import scipy.stats as stats\n",
    "import scipy.io as io\n",
    "import h5py\n",
    "import matplotlib.pyplot as plt\n",
    "from matplotlib import rcParams\n",
    "\n",
    "sys.path.append('/Users/akhambhati/Developer/hoth_research/Echobase')\n",
    "import Echobase\n",
    "convert_conn_vec_to_adj_matr = Echobase.Network.Transforms.configuration.convert_conn_vec_to_adj_matr\n",
    "convert_adj_matr_to_cfg_matr = Echobase.Network.Transforms.configuration.convert_adj_matr_to_cfg_matr\n",
    "nmf = Echobase.Network.Partitioning.Subgraph.nmf\n",
    "\n",
    "rcParams = Echobase.Plotting.fig_format.update_rcparams(rcParams)\n",
    "\n",
    "path_CoreData = '/Users/akhambhati/Remotes/CORE.fMRI_multiband.mmattar/restdata'\n",
    "path_PeriphData = '/Users/akhambhati/Remotes/RSRCH.NMF_Subnetworks'\n",
    "path_InpData = path_PeriphData + '/e01-Dyne_FuncNetw'\n",
    "path_ExpData = path_PeriphData + '/e03b-DynFuncSubgraph-Population'\n",
    "\n",
    "for path in [path_CoreData, path_PeriphData, path_InpData, path_ExpData]:\n",
    "    if not os.path.exists(path):\n",
    "        print('Path: {}, does not exist'.format(path))\n",
    "        os.makedirs(path)\n",
    "        \n",
    "if not os.path.exists('./e03b-Figures'):\n",
    "    os.makedirs('./e03b-Figures')        "
   ]
  },
  {
   "cell_type": "markdown",
   "metadata": {
    "deletable": true,
    "editable": true
   },
   "source": [
    "## Generate List of Data"
   ]
  },
  {
   "cell_type": "code",
   "execution_count": null,
   "metadata": {
    "collapsed": false,
    "deletable": true,
    "editable": true
   },
   "outputs": [],
   "source": [
    "subj_date = [full_subj_path.split('/')[-1]\n",
    "             for full_subj_path in glob.iglob('{}/Adjacency.*.npz'.format(path_InpData))]\n",
    "\n",
    "subj_ids = {}\n",
    "for s_d in subj_date:\n",
    "    subj, date = s_d.split('.')[1:3]\n",
    "    try:\n",
    "        subj_ids[subj]\n",
    "    except KeyError:\n",
    "        subj_ids[subj] = []\n",
    "    \n",
    "    subj_ids[subj].append(date)"
   ]
  },
  {
   "cell_type": "markdown",
   "metadata": {
    "deletable": true,
    "editable": true
   },
   "source": [
    "## Construct Configuration Matrices\n",
    "*__WARNING: Will Delete Existing Output__*"
   ]
  },
  {
   "cell_type": "code",
   "execution_count": null,
   "metadata": {
    "collapsed": false,
    "deletable": true,
    "editable": true
   },
   "outputs": [],
   "source": [
    "# Remove all existing output (retains pipe/pipeline definitions)\n",
    "rm_outp = glob.glob(\"{}/NMF_Optimization.CfgMatr.npz\".format(path_ExpData))\n",
    "\n",
    "for rm_type in [rm_outp]:\n",
    "    for path in rm_type:\n",
    "        try:\n",
    "            os.remove(path)\n",
    "        except:\n",
    "            print(\"{} not found\".format(path))"
   ]
  },
  {
   "cell_type": "code",
   "execution_count": null,
   "metadata": {
    "collapsed": false,
    "deletable": true,
    "editable": true
   },
   "outputs": [],
   "source": [
    "cfg_matr = []\n",
    "cfg_name = []\n",
    "for df_name in subj_date:\n",
    "    \n",
    "    # Read the input data\n",
    "    df = np.load('{}/{}'.format(path_InpData, df_name))\n",
    "\n",
    "    for cfg_vec in convert_adj_matr_to_cfg_matr(df['adj_matr']):\n",
    "        cfg_matr.append(cfg_vec)\n",
    "        cfg_name.append('.'.join(df_name.split('.')[1:3]))\n",
    "\n",
    "# Cache the configuration matrices\n",
    "cfg_matr = np.array(cfg_matr)\n",
    "cfg_name = np.array(cfg_name)\n",
    "np.savez('{}/NMF_Optimization.CfgMatr.npz'.format(path_ExpData),\n",
    "         cfg_matr=cfg_matr, cfg_name=cfg_name)"
   ]
  },
  {
   "cell_type": "markdown",
   "metadata": {
    "deletable": true,
    "editable": true
   },
   "source": [
    "# Optimize Dynamic Subgraphs"
   ]
  },
  {
   "cell_type": "markdown",
   "metadata": {
    "deletable": true,
    "editable": true
   },
   "source": [
    "## NMF Cross-Validation Optimizaion"
   ]
  },
  {
   "cell_type": "code",
   "execution_count": null,
   "metadata": {
    "collapsed": false,
    "deletable": true,
    "editable": true
   },
   "outputs": [],
   "source": [
    "# Load configuration matrix\n",
    "cfg_data = np.load('{}/NMF_Optimization.CfgMatr.npz'.format(path_ExpData))\n",
    "cfg_matr = cfg_data['cfg_matr']\n",
    "\n",
    "# Set search params\n",
    "search_alpha = list(np.arange(0.01, 1.0, 0.1))\n",
    "search_beta = list(np.arange(0.01, 1.0, 0.1))\n",
    "search_rank = list(np.arange(2, 31))\n",
    "search_fold = 10\n",
    "\n",
    "# Cross-Validation Optimization\n",
    "str_path = '{}/NMF_Optimization.Error.txt'.format(path_ExpData)\n",
    "if os.path.exists(str_path):\n",
    "    os.remove(str_path)\n",
    "    \n",
    "opt_dict = Echobase.Network.Partitioning.Subgraph.optimize_nmf.cross_validation(\n",
    "    cfg_matr, search_alpha, search_beta, search_rank, search_fold, n_proc=7,\n",
    "    str_path=str_path)\n",
    "\n",
    "np.savez('{}/NMF_Optimization.Error.npz'.format(path_ExpData),\n",
    "         alpha=opt_dict['alpha'],\n",
    "         beta=opt_dict['beta'],\n",
    "         rank=opt_dict['rank'],\n",
    "         error=opt_dict['error'],\n",
    "         pct_sparse_subgraph=opt_dict['pct_sparse_subgraph'],\n",
    "         pct_sparse_coef=opt_dict['pct_sparse_coef'])"
   ]
  },
  {
   "cell_type": "code",
   "execution_count": null,
   "metadata": {
    "collapsed": false,
    "deletable": true,
    "editable": true,
    "scrolled": false
   },
   "outputs": [],
   "source": [
    "opt_dict = np.load('{}/NMF_Optimization.Error.npz'.format(path_ExpData))\n",
    "opt_params = Echobase.Network.Partitioning.Subgraph.optimize_nmf.min_crossval_param(dict(opt_dict))\n",
    "print('Optimal Rank: {}'.format(opt_params['rank']))\n",
    "print('Optimal Alpha: {}'.format(opt_params['alpha']))\n",
    "print('Optimal Beta: {}'.format(opt_params['beta']))\n",
    "\n",
    "\n",
    "## Plot rank sweep\n",
    "rank_list = np.unique(opt_dict['rank'])\n",
    "opt_rank_ix = np.flatnonzero(rank_list == opt_params['rank'])\n",
    "error_rank_avg = np.array([opt_dict['error'][opt_dict['rank']==rank].mean()\n",
    "                           for rank in rank_list])\n",
    "error_rank_ste = np.array([opt_dict['error'][opt_dict['rank']==rank].std() / np.sqrt((opt_dict['rank']==rank).sum())\n",
    "                           for rank in rank_list])\n",
    "\n",
    "plt.figure()\n",
    "ax = plt.subplot(111)\n",
    "ax.plot(rank_list, error_rank_avg)\n",
    "ax.fill_between(rank_list,\n",
    "                y1=error_rank_avg - error_rank_ste, \n",
    "                y2=error_rank_avg + error_rank_ste, \n",
    "                lw=0, alpha=0.5)\n",
    "ax.scatter(rank_list[opt_rank_ix], error_rank_avg[opt_rank_ix], marker='x', color='r', s=30)\n",
    "\n",
    "ax.set_ylim([0.35, 0.37])\n",
    "ax.set_xlim([0, rank_list.max()])\n",
    "ax.yaxis.set_ticks_position('left')\n",
    "ax.xaxis.set_ticks_position('bottom')\n",
    "ax.set_xlabel('Number of Subgraphs')\n",
    "ax.set_ylabel('Cross-Validation Error')\n",
    "\n",
    "\n",
    "## Plot alpha sweep\n",
    "alpha_list = np.unique(opt_dict['alpha'])\n",
    "opt_alpha_ix = np.flatnonzero(alpha_list == opt_params['alpha'])\n",
    "error_alpha_avg = np.array([opt_dict['error'][opt_dict['alpha']==alpha].mean()\n",
    "                           for alpha in alpha_list])\n",
    "error_alpha_ste = np.array([opt_dict['error'][opt_dict['alpha']==alpha].std() / np.sqrt((opt_dict['alpha']==alpha).sum())\n",
    "                           for alpha in alpha_list])\n",
    "\n",
    "plt.figure()\n",
    "ax = plt.subplot(111)\n",
    "ax.plot(alpha_list, error_alpha_avg)\n",
    "ax.fill_between(alpha_list,\n",
    "                y1=error_alpha_avg - error_alpha_ste, \n",
    "                y2=error_alpha_avg + error_alpha_ste, \n",
    "                lw=0, alpha=0.5)\n",
    "ax.scatter(alpha_list[opt_alpha_ix], error_alpha_avg[opt_alpha_ix], marker='x', color='r', s=30)\n",
    "\n",
    "ax.set_ylim([0.35, 0.37])\n",
    "ax.set_xlim([0, alpha_list.max()*1.1])\n",
    "ax.yaxis.set_ticks_position('left')\n",
    "ax.xaxis.set_ticks_position('bottom')\n",
    "ax.set_xlabel('Alpha')\n",
    "ax.set_ylabel('Cross-Validation Error')\n",
    "\n",
    "\n",
    "## Plot beta sweep\n",
    "beta_list = np.unique(opt_dict['beta'])\n",
    "opt_beta_ix = np.flatnonzero(beta_list == opt_params['beta'])\n",
    "error_beta_avg = np.array([opt_dict['error'][opt_dict['beta']==beta].mean()\n",
    "                           for beta in beta_list])\n",
    "error_beta_ste = np.array([opt_dict['error'][opt_dict['beta']==beta].std() / np.sqrt((opt_dict['beta']==beta).sum())\n",
    "                           for beta in beta_list])\n",
    "\n",
    "plt.figure()\n",
    "ax = plt.subplot(111)\n",
    "ax.plot(beta_list, error_beta_avg)\n",
    "ax.fill_between(alpha_list,\n",
    "                y1=error_beta_avg - error_beta_ste, \n",
    "                y2=error_beta_avg + error_beta_ste, \n",
    "                lw=0, alpha=0.5)\n",
    "ax.scatter(beta_list[opt_beta_ix], error_beta_avg[opt_beta_ix], marker='x', color='r', s=30)\n",
    "\n",
    "ax.set_ylim([0.35, 0.37])\n",
    "ax.set_xlim([0, beta_list.max()*1.1])\n",
    "ax.yaxis.set_ticks_position('left')\n",
    "ax.xaxis.set_ticks_position('bottom')\n",
    "ax.set_xlabel('Beta')\n",
    "ax.set_ylabel('Cross-Validation Error')"
   ]
  },
  {
   "cell_type": "markdown",
   "metadata": {
    "collapsed": false,
    "deletable": true,
    "editable": true
   },
   "source": [
    "# Detect Dynamic Subgraphs"
   ]
  },
  {
   "cell_type": "markdown",
   "metadata": {
    "deletable": true,
    "editable": true
   },
   "source": [
    "## Run Non-Negative Matrix Factorization Algorithm\n",
    "*__WARNING: Will Delete Existing Output__*"
   ]
  },
  {
   "cell_type": "code",
   "execution_count": null,
   "metadata": {
    "collapsed": false,
    "deletable": true,
    "editable": true
   },
   "outputs": [],
   "source": [
    "# Remove all existing output (retains pipe/pipeline definitions)\n",
    "rm_outp = glob.glob(\"{}/*.subgraph_seed-*.npz\".format(path_ExpData))\n",
    "\n",
    "for rm_type in [rm_outp]:\n",
    "    for path in rm_type:\n",
    "        try:\n",
    "            os.remove(path)\n",
    "        except:\n",
    "            print(\"{} not found\".format(path))"
   ]
  },
  {
   "cell_type": "code",
   "execution_count": null,
   "metadata": {
    "collapsed": false,
    "deletable": true,
    "editable": true
   },
   "outputs": [],
   "source": [
    "param = {'rank': 20,\n",
    "         'alpha': 0.91,\n",
    "         'beta': 0.21}\n",
    "n_seed = 100\n",
    "\n",
    "from multiprocessing import Pool\n",
    "parallel_run = True\n",
    "\n",
    "# Generate a processing joblist\n",
    "cfg_matr_path = glob.glob(\"{}/NMF_Optimization.CfgMatr.npz\".format(path_ExpData))[0]\n",
    "proc_list = []\n",
    "for seed in xrange(n_seed):\n",
    "    proc_list.append({'path': cfg_matr_path,\n",
    "                      'param': param,\n",
    "                      'seed': seed+1})\n",
    "    \n",
    "# Setup helper function to map pipeline run\n",
    "def _nmf_helper(proc_item):\n",
    "    \n",
    "    # Load the file\n",
    "    #if os.path.exists(inp_path):\n",
    "    #    return 0\n",
    "    print(\" -- Processing Seed: {}\".format(proc_item['seed']))\n",
    "    data = np.load(proc_item['path'], mmap_mode='r')\n",
    "    \n",
    "    # Initialize the factors for NMF\n",
    "    fac_subnet = np.random.uniform(low=0, high=1.0,\n",
    "                                   size=(proc_item['param']['rank'],\n",
    "                                         data['cfg_matr'].shape[1]))\n",
    "    fac_coef = np.random.uniform(low=0, high=1.0,\n",
    "                                 size=(proc_item['param']['rank'],\n",
    "                                       data['cfg_matr'].shape[0]))\n",
    "\n",
    "    # Run NMF Algorithm\n",
    "    fac_subnet, fac_coef, err = nmf.snmf_bcd(\n",
    "        data['cfg_matr'],\n",
    "        alpha=proc_item['param']['alpha'],\n",
    "        beta=proc_item['param']['beta'],\n",
    "        fac_subnet_init=fac_subnet,\n",
    "        fac_coef_init=fac_coef,\n",
    "        max_iter=100, verbose=False)\n",
    "    \n",
    "    # Cache the NMF result\n",
    "    np.savez(\"{}/NMF_Optimization.subgraph_seed-{}.npz\".format(path_ExpData,\n",
    "                                                               proc_item['seed']),\n",
    "             fac_subnet=fac_subnet, fac_coef=fac_coef, err=err,\n",
    "             param=proc_item['param'], path=proc_item['path'])\n",
    "\n",
    "if parallel_run:\n",
    "    mp = Pool(7)\n",
    "    mp.map(_nmf_helper, proc_list)\n",
    "else:\n",
    "    map(_nmf_helper, proc_list)"
   ]
  },
  {
   "cell_type": "markdown",
   "metadata": {
    "deletable": true,
    "editable": true
   },
   "source": [
    "## Consensus Clustering of Dynamic Subgraphs"
   ]
  },
  {
   "cell_type": "code",
   "execution_count": null,
   "metadata": {
    "collapsed": false,
    "deletable": true,
    "editable": true
   },
   "outputs": [],
   "source": [
    "seed_paths = glob.glob(\"{}/NMF_Optimization.subgraph_seed-*.npz\".format(path_ExpData))\n",
    "\n",
    "# Aggregate the estimated subgraphs of each seed\n",
    "fac_subnet_seeds = []\n",
    "for ii, path in enumerate(seed_paths):\n",
    "    data = np.load(path, mmap_mode='r')\n",
    "    fac_subnet = data['fac_subnet'][:, :]\n",
    "    data.close()\n",
    "\n",
    "    n_fac = fac_subnet.shape[0]\n",
    "    n_conn = fac_subnet.shape[1]\n",
    "\n",
    "    for iy in xrange(fac_subnet.shape[0]):\n",
    "        fac_subnet_seeds.append(fac_subnet[iy, :])\n",
    "fac_subnet_seeds = np.array(fac_subnet_seeds)\n",
    "\n",
    "n_obs = fac_subnet_seeds.shape[0]\n",
    "n_conn = fac_subnet_seeds.shape[1]\n",
    "\n",
    "# Consensus Subgraphs\n",
    "fac_cons_subnet, fac_cons_seeds, err = nmf.snmf_bcd(\n",
    "    fac_subnet_seeds,\n",
    "    alpha=0.0,\n",
    "    beta=0.0,\n",
    "    fac_subnet_init=np.random.uniform(low=0.0, high=1.0, size=(n_fac, n_conn)),\n",
    "    fac_coef_init=np.random.uniform(low=0.0, high=1.0, size=(n_fac, n_obs)),\n",
    "    max_iter=100, verbose=False)\n",
    "\n",
    "# Consensus Coefficients\n",
    "cfg_matr_path = glob.glob(\"{}/NMF_Optimization.CfgMatr.npz\".format(path_ExpData))[0]\n",
    "data_cfg = np.load(cfg_matr_path, mmap_mode='r')\n",
    "n_win = data_cfg['cfg_matr'].shape[0]\n",
    "fac_cons_subnet_2, fac_cons_coef_2, err = nmf.snmf_bcd(\n",
    "    data_cfg['cfg_matr'],\n",
    "    alpha=0.0,\n",
    "    beta=0.0,\n",
    "    fac_subnet_init=fac_cons_subnet,\n",
    "    fac_coef_init=np.random.uniform(low=0.0, high=1.0, size=(n_fac, n_win)),\n",
    "    max_iter=100, verbose=False)\n",
    "\n",
    "# Cache the Consensus NMF result\n",
    "np.savez(\"{}/NMF_Optimization.consensus_subgraph.npz\".format(path_ExpData),\n",
    "         fac_subnet=fac_cons_subnet_2, fac_coef=fac_cons_coef_2, err=err)"
   ]
  },
  {
   "cell_type": "markdown",
   "metadata": {
    "deletable": true,
    "editable": true
   },
   "source": [
    "### Plot Subgraphs"
   ]
  },
  {
   "cell_type": "code",
   "execution_count": null,
   "metadata": {
    "collapsed": false,
    "deletable": true,
    "editable": true,
    "scrolled": false
   },
   "outputs": [],
   "source": [
    "%matplotlib inline\n",
    "\n",
    "# Load the consensus data\n",
    "data = np.load(\"{}/NMF_Optimization.consensus_subgraph.npz\".format(path_ExpData),\n",
    "               mmap_mode='r')\n",
    "fac_subnet = data['fac_subnet']\n",
    "fac_coef = data['fac_coef']\n",
    "\n",
    "# Normalize\n",
    "fac_subnet = fac_subnet / fac_subnet.max()\n",
    "fac_coef = fac_coef / fac_coef.max()\n",
    "\n",
    "n_fac = fac_subnet.shape[0]\n",
    "n_conn = fac_subnet.shape[1]\n",
    "n_win = fac_coef.shape[1]\n",
    "\n",
    "# Plot subgraph matrix\n",
    "plt.figure()\n",
    "ax = plt.subplot(111)\n",
    "mat = ax.matshow(fac_subnet.T, aspect=n_fac/n_conn, cmap='rainbow', vmin=0, vmax=1)\n",
    "plt.colorbar(mat, ax=ax)\n",
    "\n",
    "ax.yaxis.set_ticks_position('left')\n",
    "ax.xaxis.set_ticks_position('bottom')\n",
    "#ax.set_xticks(np.linspace(0, 80, 5))\n",
    "ax.set_ylabel('Functional Interactions')\n",
    "ax.set_xlabel('Subgraphs')\n",
    "\n",
    "plt.savefig('./e03b-Figures/Subgraph-Cfg_Matrix.svg')\n",
    "plt.close()      \n",
    "\n",
    "# Plot subgraph adjacency\n",
    "plt.figure()\n",
    "n_row = np.floor(np.sqrt(n_fac))\n",
    "n_col = np.ceil(n_fac / n_row)\n",
    "for ii, subg in enumerate(fac_subnet):\n",
    "    adj = convert_conn_vec_to_adj_matr(subg)\n",
    "\n",
    "    ax = plt.subplot(n_row, n_col, ii+1)\n",
    "    mat = ax.matshow(adj, cmap='rainbow', vmin=0, vmax=1)\n",
    "    #plt.colorbar(mat, ax=ax)\n",
    "    ax.set_axis_off()\n",
    "    \n",
    "plt.savefig('./e03b-Figures/Subgraph-Adj_Matrices.svg')\n",
    "plt.show()\n",
    "plt.close()      \n",
    "\n",
    "# Plot Coefficients\n",
    "plt.figure()\n",
    "ax = plt.subplot(111)\n",
    "\n",
    "fac_coef = fac_coef.T\n",
    "norm_fac = fac_coef - fac_coef.mean(axis=0)\n",
    "for ff in xrange(n_fac):\n",
    "    ax.plot(ff + norm_fac[:, ff] / (3*np.std(norm_fac[:, ff])), color=[66/256., 152/256., 221./256])\n",
    "\n",
    "# Axis Settings\n",
    "ax.yaxis.set_ticks_position('left')\n",
    "ax.xaxis.set_ticks_position('bottom')\n",
    "ax.set_ylim([-1, n_fac+1])\n",
    "ax.set_ylabel('Subgraphs')\n",
    "ax.set_xlabel('Time Windows')\n",
    "\n",
    "plt.savefig('./e03b-Figures/Subgraph-Coefs.svg')\n",
    "plt.show()\n",
    "plt.close()  "
   ]
  },
  {
   "cell_type": "markdown",
   "metadata": {
    "deletable": true,
    "editable": true
   },
   "source": [
    "# Detect Geometric-Null Subgraphs"
   ]
  },
  {
   "cell_type": "markdown",
   "metadata": {
    "deletable": true,
    "editable": true
   },
   "source": [
    "## Generate Geometric Adjacency Matrix"
   ]
  },
  {
   "cell_type": "code",
   "execution_count": null,
   "metadata": {
    "collapsed": false,
    "deletable": true,
    "editable": true
   },
   "outputs": [],
   "source": [
    "# Generate Node Distance Matrix\n",
    "df = pd.read_csv('{}/Atlas/HOA112_Labels.csv'.format(path_CoreData))\n",
    "n_node = len(df)\n",
    "\n",
    "dist_matr = np.zeros((n_node, n_node))\n",
    "ix, iy = np.mgrid[:n_node, :n_node]\n",
    "\n",
    "dX = np.array(df.X)\n",
    "dY = np.array(df.Y)\n",
    "dZ = np.array(df.Z)\n",
    "\n",
    "dist_matr[ix, iy] = np.sqrt((dX[ix]-dX[iy])**2 + \n",
    "                            (dY[ix]-dY[iy])**2 +\n",
    "                            (dZ[ix]-dZ[iy])**2)\n",
    "dist_matr /= dist_matr.max()\n",
    "\n",
    "np.savez('{}/geom_adj_matr.npz'.format(path_ExpData),\n",
    "         dist_matr=dist_matr)"
   ]
  },
  {
   "cell_type": "markdown",
   "metadata": {
    "deletable": true,
    "editable": true
   },
   "source": [
    "## Run Non-Negative Matrix Factorization Algorithm\n",
    "*__WARNING: Will Delete Existing Output__*"
   ]
  },
  {
   "cell_type": "code",
   "execution_count": null,
   "metadata": {
    "collapsed": false,
    "deletable": true,
    "editable": true
   },
   "outputs": [],
   "source": [
    "# Remove all existing output (retains pipe/pipeline definitions)\n",
    "rm_outp = glob.glob(\"{}/NMF_GeomNull.subgraph_seed-*.npz\".format(path_ExpData))\n",
    "\n",
    "for rm_type in [rm_outp]:\n",
    "    for path in rm_type:\n",
    "        try:\n",
    "            os.remove(path)\n",
    "        except:\n",
    "            print(\"{} not found\".format(path))"
   ]
  },
  {
   "cell_type": "code",
   "execution_count": null,
   "metadata": {
    "collapsed": false,
    "deletable": true,
    "editable": true,
    "scrolled": false
   },
   "outputs": [],
   "source": [
    "param = {'rank': 20,\n",
    "         'alpha': 0.91,\n",
    "         'beta': 0.21}\n",
    "n_seed = 100\n",
    "\n",
    "from multiprocessing import Pool\n",
    "parallel_run = True\n",
    "\n",
    "# Generate a processing joblist\n",
    "cfg_matr_path = glob.glob(\"{}/NMF_Optimization.CfgMatr.npz\".format(path_ExpData))[0]\n",
    "proc_list = []\n",
    "for seed in xrange(n_seed):\n",
    "    proc_list.append({'path': cfg_matr_path,\n",
    "                      'param': param,\n",
    "                      'seed': seed+1,\n",
    "                      'dist_path': '{}/geom_adj_matr.npz'.format(path_ExpData)})\n",
    "    \n",
    "# Setup helper function to map pipeline run\n",
    "def _nmf_helper(proc_item):\n",
    "    \n",
    "    # Load the file\n",
    "    #if os.path.exists(inp_path):\n",
    "    #    return 0\n",
    "    print(\" -- Processing Seed: {}\".format(proc_item['seed']))\n",
    "    data = np.load(proc_item['path'], mmap_mode='r')\n",
    "    dist_matr = np.load(proc_item['dist_path'])['dist_matr']\n",
    "    \n",
    "    # Generate a geometric null topology from cfg_matr\n",
    "    cfg_matr_null = []\n",
    "    for vec_i, cfg_vec in enumerate(data['cfg_matr']):\n",
    "        if vec_i == 0:\n",
    "            perm_seq = np.random.permutation(len(cfg_vec))\n",
    "        adj_matr = convert_conn_vec_to_adj_matr(cfg_vec)        \n",
    "        adj_null = Echobase.Network.Rewire.geometry.surrogate_trend(adj_matr, dist_matr, 3, 3, perm_seq=perm_seq)\n",
    "        cfg_matr_null.append(convert_adj_matr_to_cfg_matr(np.expand_dims(adj_null, axis=0)).reshape(-1))\n",
    "    cfg_matr_null = np.array(cfg_matr_null)\n",
    "    \n",
    "    # Initialize the factors for NMF\n",
    "    fac_subnet = np.random.uniform(low=0, high=1.0,\n",
    "                                   size=(proc_item['param']['rank'],\n",
    "                                         cfg_matr_null.shape[1]))\n",
    "    fac_coef = np.random.uniform(low=0, high=1.0,\n",
    "                                 size=(proc_item['param']['rank'],\n",
    "                                       cfg_matr_null.shape[0]))\n",
    "\n",
    "    # Run NMF Algorithm\n",
    "    fac_subnet, fac_coef, err = nmf.snmf_bcd(\n",
    "        cfg_matr_null,\n",
    "        alpha=proc_item['param']['alpha'],\n",
    "        beta=proc_item['param']['beta'],\n",
    "        fac_subnet_init=fac_subnet,\n",
    "        fac_coef_init=fac_coef,\n",
    "        max_iter=100, verbose=False)\n",
    "    \n",
    "    # Cache the NMF result\n",
    "    np.savez(\"{}/NMF_GeomNull.subgraph_seed-{}.npz\".format(path_ExpData,                                                     \n",
    "                                                           proc_item['seed']),\n",
    "             fac_subnet=fac_subnet, fac_coef=fac_coef, err=err,\n",
    "             param=proc_item['param'], path=proc_item['path'])\n",
    "\n",
    "if parallel_run:\n",
    "    mp = Pool(7)\n",
    "    mp.map(_nmf_helper, proc_list)\n",
    "else:\n",
    "    map(_nmf_helper, proc_list)"
   ]
  },
  {
   "cell_type": "markdown",
   "metadata": {
    "deletable": true,
    "editable": true
   },
   "source": [
    "### Plot Subgraphs"
   ]
  },
  {
   "cell_type": "code",
   "execution_count": null,
   "metadata": {
    "collapsed": false,
    "deletable": true,
    "editable": true,
    "scrolled": false
   },
   "outputs": [],
   "source": [
    "seed_paths = glob.glob(\"{}/NMF_GeomNull.subgraph_seed-*.npz\".format(path_ExpData))\n",
    "data = np.load(np.random.permutation(seed_paths)[0])\n",
    "\n",
    "fac_subnet = data['fac_subnet']\n",
    "fac_coef = data['fac_coef']\n",
    "\n",
    "# Normalize\n",
    "fac_subnet = fac_subnet / fac_subnet.max()\n",
    "fac_coef = fac_coef / fac_coef.max()\n",
    "\n",
    "n_fac = fac_subnet.shape[0]\n",
    "n_conn = fac_subnet.shape[1]\n",
    "n_win = fac_coef.shape[1]\n",
    "             \n",
    "# Plot subgraph adjacency\n",
    "plt.figure()\n",
    "n_row = np.floor(np.sqrt(n_fac))\n",
    "n_col = np.ceil(n_fac / n_row)\n",
    "for ii, subg in enumerate(fac_subnet):\n",
    "    adj = convert_conn_vec_to_adj_matr(subg)\n",
    "\n",
    "    ax = plt.subplot(n_row, n_col, ii+1)\n",
    "    mat = ax.matshow(adj, cmap='rainbow', vmin=0, vmax=1)\n",
    "    ax.set_axis_off()\n",
    "    \n",
    "plt.savefig('./e03b-Figures/GeomNull-Subgraph-Adj_Matrices.svg')\n",
    "plt.show()\n",
    "plt.close()      \n",
    "\n",
    "# Plot Coefficients\n",
    "plt.figure()\n",
    "ax = plt.subplot(111)\n",
    "\n",
    "fac_coef = fac_coef.T\n",
    "norm_fac = fac_coef - fac_coef.mean(axis=0)\n",
    "for ff in xrange(n_fac):\n",
    "    ax.plot(ff + norm_fac[:, ff] / (3*np.std(norm_fac[:, ff])), color=[66/256., 152/256., 221./256])\n",
    "\n",
    "# Axis Settings\n",
    "ax.yaxis.set_ticks_position('left')\n",
    "ax.xaxis.set_ticks_position('bottom')\n",
    "ax.set_ylim([-1, n_fac+1])\n",
    "ax.set_ylabel('Subgraphs')\n",
    "ax.set_xlabel('Time Windows')\n",
    "\n",
    "plt.savefig('./e03b-Figures/GeomNull-Subgraph-Coefs.svg')\n",
    "plt.show()\n",
    "plt.close()  "
   ]
  },
  {
   "cell_type": "markdown",
   "metadata": {
    "deletable": true,
    "editable": true
   },
   "source": [
    "# Detect Edge Constrained Null Subgraphs"
   ]
  },
  {
   "cell_type": "markdown",
   "metadata": {
    "deletable": true,
    "editable": true
   },
   "source": [
    "## Run Non-Negative Matrix Factorization Algorithm\n",
    "*__WARNING: Will Delete Existing Output__*"
   ]
  },
  {
   "cell_type": "code",
   "execution_count": null,
   "metadata": {
    "collapsed": false,
    "deletable": true,
    "editable": true
   },
   "outputs": [],
   "source": [
    "# Remove all existing output (retains pipe/pipeline definitions)\n",
    "rm_outp = glob.glob(\"{}/NMF_EdgeNull.subgraph_seed-*.npz\".format(path_ExpData))\n",
    "\n",
    "for rm_type in [rm_outp]:\n",
    "    for path in rm_type:\n",
    "        try:\n",
    "            os.remove(path)\n",
    "        except:\n",
    "            print(\"{} not found\".format(path))"
   ]
  },
  {
   "cell_type": "code",
   "execution_count": null,
   "metadata": {
    "collapsed": false,
    "deletable": true,
    "editable": true
   },
   "outputs": [],
   "source": [
    "param = {'rank': 20,\n",
    "         'alpha': 0.91,\n",
    "         'beta': 0.21}\n",
    "n_seed = 100\n",
    "\n",
    "from multiprocessing import Pool\n",
    "parallel_run = True\n",
    "\n",
    "# Generate a processing joblist\n",
    "cfg_matr_path = glob.glob(\"{}/NMF_Optimization.CfgMatr.npz\".format(path_ExpData))[0]\n",
    "proc_list = []\n",
    "for seed in xrange(n_seed):\n",
    "    proc_list.append({'path': cfg_matr_path,\n",
    "                      'param': param,\n",
    "                      'seed': seed+1})\n",
    "    \n",
    "# Setup helper function to map pipeline run\n",
    "def _nmf_helper(proc_item):\n",
    "    \n",
    "    # Load the file\n",
    "    #if os.path.exists(inp_path):\n",
    "    #    return 0\n",
    "    print(\" -- Processing Seed: {}\".format(proc_item['seed']))\n",
    "    data = np.load(proc_item['path'], mmap_mode='r')\n",
    "    \n",
    "    # Generate an edge null topology from cfg_matr\n",
    "    cfg_matr_null = []\n",
    "    for vec_i, cfg_vec in enumerate(data['cfg_matr']):\n",
    "        if vec_i == 0:\n",
    "            perm_seq = np.random.permutation(len(cfg_vec))\n",
    "        cfg_matr_null.append(cfg_vec[perm_seq])\n",
    "    cfg_matr_null = np.array(cfg_matr_null)\n",
    "    \n",
    "    # Initialize the factors for NMF\n",
    "    fac_subnet = np.random.uniform(low=0, high=1.0,\n",
    "                                   size=(proc_item['param']['rank'],\n",
    "                                         cfg_matr_null.shape[1]))\n",
    "    fac_coef = np.random.uniform(low=0, high=1.0,\n",
    "                                 size=(proc_item['param']['rank'],\n",
    "                                       cfg_matr_null.shape[0]))\n",
    "\n",
    "    # Run NMF Algorithm\n",
    "    fac_subnet, fac_coef, err = nmf.snmf_bcd(\n",
    "        cfg_matr_null,\n",
    "        alpha=proc_item['param']['alpha'],\n",
    "        beta=proc_item['param']['beta'],\n",
    "        fac_subnet_init=fac_subnet,\n",
    "        fac_coef_init=fac_coef,\n",
    "        max_iter=100, verbose=False)\n",
    "    \n",
    "    # Cache the NMF result\n",
    "    np.savez(\"{}/NMF_EdgeNull.subgraph_seed-{}.npz\".format(path_ExpData,                                                     \n",
    "                                                           proc_item['seed']),\n",
    "             fac_subnet=fac_subnet, fac_coef=fac_coef, err=err,\n",
    "             param=proc_item['param'], path=proc_item['path'])\n",
    "\n",
    "if parallel_run:\n",
    "    mp = Pool(7)\n",
    "    mp.map(_nmf_helper, proc_list)\n",
    "else:\n",
    "    map(_nmf_helper, proc_list)"
   ]
  },
  {
   "cell_type": "markdown",
   "metadata": {
    "deletable": true,
    "editable": true
   },
   "source": [
    "### Plot Subgraphs"
   ]
  },
  {
   "cell_type": "code",
   "execution_count": null,
   "metadata": {
    "collapsed": false,
    "deletable": true,
    "editable": true,
    "scrolled": false
   },
   "outputs": [],
   "source": [
    "seed_paths = glob.glob(\"{}/NMF_EdgeNull.subgraph_seed-*.npz\".format(path_ExpData))\n",
    "data = np.load(np.random.permutation(seed_paths)[0])\n",
    "\n",
    "fac_subnet = data['fac_subnet']\n",
    "fac_coef = data['fac_coef']\n",
    "\n",
    "# Normalize\n",
    "fac_subnet = fac_subnet / fac_subnet.max()\n",
    "fac_coef = fac_coef / fac_coef.max()\n",
    "\n",
    "n_fac = fac_subnet.shape[0]\n",
    "n_conn = fac_subnet.shape[1]\n",
    "n_win = fac_coef.shape[1]\n",
    "             \n",
    "# Plot subgraph adjacency\n",
    "plt.figure()\n",
    "n_row = np.floor(np.sqrt(n_fac))\n",
    "n_col = np.ceil(n_fac / n_row)\n",
    "for ii, subg in enumerate(fac_subnet):\n",
    "    adj = convert_conn_vec_to_adj_matr(subg)\n",
    "\n",
    "    ax = plt.subplot(n_row, n_col, ii+1)\n",
    "    mat = ax.matshow(adj, cmap='rainbow', vmin=0, vmax=1)\n",
    "    ax.set_axis_off()\n",
    "    \n",
    "plt.savefig('./e03b-Figures/EdgeNull-Subgraph-Adj_Matrices.svg')\n",
    "plt.show()\n",
    "plt.close()      \n",
    "\n",
    "# Plot Coefficients\n",
    "plt.figure()\n",
    "ax = plt.subplot(111)\n",
    "\n",
    "fac_coef = fac_coef.T\n",
    "norm_fac = fac_coef - fac_coef.mean(axis=0)\n",
    "for ff in xrange(n_fac):\n",
    "    ax.plot(ff + norm_fac[:, ff] / (3*np.std(norm_fac[:, ff])), color=[66/256., 152/256., 221./256])\n",
    "\n",
    "# Axis Settings\n",
    "ax.yaxis.set_ticks_position('left')\n",
    "ax.xaxis.set_ticks_position('bottom')\n",
    "ax.set_ylim([-1, n_fac+1])\n",
    "ax.set_ylabel('Subgraphs')\n",
    "ax.set_xlabel('Time Windows')\n",
    "\n",
    "plt.savefig('./e03b-Figures/EdgeNull-Subgraph-Coefs.svg')\n",
    "plt.show()\n",
    "plt.close()  "
   ]
  },
  {
   "cell_type": "code",
   "execution_count": null,
   "metadata": {
    "collapsed": false,
    "deletable": true,
    "editable": true
   },
   "outputs": [],
   "source": []
  }
 ],
 "metadata": {
  "anaconda-cloud": {},
  "kernelspec": {
   "display_name": "Python 2",
   "language": "python",
   "name": "python2"
  },
  "language_info": {
   "codemirror_mode": {
    "name": "ipython",
    "version": 2
   },
   "file_extension": ".py",
   "mimetype": "text/x-python",
   "name": "python",
   "nbconvert_exporter": "python",
   "pygments_lexer": "ipython2",
   "version": "2.7.13"
  },
  "latex_envs": {
   "LaTeX_envs_menu_present": true,
   "bibliofile": "biblio.bib",
   "cite_by": "apalike",
   "current_citInitial": 1,
   "eqLabelWithNumbers": true,
   "eqNumInitial": 0,
   "labels_anchors": false,
   "latex_user_defs": false,
   "report_style_numbering": false,
   "user_envs_cfg": false
  },
  "toc": {
   "colors": {
    "hover_highlight": "#DAA520",
    "running_highlight": "#FF0000",
    "selected_highlight": "#FFD700"
   },
   "moveMenuLeft": true,
   "nav_menu": {
    "height": "102px",
    "width": "252px"
   },
   "navigate_menu": true,
   "number_sections": true,
   "sideBar": true,
   "threshold": 4,
   "toc_cell": true,
   "toc_number_sections": true,
   "toc_position": {
    "height": "897px",
    "left": "0px",
    "right": "1707px",
    "top": "106px",
    "width": "212px"
   },
   "toc_section_display": "block",
   "toc_threshold": 6,
   "toc_window_display": true
  }
 },
 "nbformat": 4,
 "nbformat_minor": 0
}
