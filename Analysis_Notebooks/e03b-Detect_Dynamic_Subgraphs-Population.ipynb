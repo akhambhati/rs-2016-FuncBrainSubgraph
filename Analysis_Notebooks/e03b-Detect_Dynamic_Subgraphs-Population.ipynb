{
 "cells": [
  {
   "cell_type": "markdown",
   "metadata": {
    "toc": "true"
   },
   "source": [
    "# Table of Contents\n",
    " <p><div class=\"lev1 toc-item\"><a href=\"#Optimize-Dynamic-Subgraphs\" data-toc-modified-id=\"Optimize-Dynamic-Subgraphs-1\"><span class=\"toc-item-num\">1&nbsp;&nbsp;</span>Optimize Dynamic Subgraphs</a></div><div class=\"lev2 toc-item\"><a href=\"#Initialize-Environment\" data-toc-modified-id=\"Initialize-Environment-11\"><span class=\"toc-item-num\">1.1&nbsp;&nbsp;</span>Initialize Environment</a></div><div class=\"lev2 toc-item\"><a href=\"#Generate-List-of-Data\" data-toc-modified-id=\"Generate-List-of-Data-12\"><span class=\"toc-item-num\">1.2&nbsp;&nbsp;</span>Generate List of Data</a></div><div class=\"lev2 toc-item\"><a href=\"#Construct-Configuration-Matrices\" data-toc-modified-id=\"Construct-Configuration-Matrices-13\"><span class=\"toc-item-num\">1.3&nbsp;&nbsp;</span>Construct Configuration Matrices</a></div><div class=\"lev2 toc-item\"><a href=\"#NMF-Cross-Validation-Optimizaion\" data-toc-modified-id=\"NMF-Cross-Validation-Optimizaion-14\"><span class=\"toc-item-num\">1.4&nbsp;&nbsp;</span>NMF Cross-Validation Optimizaion</a></div>"
   ]
  },
  {
   "cell_type": "markdown",
   "metadata": {},
   "source": [
    "# Optimize Dynamic Subgraphs"
   ]
  },
  {
   "cell_type": "markdown",
   "metadata": {},
   "source": [
    "## Initialize Environment"
   ]
  },
  {
   "cell_type": "code",
   "execution_count": null,
   "metadata": {
    "collapsed": false
   },
   "outputs": [],
   "source": [
    "try:\n",
    "    %load_ext autoreload\n",
    "    %autoreload 2\n",
    "    %reset\n",
    "except:\n",
    "    print 'NOT IPYTHON'\n",
    "\n",
    "from __future__ import division\n",
    "\n",
    "import os\n",
    "import sys\n",
    "import glob\n",
    "\n",
    "import numpy as np\n",
    "import pandas as pd\n",
    "import seaborn as sns\n",
    "import scipy.stats as stats\n",
    "import scipy.io as io\n",
    "import h5py\n",
    "import matplotlib.pyplot as plt\n",
    "from matplotlib import rcParams\n",
    "\n",
    "sys.path.append('/Users/akhambhati/Developer/hoth_research/Echobase')\n",
    "import Echobase\n",
    "convert_conn_vec_to_adj_matr = Echobase.Network.Transforms.configuration.convert_conn_vec_to_adj_matr\n",
    "convert_adj_matr_to_cfg_matr = Echobase.Network.Transforms.configuration.convert_adj_matr_to_cfg_matr\n",
    "nmf = Echobase.Network.Partitioning.Subgraph.nmf\n",
    "\n",
    "rcParams = Echobase.Plotting.fig_format.update_rcparams(rcParams)\n",
    "\n",
    "path_CoreData = '/Users/akhambhati/Remotes/CORE.fMRI_multiband.mmattar/restdata'\n",
    "path_PeriphData = '/Users/akhambhati/Remotes/RSRCH.NMF_Subnetworks'\n",
    "path_InpData = path_PeriphData + '/e01-Dyne_FuncNetw'\n",
    "path_ExpData = path_PeriphData + '/e05-DynFuncSubgraph_Population'\n",
    "\n",
    "for path in [path_CoreData, path_PeriphData, path_InpData, path_ExpData]:\n",
    "    if not os.path.exists(path):\n",
    "        print('Path: {}, does not exist'.format(path))\n",
    "        os.makedirs(path)"
   ]
  },
  {
   "cell_type": "markdown",
   "metadata": {},
   "source": [
    "## Generate List of Data"
   ]
  },
  {
   "cell_type": "code",
   "execution_count": null,
   "metadata": {
    "collapsed": false
   },
   "outputs": [],
   "source": [
    "subj_date = [full_subj_path.split('/')[-1]\n",
    "             for full_subj_path in glob.iglob('{}/Adjacency.*.npz'.format(path_InpData))]\n",
    "\n",
    "subj_ids = {}\n",
    "for s_d in subj_date:\n",
    "    subj, date = s_d.split('.')[1:3]\n",
    "    try:\n",
    "        subj_ids[subj]\n",
    "    except KeyError:\n",
    "        subj_ids[subj] = []\n",
    "    \n",
    "    subj_ids[subj].append(date)"
   ]
  },
  {
   "cell_type": "markdown",
   "metadata": {},
   "source": [
    "## Construct Configuration Matrices\n",
    "*__WARNING: Will Delete Existing Output__*"
   ]
  },
  {
   "cell_type": "code",
   "execution_count": null,
   "metadata": {
    "collapsed": false
   },
   "outputs": [],
   "source": [
    "# Remove all existing output (retains pipe/pipeline definitions)\n",
    "rm_outp = glob.glob(\"{}/NMF_Optimization.CfgMatr.npz\".format(path_ExpData))\n",
    "\n",
    "for rm_type in [rm_outp]:\n",
    "    for path in rm_type:\n",
    "        try:\n",
    "            os.remove(path)\n",
    "        except:\n",
    "            print(\"{} not found\".format(path))"
   ]
  },
  {
   "cell_type": "code",
   "execution_count": null,
   "metadata": {
    "collapsed": false
   },
   "outputs": [],
   "source": [
    "cfg_matr = []\n",
    "cfg_name = []\n",
    "for df_name in subj_date:\n",
    "    \n",
    "    # Read the input data\n",
    "    df = np.load('{}/{}'.format(path_InpData, df_name))\n",
    "\n",
    "    for cfg_vec in conv_adj_matr_to_cfg_matr(df['adj_matr']):\n",
    "        cfg_matr.append(cfg_vec)\n",
    "        cfg_name.append('.'.join(df_name.split('.')[1:3]))\n",
    "\n",
    "# Cache the configuration matrices\n",
    "cfg_matr = np.array(cfg_matr)\n",
    "cfg_name = np.array(cfg_name)\n",
    "np.savez('{}/NMF_Optimization.CfgMatr.npz'.format(path_ExpData),\n",
    "         cfg_matr=cfg_matr, cfg_name=cfg_name)"
   ]
  },
  {
   "cell_type": "markdown",
   "metadata": {},
   "source": [
    "## NMF Cross-Validation Optimizaion"
   ]
  },
  {
   "cell_type": "code",
   "execution_count": null,
   "metadata": {
    "collapsed": false
   },
   "outputs": [],
   "source": [
    "# Load configuration matrix\n",
    "cfg_data = np.load('{}/NMF_Optimization.CfgMatr.npz'.format(path_ExpData))\n",
    "cfg_matr = cfg_data['cfg_matr']\n",
    "\n",
    "# Set search params\n",
    "search_alpha = [0.0] #list(np.linspace(0.01, 1.0, 1))\n",
    "search_beta = [0.0] #list(np.linspace(0.01, 1.0, 1))\n",
    "search_rank = list(np.arange(2, 31))\n",
    "search_fold = 10\n",
    "\n",
    "# Cross-Validation Optimization\n",
    "str_path = '{}/NMF_Optimization.Error.npz'.format(path_ExpData)\n",
    "if os.path.exists(str_path):\n",
    "    os.remove(str_path)\n",
    "    \n",
    "opt_dict = Echobase.Network.Partitioning.Subgraph.optimize_nmf.cross_validation(\n",
    "    cfg_matr, search_alpha, search_beta, search_rank, search_fold, n_proc=8,\n",
    "    str_path=str_path)\n",
    "\n",
    "np.savez('{}/NMF_Optimization.Error.npz'.format(path_ExpData),\n",
    "         alpha=opt_dict['alpha'],\n",
    "         beta=opt_dict['beta'],\n",
    "         rank=opt_dict['rank'],\n",
    "         error=opt_dict['error'])"
   ]
  },
  {
   "cell_type": "code",
   "execution_count": null,
   "metadata": {
    "collapsed": false
   },
   "outputs": [],
   "source": [
    "opt_dict = np.load('{}/NMF_Optimization.Error.npz'.format(path_ExpData))\n",
    "\n",
    "error_rank = [opt_dict['error'][np.flatnonzero(opt_dict['rank']==rank)].mean()\n",
    "              for rank in np.unique(opt_dict['rank'])]\n",
    "rank_ix = np.flatnonzero(opt_dict['rank'] == 24)\n",
    "error_alpha = [opt_dict['error'][np.flatnonzero(opt_dict['alpha']==alpha)].mean()\n",
    "              for alpha in np.unique(opt_dict['alpha'][rank_ix])]\n",
    "error_beta = [opt_dict['error'][np.flatnonzero(opt_dict['beta']==beta)].mean()\n",
    "              for beta in np.unique(opt_dict['beta'][rank_ix])]\n",
    "\n",
    "%matplotlib inline\n",
    "plt.figure()\n",
    "ax = plt.subplot(111)\n",
    "opt_ix = np.argmin(error_rank)\n",
    "ax.plot(np.unique(opt_dict['rank']), error_rank)\n",
    "ax.scatter(np.unique(opt_dict['rank'])[opt_ix], error_rank[opt_ix], marker='x', color='r', s=30)\n",
    "\n",
    "plt.figure()\n",
    "ax = plt.subplot(111)\n",
    "opt_ix = np.argmin(error_alpha)\n",
    "ax.plot(np.unique(opt_dict['alpha']), error_alpha)\n",
    "ax.scatter(np.unique(opt_dict['alpha'])[opt_ix], error_alpha[opt_ix], marker='x', color='r', s=30)\n",
    "\n",
    "plt.figure()\n",
    "ax = plt.subplot(111)\n",
    "opt_ix = np.argmin(error_beta)\n",
    "ax.plot(np.unique(opt_dict['beta']), error_beta)\n",
    "ax.scatter(np.unique(opt_dict['beta'])[opt_ix], error_beta[opt_ix], marker='x', color='r', s=30)\n",
    "\n",
    "opt_params = Echobase.Network.Partitioning.Subgraph.optimize_nmf.min_crossval_param(dict(opt_dict))\n",
    "print('Optimal Rank: {}'.format(opt_params['rank']))\n",
    "print('Optimal Alpha: {}'.format(opt_params['alpha']))\n",
    "print('Optimal Beta: {}'.format(opt_params['beta']))"
   ]
  },
  {
   "cell_type": "code",
   "execution_count": null,
   "metadata": {
    "collapsed": false
   },
   "outputs": [],
   "source": []
  }
 ],
 "metadata": {
  "anaconda-cloud": {},
  "kernelspec": {
   "display_name": "Python 2",
   "language": "python",
   "name": "python2"
  },
  "language_info": {
   "codemirror_mode": {
    "name": "ipython",
    "version": 2
   },
   "file_extension": ".py",
   "mimetype": "text/x-python",
   "name": "python",
   "nbconvert_exporter": "python",
   "pygments_lexer": "ipython2",
   "version": "2.7.13"
  },
  "latex_envs": {
   "LaTeX_envs_menu_present": true,
   "bibliofile": "biblio.bib",
   "cite_by": "apalike",
   "current_citInitial": 1,
   "eqLabelWithNumbers": true,
   "eqNumInitial": 0,
   "labels_anchors": false,
   "latex_user_defs": false,
   "report_style_numbering": false,
   "user_envs_cfg": false
  },
  "toc": {
   "colors": {
    "hover_highlight": "#DAA520",
    "running_highlight": "#FF0000",
    "selected_highlight": "#FFD700"
   },
   "moveMenuLeft": true,
   "nav_menu": {
    "height": "102px",
    "width": "252px"
   },
   "navigate_menu": true,
   "number_sections": true,
   "sideBar": true,
   "threshold": 4,
   "toc_cell": true,
   "toc_number_sections": true,
   "toc_section_display": "block",
   "toc_threshold": 6,
   "toc_window_display": true
  }
 },
 "nbformat": 4,
 "nbformat_minor": 0
}
