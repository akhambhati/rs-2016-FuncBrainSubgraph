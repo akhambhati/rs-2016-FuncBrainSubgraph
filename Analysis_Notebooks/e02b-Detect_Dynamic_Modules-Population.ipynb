{
 "cells": [
  {
   "cell_type": "markdown",
   "metadata": {
    "deletable": true,
    "editable": true,
    "toc": "true"
   },
   "source": [
    "# Table of Contents\n",
    " <p><div class=\"lev1 toc-item\"><a href=\"#Detect-Dynamic-Communities\" data-toc-modified-id=\"Detect-Dynamic-Communities-1\"><span class=\"toc-item-num\">1&nbsp;&nbsp;</span>Detect Dynamic Communities</a></div><div class=\"lev2 toc-item\"><a href=\"#Initialize-Environment\" data-toc-modified-id=\"Initialize-Environment-11\"><span class=\"toc-item-num\">1.1&nbsp;&nbsp;</span>Initialize Environment</a></div><div class=\"lev2 toc-item\"><a href=\"#Generate-List-of-Data\" data-toc-modified-id=\"Generate-List-of-Data-12\"><span class=\"toc-item-num\">1.2&nbsp;&nbsp;</span>Generate List of Data</a></div><div class=\"lev2 toc-item\"><a href=\"#Aggregate-Adjacency-Matrices-across-Subjects\" data-toc-modified-id=\"Aggregate-Adjacency-Matrices-across-Subjects-13\"><span class=\"toc-item-num\">1.3&nbsp;&nbsp;</span>Aggregate Adjacency Matrices across Subjects</a></div><div class=\"lev2 toc-item\"><a href=\"#Run-GenLouvain-algorithm-using-MATLAB\" data-toc-modified-id=\"Run-GenLouvain-algorithm-using-MATLAB-14\"><span class=\"toc-item-num\">1.4&nbsp;&nbsp;</span>Run GenLouvain algorithm using MATLAB</a></div><div class=\"lev1 toc-item\"><a href=\"#Statistics-on-Dynamic-Modules\" data-toc-modified-id=\"Statistics-on-Dynamic-Modules-2\"><span class=\"toc-item-num\">2&nbsp;&nbsp;</span>Statistics on Dynamic Modules</a></div><div class=\"lev2 toc-item\"><a href=\"#Generate-List-of-Data\" data-toc-modified-id=\"Generate-List-of-Data-21\"><span class=\"toc-item-num\">2.1&nbsp;&nbsp;</span>Generate List of Data</a></div><div class=\"lev2 toc-item\"><a href=\"#Module-Allegiance\" data-toc-modified-id=\"Module-Allegiance-22\"><span class=\"toc-item-num\">2.2&nbsp;&nbsp;</span>Module Allegiance</a></div><div class=\"lev2 toc-item\"><a href=\"#Find-clusters-in-module-allegiance-matrix\" data-toc-modified-id=\"Find-clusters-in-module-allegiance-matrix-23\"><span class=\"toc-item-num\">2.3&nbsp;&nbsp;</span>Find clusters in module allegiance matrix</a></div>"
   ]
  },
  {
   "cell_type": "markdown",
   "metadata": {
    "deletable": true,
    "editable": true
   },
   "source": [
    "# Detect Dynamic Communities"
   ]
  },
  {
   "cell_type": "markdown",
   "metadata": {
    "deletable": true,
    "editable": true
   },
   "source": [
    "## Initialize Environment"
   ]
  },
  {
   "cell_type": "code",
   "execution_count": null,
   "metadata": {
    "collapsed": false,
    "deletable": true,
    "editable": true
   },
   "outputs": [],
   "source": [
    "try:\n",
    "    %load_ext autoreload\n",
    "    %autoreload 2\n",
    "    %reset\n",
    "except:\n",
    "    print 'NOT IPYTHON'\n",
    "\n",
    "from __future__ import division\n",
    "\n",
    "import os\n",
    "import sys\n",
    "import glob\n",
    "\n",
    "import numpy as np\n",
    "import pandas as pd\n",
    "import seaborn as sns\n",
    "import scipy.stats as stats\n",
    "import scipy.io as io\n",
    "import h5py\n",
    "import matplotlib.pyplot as plt\n",
    "from matplotlib import rcParams\n",
    "\n",
    "sys.path.append('/Users/akhambhati/Developer/hoth_research/Echobase')\n",
    "import Echobase\n",
    "\n",
    "rcParams = Echobase.Plotting.fig_format.update_rcparams(rcParams)\n",
    "\n",
    "path_CoreData = '/Users/akhambhati/Remotes/CORE.fMRI_multiband.mmattar/restdata'\n",
    "path_PeriphData = '/Users/akhambhati/Remotes/RSRCH.NMF_Subnetworks'\n",
    "path_InpData = path_PeriphData + '/e01-Dyne_FuncNetw'\n",
    "path_ExpData = path_PeriphData + '/e02b-DynFuncModule-Population'\n",
    "\n",
    "for path in [path_CoreData, path_PeriphData, path_ExpData]:\n",
    "    if not os.path.exists(path):\n",
    "        print('Path: {}, does not exist'.format(path))\n",
    "        os.makedirs(path)"
   ]
  },
  {
   "cell_type": "markdown",
   "metadata": {
    "deletable": true,
    "editable": true
   },
   "source": [
    "## Generate List of Data"
   ]
  },
  {
   "cell_type": "code",
   "execution_count": null,
   "metadata": {
    "collapsed": false,
    "deletable": true,
    "editable": true
   },
   "outputs": [],
   "source": [
    "subj_date = [full_subj_path.split('/')[-1]\n",
    "             for full_subj_path in glob.iglob('{}/Adjacency.*.npz'.format(path_InpData))]\n",
    "\n",
    "subj_ids = {}\n",
    "for s_d in subj_date:\n",
    "    subj, date = s_d.split('.')[:2]\n",
    "    try:\n",
    "        subj_ids[subj]\n",
    "    except KeyError:\n",
    "        subj_ids[subj] = []\n",
    "    \n",
    "    subj_ids[subj].append(date)"
   ]
  },
  {
   "cell_type": "markdown",
   "metadata": {
    "deletable": true,
    "editable": true
   },
   "source": [
    "## Aggregate Adjacency Matrices across Subjects"
   ]
  },
  {
   "cell_type": "code",
   "execution_count": null,
   "metadata": {
    "collapsed": false,
    "deletable": true,
    "editable": true
   },
   "outputs": [],
   "source": [
    "adj_matr = []\n",
    "adj_name = []\n",
    "for df_name in subj_date:\n",
    "    \n",
    "    # Read the input data\n",
    "    df = np.load('{}/{}'.format(path_InpData, df_name))\n",
    "\n",
    "    for adj in df['adj_matr']:\n",
    "        adj_matr.append(adj)\n",
    "        adj_name.append('.'.join(df_name.split('.')[1:3]))\n",
    "\n",
    "# Cache the configuration matrices\n",
    "adj_matr = np.array(adj_matr)\n",
    "adj_name = np.array(adj_name)\n",
    "io.savemat('{}/Module_Optimization.AdjMatr.mat'.format(path_ExpData),\n",
    "           {'adj_matr': adj_matr, \n",
    "            'adj_name': adj_name})"
   ]
  },
  {
   "cell_type": "markdown",
   "metadata": {
    "deletable": true,
    "editable": true
   },
   "source": [
    "## Run GenLouvain algorithm using MATLAB\n",
    "Refer to \"e02b_Module_Detection.m\" for this subsection"
   ]
  },
  {
   "cell_type": "markdown",
   "metadata": {
    "deletable": true,
    "editable": true
   },
   "source": [
    "# Statistics on Dynamic Modules"
   ]
  },
  {
   "cell_type": "markdown",
   "metadata": {
    "deletable": true,
    "editable": true
   },
   "source": [
    "## Generate List of Data"
   ]
  },
  {
   "cell_type": "code",
   "execution_count": null,
   "metadata": {
    "collapsed": false,
    "deletable": true,
    "editable": true
   },
   "outputs": [],
   "source": [
    "module_seed_path = glob.glob('{}/Module_Optimization.ModAssign.*.mat'.format(path_ExpData))"
   ]
  },
  {
   "cell_type": "markdown",
   "metadata": {
    "deletable": true,
    "editable": true
   },
   "source": [
    "## Module Allegiance"
   ]
  },
  {
   "cell_type": "code",
   "execution_count": null,
   "metadata": {
    "collapsed": false,
    "deletable": true,
    "editable": true,
    "scrolled": false
   },
   "outputs": [],
   "source": [
    "%matplotlib inline\n",
    "\n",
    "for pth_i, pth in enumerate(np.random.permutation(module_seed_path)):\n",
    "    df = io.loadmat(pth)\n",
    "    \n",
    "    S_subj = df['Ssubj']\n",
    "    n_subj = S_subj.shape[1]\n",
    "\n",
    "    \n",
    "    # Plot the Time-Varying Modules for one seed\n",
    "    if pth_i==0:\n",
    "        plt.figure()\n",
    "        n_rows = int(np.sqrt(n_subj))\n",
    "        n_cols = int(np.ceil(n_subj/n_rows))\n",
    "        for ii in xrange(n_subj):\n",
    "            ax = plt.subplot(n_rows, n_cols, ii+1)\n",
    "            ax.matshow(S_subj[0, ii], cmap='rainbow')\n",
    "            ax.set_axis_off()\n",
    "        plt.show()\n",
    "\n",
    "     # Compute Allegiance   \n",
    "    for ii in xrange(n_subj):\n",
    "        module_assign = S_subj[0, ii].T\n",
    "        \n",
    "        n_win = module_assign.shape[0]\n",
    "        n_node = module_assign.shape[1] \n",
    "        \n",
    "        if (pth_i == 0) and (ii == 0):\n",
    "            module_alleg = np.zeros((n_node, n_node))\n",
    "            \n",
    "        for iw in xrange(n_win):\n",
    "            module_id = np.unique(module_assign[iw, :])\n",
    "            \n",
    "            for m_id in module_id:\n",
    "                m_nodes = np.flatnonzero(module_assign[iw, :] == m_id)\n",
    "                n1, n2 = np.meshgrid(m_nodes, m_nodes)\n",
    "                \n",
    "                module_alleg[n1, n2] += 1\n",
    "module_alleg /= module_alleg[0, 0]\n",
    "module_alleg[np.diag_indices_from(module_alleg)] = 0\n",
    "np.savez(\"{}/consensus_module_allegiance.npz\".format(path_ExpData),\n",
    "         module_alleg=module_alleg) \n",
    "\n",
    "# Plot the Module Allegiance across the cohort\n",
    "plt.figure()\n",
    "ax = plt.subplot(111)\n",
    "mat = ax.matshow(module_alleg, vmin=0, vmax=1, cmap='rainbow')\n",
    "plt.colorbar(mat, ax=ax)\n",
    "ax.set_axis_off()\n",
    "ax.set_title('Population Module Allegiance')"
   ]
  },
  {
   "cell_type": "markdown",
   "metadata": {},
   "source": [
    "## Find clusters in module allegiance matrix"
   ]
  },
  {
   "cell_type": "code",
   "execution_count": null,
   "metadata": {
    "collapsed": false,
    "deletable": true,
    "editable": true
   },
   "outputs": [],
   "source": [
    "# Compute Static Modularity\n",
    "df = np.load('{}/consensus_module_allegiance.npz'.format(path_ExpData, subj))\n",
    "module_alleg = df['module_alleg']\n",
    "k = np.sum(module_alleg, axis=0)\n",
    "twom = np.sum(k)\n",
    "\n",
    "qq = []\n",
    "gamma = np.linspace(0.5, 3.0, 200)\n",
    "all_mod_id = []\n",
    "for gm in gamma:\n",
    "    B = module_alleg - gm*np.dot(k.reshape(-1, 1), k.reshape(1, -1)) / twom\n",
    "\n",
    "    mod_alleg_id, q = Echobase.Network.Partitioning.Module.community.genlouvain(B,\n",
    "                                                                                limit=10000,\n",
    "                                                                                verbose=False)\n",
    "    qq.append(q)\n",
    "    all_mod_id.append(mod_alleg_id)\n",
    "qq = np.array(qq)\n",
    "\n",
    "opt_ix = Echobase.Statistics.Optimization.curve.find_elbow(qq)\n",
    "true_mod_alleg = all_mod_id[opt_ix]\n",
    "\n",
    "# Optimization Plot\n",
    "plt.figure()\n",
    "ax = plt.subplot(111)\n",
    "ax.plot(gamma, qq)\n",
    "ax.scatter(gamma[opt_ix], qq[opt_ix], marker='x', color='r')\n",
    "\n",
    "# Axis Settings\n",
    "ax.xaxis.set_ticks_position('bottom')\n",
    "ax.yaxis.set_ticks_position('left')\n",
    "ax.set_xlabel('Gamma');\n",
    "ax.set_ylabel('Modularity');\n",
    "plt.show()\n",
    "\n",
    "# Re-ordered Module Allegiance\n",
    "plt.figure()\n",
    "ax = plt.subplot(111)\n",
    "mat = ax.matshow(module_alleg[np.meshgrid(np.argsort(true_mod_alleg), np.argsort(true_mod_alleg))],\n",
    "                 cmap='rainbow', vmin=0, vmax=1);\n",
    "plt.colorbar(mat, ax=ax)\n",
    "\n",
    "# Axis Settings\n",
    "ax.set_axis_off()\n",
    "ax.set_xlabel('Brain Regions');\n",
    "ax.set_ylabel('Brain Regions');\n",
    "plt.show()\n",
    "\n",
    "# Print out the module membership assignment\n",
    "roi_csv = pd.read_csv('{}/Atlas/HOA112_Labels.csv'.format(path_CoreData))\n",
    "for module_id in np.unique(true_mod_alleg):\n",
    "    mod_ix = np.flatnonzero(true_mod_alleg == module_id)\n",
    "    \n",
    "    print('Module_ID: {}'.format(module_id+1))     \n",
    "    print(np.unique(roi_csv['Nomenclature'][mod_ix]))"
   ]
  },
  {
   "cell_type": "code",
   "execution_count": null,
   "metadata": {
    "collapsed": false
   },
   "outputs": [],
   "source": []
  }
 ],
 "metadata": {
  "anaconda-cloud": {},
  "kernelspec": {
   "display_name": "Python 2",
   "language": "python",
   "name": "python2"
  },
  "language_info": {
   "codemirror_mode": {
    "name": "ipython",
    "version": 2
   },
   "file_extension": ".py",
   "mimetype": "text/x-python",
   "name": "python",
   "nbconvert_exporter": "python",
   "pygments_lexer": "ipython2",
   "version": "2.7.13"
  },
  "latex_envs": {
   "LaTeX_envs_menu_present": true,
   "bibliofile": "biblio.bib",
   "cite_by": "apalike",
   "current_citInitial": 1,
   "eqLabelWithNumbers": true,
   "eqNumInitial": 0,
   "labels_anchors": false,
   "latex_user_defs": false,
   "report_style_numbering": false,
   "user_envs_cfg": false
  },
  "toc": {
   "colors": {
    "hover_highlight": "#DAA520",
    "running_highlight": "#FF0000",
    "selected_highlight": "#FFD700"
   },
   "moveMenuLeft": true,
   "nav_menu": {
    "height": "210px",
    "width": "252px"
   },
   "navigate_menu": true,
   "number_sections": true,
   "sideBar": true,
   "threshold": 4,
   "toc_cell": true,
   "toc_number_sections": true,
   "toc_section_display": "block",
   "toc_threshold": 6,
   "toc_window_display": true
  }
 },
 "nbformat": 4,
 "nbformat_minor": 0
}
