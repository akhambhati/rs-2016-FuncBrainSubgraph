{
 "cells": [
  {
   "cell_type": "markdown",
   "metadata": {
    "deletable": true,
    "editable": true,
    "toc": "true"
   },
   "source": [
    "# Table of Contents\n",
    " <p><div class=\"lev1 toc-item\"><a href=\"#Detect-Dynamic-Communities\" data-toc-modified-id=\"Detect-Dynamic-Communities-1\"><span class=\"toc-item-num\">1&nbsp;&nbsp;</span>Detect Dynamic Communities</a></div><div class=\"lev2 toc-item\"><a href=\"#Initialize-Environment\" data-toc-modified-id=\"Initialize-Environment-11\"><span class=\"toc-item-num\">1.1&nbsp;&nbsp;</span>Initialize Environment</a></div><div class=\"lev2 toc-item\"><a href=\"#Generate-List-of-Data\" data-toc-modified-id=\"Generate-List-of-Data-12\"><span class=\"toc-item-num\">1.2&nbsp;&nbsp;</span>Generate List of Data</a></div><div class=\"lev2 toc-item\"><a href=\"#Aggregate-Adjacency-Matrices-across-Subjects\" data-toc-modified-id=\"Aggregate-Adjacency-Matrices-across-Subjects-13\"><span class=\"toc-item-num\">1.3&nbsp;&nbsp;</span>Aggregate Adjacency Matrices across Subjects</a></div><div class=\"lev2 toc-item\"><a href=\"#Run-GenLouvain-algorithm-using-MATLAB\" data-toc-modified-id=\"Run-GenLouvain-algorithm-using-MATLAB-14\"><span class=\"toc-item-num\">1.4&nbsp;&nbsp;</span>Run GenLouvain algorithm using MATLAB</a></div><div class=\"lev1 toc-item\"><a href=\"#Statistics-on-Dynamic-Modules\" data-toc-modified-id=\"Statistics-on-Dynamic-Modules-2\"><span class=\"toc-item-num\">2&nbsp;&nbsp;</span>Statistics on Dynamic Modules</a></div><div class=\"lev2 toc-item\"><a href=\"#Generate-List-of-Data\" data-toc-modified-id=\"Generate-List-of-Data-21\"><span class=\"toc-item-num\">2.1&nbsp;&nbsp;</span>Generate List of Data</a></div><div class=\"lev3 toc-item\"><a href=\"#Plot-example-dynamic-modules\" data-toc-modified-id=\"Plot-example-dynamic-modules-211\"><span class=\"toc-item-num\">2.1.1&nbsp;&nbsp;</span>Plot example dynamic modules</a></div><div class=\"lev2 toc-item\"><a href=\"#Module-Allegiance\" data-toc-modified-id=\"Module-Allegiance-22\"><span class=\"toc-item-num\">2.2&nbsp;&nbsp;</span>Module Allegiance</a></div><div class=\"lev2 toc-item\"><a href=\"#Find-clusters-in-module-allegiance-matrix\" data-toc-modified-id=\"Find-clusters-in-module-allegiance-matrix-23\"><span class=\"toc-item-num\">2.3&nbsp;&nbsp;</span>Find clusters in module allegiance matrix</a></div><div class=\"lev3 toc-item\"><a href=\"#Plot-reordered-module-allegiance-matrix\" data-toc-modified-id=\"Plot-reordered-module-allegiance-matrix-231\"><span class=\"toc-item-num\">2.3.1&nbsp;&nbsp;</span>Plot reordered module allegiance matrix</a></div><div class=\"lev2 toc-item\"><a href=\"#Project-module-assignments-back-on-atlas\" data-toc-modified-id=\"Project-module-assignments-back-on-atlas-24\"><span class=\"toc-item-num\">2.4&nbsp;&nbsp;</span>Project module assignments back on atlas</a></div>"
   ]
  },
  {
   "cell_type": "markdown",
   "metadata": {
    "deletable": true,
    "editable": true
   },
   "source": [
    "# Detect Dynamic Communities"
   ]
  },
  {
   "cell_type": "markdown",
   "metadata": {
    "deletable": true,
    "editable": true
   },
   "source": [
    "## Initialize Environment"
   ]
  },
  {
   "cell_type": "code",
   "execution_count": null,
   "metadata": {
    "collapsed": false,
    "deletable": true,
    "editable": true
   },
   "outputs": [],
   "source": [
    "try:\n",
    "    %load_ext autoreload\n",
    "    %autoreload 2\n",
    "    %reset\n",
    "except:\n",
    "    print 'NOT IPYTHON'\n",
    "\n",
    "from __future__ import division\n",
    "\n",
    "import os\n",
    "import sys\n",
    "import glob\n",
    "\n",
    "import numpy as np\n",
    "import pandas as pd\n",
    "import seaborn as sns\n",
    "import scipy.stats as stats\n",
    "import scipy.io as io\n",
    "import h5py\n",
    "import matplotlib.pyplot as plt\n",
    "from matplotlib import rcParams\n",
    "\n",
    "sys.path.append('/Users/akhambhati/Developer/hoth_research/Echobase')\n",
    "import Echobase\n",
    "\n",
    "rcParams = Echobase.Plotting.fig_format.update_rcparams(rcParams)\n",
    "\n",
    "path_CoreData = '/Users/akhambhati/Remotes/CORE.fMRI_multiband.mmattar/restdata'\n",
    "path_PeriphData = '/Users/akhambhati/Remotes/RSRCH.NMF_Subnetworks'\n",
    "path_InpData = path_PeriphData + '/e01-Dyne_FuncNetw'\n",
    "path_ExpData = path_PeriphData + '/e02b-DynFuncModule-Population'\n",
    "\n",
    "for path in [path_CoreData, path_PeriphData, path_ExpData]:\n",
    "    if not os.path.exists(path):\n",
    "        print('Path: {}, does not exist'.format(path))\n",
    "        os.makedirs(path)\n",
    "        \n",
    "if not os.path.exists('./e02b-Figures'):\n",
    "    os.makedirs('./e02b-Figures')                "
   ]
  },
  {
   "cell_type": "markdown",
   "metadata": {
    "deletable": true,
    "editable": true
   },
   "source": [
    "## Generate List of Data"
   ]
  },
  {
   "cell_type": "code",
   "execution_count": null,
   "metadata": {
    "collapsed": false,
    "deletable": true,
    "editable": true
   },
   "outputs": [],
   "source": [
    "subj_date = [full_subj_path.split('/')[-1]\n",
    "             for full_subj_path in glob.iglob('{}/Adjacency.*.npz'.format(path_InpData))]\n",
    "\n",
    "subj_ids = {}\n",
    "for s_d in subj_date:\n",
    "    subj, date = s_d.split('.')[:2]\n",
    "    try:\n",
    "        subj_ids[subj]\n",
    "    except KeyError:\n",
    "        subj_ids[subj] = []\n",
    "    \n",
    "    subj_ids[subj].append(date)"
   ]
  },
  {
   "cell_type": "markdown",
   "metadata": {
    "deletable": true,
    "editable": true
   },
   "source": [
    "## Aggregate Adjacency Matrices across Subjects"
   ]
  },
  {
   "cell_type": "code",
   "execution_count": null,
   "metadata": {
    "collapsed": false,
    "deletable": true,
    "editable": true
   },
   "outputs": [],
   "source": [
    "adj_matr = []\n",
    "adj_name = []\n",
    "for df_name in subj_date:\n",
    "    \n",
    "    # Read the input data\n",
    "    df = np.load('{}/{}'.format(path_InpData, df_name))\n",
    "\n",
    "    for adj in df['adj_matr']:\n",
    "        adj_matr.append(adj)\n",
    "        adj_name.append('.'.join(df_name.split('.')[1:3]))\n",
    "\n",
    "# Cache the configuration matrices\n",
    "adj_matr = np.array(adj_matr)\n",
    "adj_name = np.array(adj_name)\n",
    "io.savemat('{}/Module_Optimization.AdjMatr.mat'.format(path_ExpData),\n",
    "           {'adj_matr': adj_matr, \n",
    "            'adj_name': adj_name})"
   ]
  },
  {
   "cell_type": "markdown",
   "metadata": {
    "deletable": true,
    "editable": true
   },
   "source": [
    "## Run GenLouvain algorithm using MATLAB\n",
    "Refer to \"e02b_Module_Detection.m\" for this subsection"
   ]
  },
  {
   "cell_type": "markdown",
   "metadata": {
    "deletable": true,
    "editable": true
   },
   "source": [
    "# Statistics on Dynamic Modules"
   ]
  },
  {
   "cell_type": "markdown",
   "metadata": {
    "deletable": true,
    "editable": true
   },
   "source": [
    "## Generate List of Data"
   ]
  },
  {
   "cell_type": "code",
   "execution_count": null,
   "metadata": {
    "collapsed": false,
    "deletable": true,
    "editable": true
   },
   "outputs": [],
   "source": [
    "module_seed_path = glob.glob('{}/Module_Optimization.ModAssign.*.mat'.format(path_ExpData))"
   ]
  },
  {
   "cell_type": "markdown",
   "metadata": {},
   "source": [
    "### Plot example dynamic modules"
   ]
  },
  {
   "cell_type": "code",
   "execution_count": null,
   "metadata": {
    "collapsed": false,
    "scrolled": false
   },
   "outputs": [],
   "source": [
    "%matplotlib inline\n",
    "sel_path = np.random.permutation(module_seed_path)[0]\n",
    "df = io.loadmat(sel_path)\n",
    "S_subj = df['Ssubj']\n",
    "n_subj = S_subj.shape[1]\n",
    "sel_subj = np.random.permutation(n_subj)[0]\n",
    "\n",
    "print(len(np.unique(S_subj[0, sel_subj])))\n",
    "\n",
    "plt.figure()\n",
    "ax = plt.subplot(111)\n",
    "mat=ax.matshow(S_subj[0, sel_subj][:, :20], aspect=20./112, cmap='rainbow')\n",
    "plt.colorbar(mat, ax=ax)\n",
    "ax.yaxis.set_ticks_position('left')\n",
    "ax.xaxis.set_ticks_position('bottom')\n",
    "ax.set_ylabel('Brain Regions');\n",
    "ax.set_xlabel('Time (sec)');\n",
    "ax.set_title('Subj:{}, Seed:{}'.format(sel_subj, sel_path.split('.')[-2]))\n",
    "\n",
    "plt.savefig('./e02b-Figures/Subject-Module_Assign.svg')\n",
    "plt.close()"
   ]
  },
  {
   "cell_type": "markdown",
   "metadata": {
    "deletable": true,
    "editable": true
   },
   "source": [
    "## Module Allegiance"
   ]
  },
  {
   "cell_type": "code",
   "execution_count": null,
   "metadata": {
    "collapsed": false,
    "deletable": true,
    "editable": true,
    "scrolled": false
   },
   "outputs": [],
   "source": [
    "%matplotlib inline\n",
    "\n",
    "for pth_i, pth in enumerate(np.random.permutation(module_seed_path)):\n",
    "    df = io.loadmat(pth)\n",
    "    \n",
    "    S_subj = df['Ssubj']\n",
    "    n_subj = S_subj.shape[1]\n",
    "\n",
    "     # Compute Allegiance   \n",
    "    for ii in xrange(n_subj):\n",
    "        module_assign = S_subj[0, ii].T\n",
    "        \n",
    "        n_win = module_assign.shape[0]\n",
    "        n_node = module_assign.shape[1] \n",
    "        \n",
    "        if (pth_i == 0) and (ii == 0):\n",
    "            module_alleg = np.zeros((n_node, n_node))\n",
    "            \n",
    "        for iw in xrange(n_win):\n",
    "            module_id = np.unique(module_assign[iw, :])\n",
    "            \n",
    "            for m_id in module_id:\n",
    "                m_nodes = np.flatnonzero(module_assign[iw, :] == m_id)\n",
    "                n1, n2 = np.meshgrid(m_nodes, m_nodes)\n",
    "                \n",
    "                module_alleg[n1, n2] += 1\n",
    "module_alleg /= module_alleg[0, 0]\n",
    "module_alleg[np.diag_indices_from(module_alleg)] = 0\n",
    "np.savez(\"{}/consensus_module_allegiance.npz\".format(path_ExpData),\n",
    "         module_alleg=module_alleg) \n",
    "\n",
    "# Plot the Module Allegiance across the cohort\n",
    "plt.figure()\n",
    "ax = plt.subplot(111)\n",
    "mat = ax.matshow(module_alleg, vmin=0, vmax=1, cmap='rainbow')\n",
    "plt.colorbar(mat, ax=ax)\n",
    "ax.set_axis_off()\n",
    "ax.set_title('Population Module Allegiance')"
   ]
  },
  {
   "cell_type": "markdown",
   "metadata": {
    "deletable": true,
    "editable": true
   },
   "source": [
    "## Find clusters in module allegiance matrix"
   ]
  },
  {
   "cell_type": "code",
   "execution_count": null,
   "metadata": {
    "collapsed": false,
    "deletable": true,
    "editable": true,
    "scrolled": false
   },
   "outputs": [],
   "source": [
    "# Compute Static Modularity\n",
    "df = np.load('{}/consensus_module_allegiance.npz'.format(path_ExpData))\n",
    "module_alleg = df['module_alleg']\n",
    "n_node = module_alleg.shape[0]\n",
    "k = np.sum(module_alleg, axis=0)\n",
    "twom = np.sum(k)\n",
    "\n",
    "# Optimize Gamma\n",
    "qq = []\n",
    "gamma = np.linspace(0.5, 3.0, 1000)\n",
    "for gm in gamma:\n",
    "    B = module_alleg - gm*np.dot(k.reshape(-1, 1), k.reshape(1, -1)) / twom\n",
    "    mod_alleg_id, q = Echobase.Network.Partitioning.Module.community.genlouvain(B, limit=10000, verbose=False)\n",
    "    \n",
    "    qq.append(q)\n",
    "qq = np.array(qq)\n",
    "opt_ix = Echobase.Statistics.Optimization.curve.find_elbow(qq)\n",
    "opt_gamma = gamma[opt_ix]\n",
    "\n",
    "# Perform consensus\n",
    "B = module_alleg - opt_gamma*np.dot(k.reshape(-1, 1), k.reshape(1, -1)) / twom\n",
    "n_seed = 1000\n",
    "mod_consensus = np.zeros((n_node, n_node))\n",
    "for n_i in xrange(n_seed):\n",
    "    mod_alleg_id, q = Echobase.Network.Partitioning.Module.community.genlouvain(B, limit=10000, verbose=False)\n",
    "\n",
    "    for m_id in np.unique(mod_alleg_id):\n",
    "        m_nodes = np.flatnonzero(mod_alleg_id == m_id)\n",
    "        n1, n2 = np.meshgrid(m_nodes, m_nodes)\n",
    "\n",
    "        mod_consensus[n1, n2] += 1\n",
    "mod_consensus /= mod_consensus[0, 0]\n",
    "mod_consensus[np.diag_indices_from(mod_consensus)] = 0\n",
    "\n",
    "k = np.sum(mod_consensus, axis=0)\n",
    "twom = np.sum(k)\n",
    "B = mod_consensus - opt_gamma*np.dot(k.reshape(-1, 1), k.reshape(1, -1)) / twom\n",
    "true_mod_alleg, q = Echobase.Network.Partitioning.Module.community.genlouvain(B, limit=10000, verbose=False)\n",
    "\n",
    "# Re-ordered Module Allegiance\n",
    "plt.figure()\n",
    "ax = plt.subplot(111)\n",
    "mat = ax.matshow(mod_consensus[np.meshgrid(np.argsort(true_mod_alleg), np.argsort(true_mod_alleg))],\n",
    "                 cmap='rainbow', vmin=0, vmax=1);\n",
    "plt.colorbar(mat, ax=ax)\n",
    "\n",
    "# Axis Settings\n",
    "ax.set_axis_off()\n",
    "ax.set_xlabel('Brain Regions');\n",
    "ax.set_ylabel('Brain Regions');\n",
    "plt.show()\n",
    "\n",
    "# Save Assignment\n",
    "np.savez(\"{}/consensus_module_allegiance_assignment.npz\".format(path_ExpData),\n",
    "         module_assign=true_mod_alleg) "
   ]
  },
  {
   "cell_type": "markdown",
   "metadata": {},
   "source": [
    "### Plot reordered module allegiance matrix"
   ]
  },
  {
   "cell_type": "code",
   "execution_count": null,
   "metadata": {
    "collapsed": false,
    "scrolled": false
   },
   "outputs": [],
   "source": [
    "# Load the module allegiance\n",
    "df = np.load('{}/consensus_module_allegiance.npz'.format(path_ExpData))\n",
    "module_alleg = df['module_alleg']\n",
    "\n",
    "# Load the module assignment from the module allegiance\n",
    "df_mda = np.load(\"{}/consensus_module_allegiance_assignment.npz\".format(path_ExpData))\n",
    "module_assign = df_mda['module_assign']\n",
    "mod_ix = np.argsort(module_assign)\n",
    "\n",
    "\n",
    "plt.figure()\n",
    "ax = plt.subplot(111)\n",
    "mat = ax.matshow(module_alleg, vmin=0, vmax=1, cmap='plasma')\n",
    "plt.colorbar(mat, ax=ax)\n",
    "\n",
    "ax.set_title('Population Module Allegiance')\n",
    "ax.set_axis_off()\n",
    "ax.set_ylabel('Brain Regions');\n",
    "ax.set_xlabel('Brain Regions');\n",
    "\n",
    "plt.savefig('./e02b-Figures/Module_Allegiance.svg')\n",
    "plt.show()\n",
    "plt.close()"
   ]
  },
  {
   "cell_type": "markdown",
   "metadata": {
    "deletable": true,
    "editable": true
   },
   "source": [
    "## Project module assignments back on atlas"
   ]
  },
  {
   "cell_type": "code",
   "execution_count": null,
   "metadata": {
    "collapsed": false,
    "deletable": true,
    "editable": true
   },
   "outputs": [],
   "source": [
    "import nibabel as nib\n",
    "\n",
    "# Load the module assignment from the module allegiance\n",
    "df_mda = np.load(\"{}/consensus_module_allegiance_assignment.npz\".format(path_ExpData))\n",
    "module_assign = df_mda['module_assign']\n",
    "\n",
    "# Print out the module membership assignment\n",
    "roi_csv = pd.read_csv('{}/Atlas/HOA112_Labels.csv'.format(path_CoreData))\n",
    "for module_id in np.unique(module_assign):\n",
    "    mod_ix = np.flatnonzero(module_assign == module_id)\n",
    "    print('Module_ID: {}'.format(module_id+1))     \n",
    "    print(np.unique(roi_csv['Nomenclature'][mod_ix]))\n",
    "\n",
    "# Map ROI labels to Module labels\n",
    "for hemi in ['L', 'R']:\n",
    "    # Atlas Nifti\n",
    "    df_atlas = nib.load('{}/Atlas/HOA112_MNI-thr0-1mm.nii.gz'.format(path_CoreData))\n",
    "    atlas_matr = df_atlas.get_data()\n",
    "    atlas_module_matr = np.zeros_like(atlas_matr)\n",
    "        \n",
    "    for n_i in xrange(n_node):\n",
    "        if roi_csv['Hemisphere'][n_i] == hemi:\n",
    "            atlas_module_matr[np.nonzero(atlas_matr == n_i+1)] = module_assign[n_i]+1  \n",
    "    \n",
    "    # Create new Nifti1 Image    \n",
    "    df_atlas_module = nib.Nifti1Image(atlas_module_matr, df_atlas.affine, df_atlas.header)\n",
    "    nib.save(df_atlas_module, '{}/module_allegiance-hemi_{}.nii.gz'.format(path_ExpData, hemi))"
   ]
  },
  {
   "cell_type": "code",
   "execution_count": null,
   "metadata": {
    "collapsed": false,
    "deletable": true,
    "editable": true
   },
   "outputs": [],
   "source": [
    "from nilearn import plotting, image\n",
    "\n",
    "smooth_anat_img = image.smooth_img('{}/module_allegiance.nii.gz'.format(path_ExpData), 0)\n",
    "display = plotting.plot_stat_map(smooth_anat_img, smooth_anat_img,\n",
    "                                 cmap='Accent', black_bg=False,\n",
    "                                 colorbar=True, draw_cross=False)"
   ]
  }
 ],
 "metadata": {
  "anaconda-cloud": {},
  "kernelspec": {
   "display_name": "Python 2",
   "language": "python",
   "name": "python2"
  },
  "language_info": {
   "codemirror_mode": {
    "name": "ipython",
    "version": 2
   },
   "file_extension": ".py",
   "mimetype": "text/x-python",
   "name": "python",
   "nbconvert_exporter": "python",
   "pygments_lexer": "ipython2",
   "version": "2.7.13"
  },
  "latex_envs": {
   "LaTeX_envs_menu_present": true,
   "bibliofile": "biblio.bib",
   "cite_by": "apalike",
   "current_citInitial": 1,
   "eqLabelWithNumbers": true,
   "eqNumInitial": 0,
   "labels_anchors": false,
   "latex_user_defs": false,
   "report_style_numbering": false,
   "user_envs_cfg": false
  },
  "toc": {
   "colors": {
    "hover_highlight": "#DAA520",
    "running_highlight": "#FF0000",
    "selected_highlight": "#FFD700"
   },
   "moveMenuLeft": true,
   "nav_menu": {
    "height": "210px",
    "width": "252px"
   },
   "navigate_menu": true,
   "number_sections": true,
   "sideBar": true,
   "threshold": 4,
   "toc_cell": true,
   "toc_number_sections": true,
   "toc_position": {
    "height": "897px",
    "left": "0px",
    "right": "1707px",
    "top": "106px",
    "width": "212px"
   },
   "toc_section_display": "block",
   "toc_threshold": 6,
   "toc_window_display": true
  }
 },
 "nbformat": 4,
 "nbformat_minor": 0
}
