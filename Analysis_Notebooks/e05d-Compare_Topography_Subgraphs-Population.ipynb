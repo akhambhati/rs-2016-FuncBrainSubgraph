{
 "cells": [
  {
   "cell_type": "markdown",
   "metadata": {
    "toc": "true"
   },
   "source": [
    "# Table of Contents\n",
    " <p><div class=\"lev1 toc-item\"><a href=\"#Initialize-Environment\" data-toc-modified-id=\"Initialize-Environment-1\"><span class=\"toc-item-num\">1&nbsp;&nbsp;</span>Initialize Environment</a></div><div class=\"lev2 toc-item\"><a href=\"#Generate-List-of-Data\" data-toc-modified-id=\"Generate-List-of-Data-11\"><span class=\"toc-item-num\">1.1&nbsp;&nbsp;</span>Generate List of Data</a></div><div class=\"lev1 toc-item\"><a href=\"#Subgraph-Topography\" data-toc-modified-id=\"Subgraph-Topography-2\"><span class=\"toc-item-num\">2&nbsp;&nbsp;</span>Subgraph Topography</a></div><div class=\"lev2 toc-item\"><a href=\"#Relate-Subgraph-Connection-Strength-to-Connection-Distance\" data-toc-modified-id=\"Relate-Subgraph-Connection-Strength-to-Connection-Distance-21\"><span class=\"toc-item-num\">2.1&nbsp;&nbsp;</span>Relate Subgraph Connection Strength to Connection Distance</a></div><div class=\"lev2 toc-item\"><a href=\"#Plot-Ranked-Topographical-Sensitivity\" data-toc-modified-id=\"Plot-Ranked-Topographical-Sensitivity-22\"><span class=\"toc-item-num\">2.2&nbsp;&nbsp;</span>Plot Ranked Topographical Sensitivity</a></div>"
   ]
  },
  {
   "cell_type": "markdown",
   "metadata": {},
   "source": [
    "# Initialize Environment"
   ]
  },
  {
   "cell_type": "code",
   "execution_count": null,
   "metadata": {},
   "outputs": [],
   "source": [
    "try:\n",
    "    %load_ext autoreload\n",
    "    %autoreload 2\n",
    "    %reset\n",
    "except:\n",
    "    print 'NOT IPYTHON'\n",
    "\n",
    "from __future__ import division\n",
    "\n",
    "import os\n",
    "import sys\n",
    "import glob\n",
    "\n",
    "import numpy as np\n",
    "import pandas as pd\n",
    "import seaborn as sns\n",
    "import scipy.stats as stats\n",
    "import scipy.io as io\n",
    "import h5py\n",
    "import matplotlib.pyplot as plt\n",
    "from matplotlib import rcParams\n",
    "\n",
    "sys.path.append('/Users/akhambhati/Developer/hoth_research/Echobase')\n",
    "import Echobase\n",
    "convert_conn_vec_to_adj_matr = Echobase.Network.Transforms.configuration.convert_conn_vec_to_adj_matr\n",
    "convert_adj_matr_to_cfg_matr = Echobase.Network.Transforms.configuration.convert_adj_matr_to_cfg_matr\n",
    "\n",
    "rcParams = Echobase.Plotting.fig_format.update_rcparams(rcParams)\n",
    "\n",
    "path_AtlasData = '/Users/akhambhati/Remotes/CORE.MRI_Atlases'\n",
    "path_CoreData = '/Users/akhambhati/Remotes/CORE.fMRI_multiband.mmattar/restdata'\n",
    "path_PeriphData = '/Users/akhambhati/Remotes/RSRCH.NMF_Subnetworks'\n",
    "path_SubData = path_PeriphData + '/e03d-DynFuncSubgraph-Population'\n",
    "path_ExpData = path_PeriphData + '/e05d-CmpTopographySubgraph-Population'\n",
    "\n",
    "for path in [path_CoreData, path_PeriphData, path_SubData, path_ExpData]:\n",
    "    if not os.path.exists(path):\n",
    "        print('Path: {}, does not exist'.format(path))\n",
    "        os.makedirs(path)     \n",
    "        \n",
    "if not os.path.exists('./e05d-Figures'):\n",
    "    os.makedirs('./e05d-Figures')"
   ]
  },
  {
   "cell_type": "markdown",
   "metadata": {},
   "source": [
    "## Generate List of Data"
   ]
  },
  {
   "cell_type": "code",
   "execution_count": null,
   "metadata": {
    "collapsed": false
   },
   "outputs": [],
   "source": [
    "data_dict = {'subgraph_path': '{}/NMF_Optimization.consensus_subgraph.npz'.format(path_SubData),\n",
    "             'cfg_path': '{}/NMF_Optimization.CfgMatr.npz'.format(path_SubData),\n",
    "             'subgraph_geom_null_path': glob.glob('{}/NMF_GeomNull.subgraph_seed-*.npz'.format(path_SubData))}\n",
    "\n",
    "dist_matr = np.load('{}/geom_adj_matr.npz'.format(path_SubData))['dist_matr']  \n",
    "dist_conn = convert_adj_matr_to_cfg_matr(np.expand_dims(dist_matr, axis=0)).reshape(-1)\n",
    "roi_csv = pd.read_csv('{}/Atlas/HOA112_Labels.csv'.format(path_CoreData))"
   ]
  },
  {
   "cell_type": "markdown",
   "metadata": {},
   "source": [
    "# Subgraph Topography"
   ]
  },
  {
   "cell_type": "markdown",
   "metadata": {},
   "source": [
    "## Relate Subgraph Connection Strength to Connection Distance"
   ]
  },
  {
   "cell_type": "code",
   "execution_count": null,
   "metadata": {},
   "outputs": [],
   "source": [
    "# Get intra-hemispheric connections\n",
    "def get_intra_hemi(matr):\n",
    "    intra_Rhemi_ix, intra_Rhemi_iy = np.meshgrid(np.flatnonzero(roi_csv['Hemisphere'] == 'R'),\n",
    "                                               np.flatnonzero(roi_csv['Hemisphere'] == 'R')) \n",
    "    \n",
    "    intra_Lhemi_ix, intra_Lhemi_iy = np.meshgrid(np.flatnonzero(roi_csv['Hemisphere'] == 'L'),\n",
    "                                               np.flatnonzero(roi_csv['Hemisphere'] == 'L')) \n",
    "    \n",
    "    inter_hemi_ix, inter_hemi_iy = np.meshgrid(np.flatnonzero(roi_csv['Hemisphere'] == 'L'),\n",
    "                                               np.flatnonzero(roi_csv['Hemisphere'] == 'R')) \n",
    "\n",
    "    conn_Rhemi = convert_adj_matr_to_cfg_matr(np.expand_dims(matr[intra_Rhemi_ix, intra_Rhemi_iy], axis=0)).reshape(-1)\n",
    "    conn_Lhemi = convert_adj_matr_to_cfg_matr(np.expand_dims(matr[intra_Lhemi_ix, intra_Lhemi_iy], axis=0)).reshape(-1)\n",
    "    conn_hemi = convert_adj_matr_to_cfg_matr(np.expand_dims(matr[inter_hemi_ix, inter_hemi_iy], axis=0)).reshape(-1)\n",
    "    \n",
    "    conn_intra = np.concatenate((conn_Rhemi, conn_Lhemi))\n",
    "    conn_inter = np.concatenate((conn_hemi, conn_hemi))\n",
    "    \n",
    "    return conn_intra, conn_inter\n",
    "\n",
    "\n",
    "%matplotlib inline\n",
    "\n",
    "# Get Data\n",
    "data_sub = np.load(data_dict['subgraph_path'], mmap_mode='r')\n",
    "fac_subgraph = data_sub['fac_subnet']\n",
    "fac_coef = data_sub['fac_coef']\n",
    "\n",
    "# Get Parameters\n",
    "n_fac = fac_subgraph.shape[0]\n",
    "n_conn = fac_subgraph.shape[1]\n",
    "n_null = len(data_dict['subgraph_geom_null_path'])\n",
    "dist_intra, dist_inter = get_intra_hemi(dist_matr)\n",
    "\n",
    "# Setup buckets\n",
    "tsi_intra_real = np.nan*np.zeros((n_fac))\n",
    "tsi_intra_geom_null = np.nan*np.zeros((n_fac, n_null))\n",
    "\n",
    "tsi_inter_real = np.nan*np.zeros((n_fac))\n",
    "tsi_inter_geom_null = np.nan*np.zeros((n_fac, n_null))\n",
    "\n",
    "\n",
    "# Correlation between Subgraph and Distance Matrix\n",
    "subg_dist_intra = []\n",
    "subg_dist_inter = []\n",
    "for f_id in xrange(n_fac):\n",
    "    subg_intra, subg_inter = get_intra_hemi(convert_conn_vec_to_adj_matr(fac_subgraph[f_id, :]))\n",
    "    subg_dist_intra.append(subg_intra)\n",
    "    subg_dist_inter.append(subg_inter)    \n",
    "    \n",
    "    rho, pval = stats.pearsonr(dist_intra, subg_intra)\n",
    "    tsi_intra_real[f_id] = rho\n",
    "    rho, pval = stats.pearsonr(dist_inter, subg_inter)\n",
    "    tsi_inter_real[f_id] = rho\n",
    "\n",
    "# Geometric Null Correlation between Subgraph and Distance Matrix\n",
    "for n_i, null_path in enumerate(data_dict['subgraph_geom_null_path']):\n",
    "    data_null_sub = np.load(null_path, mmap_mode='r')\n",
    "    fac_subgraph = data_null_sub['fac_subnet']\n",
    "\n",
    "    for f_id in xrange(n_fac):\n",
    "        subg_intra, subg_inter = get_intra_hemi(convert_conn_vec_to_adj_matr(fac_subgraph[f_id, :]))\n",
    "\n",
    "        rho, pval = stats.pearsonr(dist_intra, subg_intra)\n",
    "        tsi_intra_geom_null[f_id, n_i] = rho\n",
    "        rho, pval = stats.pearsonr(dist_inter, subg_inter)\n",
    "        tsi_inter_geom_null[f_id, n_i] = rho\n",
    "\n",
    "np.savez('{}/Topographic_Sensitivity.npz'.format(path_ExpData),\n",
    "         tsi_intra_real=tsi_intra_real,\n",
    "         tsi_intra_geom_null=tsi_intra_geom_null,\n",
    "         tsi_inter_real=tsi_inter_real,\n",
    "         tsi_inter_geom_null=tsi_inter_geom_null)"
   ]
  },
  {
   "cell_type": "markdown",
   "metadata": {},
   "source": [
    "## Plot Ranked Topographical Sensitivity"
   ]
  },
  {
   "cell_type": "code",
   "execution_count": null,
   "metadata": {
    "scrolled": false
   },
   "outputs": [],
   "source": [
    "# Load Data\n",
    "df = np.load('{}/Topographic_Sensitivity.npz'.format(path_ExpData))\n",
    "\n",
    "tsi_intra_real = df['tsi_intra_real']\n",
    "tsi_intra_geom_null = df['tsi_intra_geom_null']\n",
    "\n",
    "tsi_inter_real = df['tsi_inter_real']\n",
    "tsi_inter_geom_null = df['tsi_inter_geom_null']\n",
    "\n",
    "n_fac, n_null = tsi_intra_geom_null.shape\n",
    "\n",
    "### Plot Intra-Hemisepheric Distribution\n",
    "for hemi_name, tsi_real, tsi_geom_null in [('Intra_Hemi', tsi_intra_real, tsi_intra_geom_null),\n",
    "                                           ('Inter_Hemi', tsi_inter_real, tsi_inter_geom_null)]:\n",
    "    plt.figure(figsize=(3,3))\n",
    "    ax = plt.subplot(111)\n",
    "\n",
    "    # Real Topography\n",
    "    ax.plot(np.arange(n_fac)+1, np.sort(tsi_real),\n",
    "            color=[0.2, 0.2, 0.2])\n",
    "\n",
    "    flat_tsi_geom_null = tsi_geom_null.reshape(-1)\n",
    "    alpha = 0.025\n",
    "    for ix, tsi in enumerate(np.sort(tsi_real)):\n",
    "        if np.nanmean(flat_tsi_geom_null > tsi) < alpha:\n",
    "            color=[0.20, 0.20, 0.75] \n",
    "        elif np.nanmean(flat_tsi_geom_null < tsi) < alpha:\n",
    "            color=[0.75, 0.20, 0.20]\n",
    "        else:\n",
    "            color=[0.20, 0.20, 0.20]\n",
    "\n",
    "        ax.scatter(ix+1, tsi,\n",
    "                   lw=0, color=color, alpha=1.0, s=40.0)\n",
    "\n",
    "    # Geometric Null Topography\n",
    "    ax.fill_between(np.arange(1, n_fac+1),\n",
    "                    y1=np.percentile(flat_tsi_geom_null[~np.isnan(flat_tsi_geom_null)], alpha*100),\n",
    "                    y2=np.percentile(flat_tsi_geom_null[~np.isnan(flat_tsi_geom_null)], (1-alpha)*100),\n",
    "                    color=[1.00, 0.25, 0.25], alpha=0.2, lw=0)\n",
    "\n",
    "    # Axis Settings\n",
    "    ax.set_xlim([0, n_fac+1])\n",
    "    ax.set_ylim([-0.5, 0.5])\n",
    "    ax.yaxis.set_ticks_position('left')\n",
    "    ax.xaxis.set_ticks_position('bottom')\n",
    "    ax.set_ylabel('Pearson Correlation\\n(Edge Strength vs Euclidean Dist.)');\n",
    "    ax.set_xlabel('Subgraphs');\n",
    "    ax.set_title(hemi_name)\n",
    "\n",
    "    plt.savefig('./e05d-Figures/Topographic_Sensitivity-{}.svg'.format(hemi_name))\n",
    "    plt.show()\n",
    "    plt.close()              "
   ]
  },
  {
   "cell_type": "code",
   "execution_count": null,
   "metadata": {
    "collapsed": false
   },
   "outputs": [],
   "source": [
    "from Echobase.Plotting import render_brain_connectivity\n",
    "\n",
    "# Load Subgraph Data\n",
    "data_sub = np.load(data_dict['subgraph_path'], mmap_mode='r')\n",
    "fac_subgraph = data_sub['fac_subnet']\n",
    "\n",
    "df = np.load('{}/Topographic_Sensitivity.npz'.format(path_ExpData))\n",
    "tsi_intra_real = df['tsi_intra_real']\n",
    "tsi_inter_real = df['tsi_inter_real']\n",
    "\n",
    "sel_fac = [('IntraH_Short', np.argsort(tsi_intra_real)[1]),\n",
    "           ('IntraH_Long', np.argsort(tsi_intra_real)[-2]),\n",
    "           ('InterH_Short', np.argsort(tsi_inter_real)[1]),\n",
    "           ('InterH_Long', np.argsort(tsi_inter_real)[-2])] \n",
    "\n",
    "# Read the ROI CSV\n",
    "roi_csv = pd.read_csv('{}/fsl/HarvardOxford/HOA112_Labels.csv'.format(path_AtlasData))\n",
    "roi_coords = np.vstack((roi_csv['X'], roi_csv['Y'], roi_csv['Z'])).T\n",
    "node_rgba = [(0.3, 0.69, 1.0, 1.0) for rr in roi_coords]\n",
    "\n",
    "view_angle = {'Axial_LR': [0.0, 0.0],\n",
    "              'Axial_RL': [0.0, 180.0],\n",
    "              'Sag_PA': [0.0, 90.0],\n",
    "              'Sag_AP': [180.0, 90.0]}\n",
    "\n",
    "for subg_type, ix in sel_fac:\n",
    "    render_brain_connectivity.draw(vtk_files=['{}/fsl/MNI/rh.pial.vtk'.format(path_AtlasData),\n",
    "                                              '{}/fsl/MNI/lh.pial.vtk'.format(path_AtlasData)],\n",
    "                                   brain_rgba=(0.5, 0.5, 0.5, 0.05), conn_cmap='plasma',\n",
    "                                   node_coords=roi_coords, node_rgba=node_rgba, conn_thr=[0.975, 1.0],\n",
    "                                   conn_list=fac_subgraph[ix, :] / fac_subgraph[ix, :].max())\n",
    "    for ang in view_angle.keys():\n",
    "        render_brain_connectivity.mlab.view(azimuth=view_angle[ang][0],\n",
    "                                                              elevation=view_angle[ang][1])\n",
    "        render_brain_connectivity.mlab.savefig('./e05d-Figures/Subgraph-{}-{}.png'.format(subg_type, ang))\n",
    "    render_brain_connectivity.mlab.close(all=True)"
   ]
  },
  {
   "cell_type": "code",
   "execution_count": null,
   "metadata": {
    "collapsed": false
   },
   "outputs": [],
   "source": []
  }
 ],
 "metadata": {
  "anaconda-cloud": {},
  "kernelspec": {
   "display_name": "Python 2",
   "language": "python",
   "name": "python2"
  },
  "language_info": {
   "codemirror_mode": {
    "name": "ipython",
    "version": 2
   },
   "file_extension": ".py",
   "mimetype": "text/x-python",
   "name": "python",
   "nbconvert_exporter": "python",
   "pygments_lexer": "ipython2",
   "version": "2.7.13"
  },
  "latex_envs": {
   "LaTeX_envs_menu_present": true,
   "bibliofile": "biblio.bib",
   "cite_by": "apalike",
   "current_citInitial": 1,
   "eqLabelWithNumbers": true,
   "eqNumInitial": 0,
   "labels_anchors": false,
   "latex_user_defs": false,
   "report_style_numbering": false,
   "user_envs_cfg": false
  },
  "toc": {
   "colors": {
    "hover_highlight": "#DAA520",
    "running_highlight": "#FF0000",
    "selected_highlight": "#FFD700"
   },
   "moveMenuLeft": true,
   "nav_menu": {
    "height": "210px",
    "width": "252px"
   },
   "navigate_menu": true,
   "number_sections": true,
   "sideBar": true,
   "threshold": 4,
   "toc_cell": true,
   "toc_number_sections": true,
   "toc_position": {
    "height": "897px",
    "left": "0px",
    "right": "1612px",
    "top": "106px",
    "width": "307px"
   },
   "toc_section_display": "block",
   "toc_threshold": 6,
   "toc_window_display": true
  }
 },
 "nbformat": 4,
 "nbformat_minor": 1
}
