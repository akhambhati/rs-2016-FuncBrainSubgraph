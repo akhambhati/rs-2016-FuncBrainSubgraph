{
 "cells": [
  {
   "cell_type": "markdown",
   "metadata": {
    "deletable": true,
    "editable": true,
    "toc": "true"
   },
   "source": [
    "# Table of Contents\n",
    " <p><div class=\"lev1 toc-item\"><a href=\"#Initialize-Environment\" data-toc-modified-id=\"Initialize-Environment-1\"><span class=\"toc-item-num\">1&nbsp;&nbsp;</span>Initialize Environment</a></div><div class=\"lev2 toc-item\"><a href=\"#Generate-List-of-Data\" data-toc-modified-id=\"Generate-List-of-Data-11\"><span class=\"toc-item-num\">1.1&nbsp;&nbsp;</span>Generate List of Data</a></div><div class=\"lev1 toc-item\"><a href=\"#Subgraph-Topography\" data-toc-modified-id=\"Subgraph-Topography-2\"><span class=\"toc-item-num\">2&nbsp;&nbsp;</span>Subgraph Topography</a></div><div class=\"lev2 toc-item\"><a href=\"#Topography-Map\" data-toc-modified-id=\"Topography-Map-21\"><span class=\"toc-item-num\">2.1&nbsp;&nbsp;</span>Topography Map</a></div><div class=\"lev2 toc-item\"><a href=\"#Relate-Subgraph-Connection-Strength-to-Connection-Distance\" data-toc-modified-id=\"Relate-Subgraph-Connection-Strength-to-Connection-Distance-22\"><span class=\"toc-item-num\">2.2&nbsp;&nbsp;</span>Relate Subgraph Connection Strength to Connection Distance</a></div><div class=\"lev2 toc-item\"><a href=\"#Plot-Ranked-Topographical-Sensitivity\" data-toc-modified-id=\"Plot-Ranked-Topographical-Sensitivity-23\"><span class=\"toc-item-num\">2.3&nbsp;&nbsp;</span>Plot Ranked Topographical Sensitivity</a></div>"
   ]
  },
  {
   "cell_type": "markdown",
   "metadata": {
    "deletable": true,
    "editable": true
   },
   "source": [
    "# Initialize Environment"
   ]
  },
  {
   "cell_type": "code",
   "execution_count": null,
   "metadata": {
    "collapsed": false,
    "deletable": true,
    "editable": true
   },
   "outputs": [],
   "source": [
    "try:\n",
    "    %load_ext autoreload\n",
    "    %autoreload 2\n",
    "    %reset\n",
    "except:\n",
    "    print 'NOT IPYTHON'\n",
    "\n",
    "from __future__ import division\n",
    "\n",
    "import os\n",
    "import sys\n",
    "import glob\n",
    "\n",
    "import numpy as np\n",
    "import pandas as pd\n",
    "import seaborn as sns\n",
    "import scipy.stats as stats\n",
    "import scipy.io as io\n",
    "import h5py\n",
    "import matplotlib.pyplot as plt\n",
    "from matplotlib import rcParams\n",
    "\n",
    "sys.path.append('/Users/akhambhati/Developer/hoth_research/Echobase')\n",
    "import Echobase\n",
    "convert_conn_vec_to_adj_matr = Echobase.Network.Transforms.configuration.convert_conn_vec_to_adj_matr\n",
    "convert_adj_matr_to_cfg_matr = Echobase.Network.Transforms.configuration.convert_adj_matr_to_cfg_matr\n",
    "\n",
    "rcParams = Echobase.Plotting.fig_format.update_rcparams(rcParams)\n",
    "\n",
    "path_CoreData = '/Users/akhambhati/Remotes/CORE.fMRI_multiband.mmattar/restdata'\n",
    "path_PeriphData = '/Users/akhambhati/Remotes/RSRCH.NMF_Subnetworks'\n",
    "path_SubData = path_PeriphData + '/e03a-DynFuncSubgraph-Subject'\n",
    "path_ExpData = path_PeriphData + '/e05a-CmpTopographySubgraph-Subject'\n",
    "\n",
    "for path in [path_CoreData, path_PeriphData, path_SubData, path_ExpData]:\n",
    "    if not os.path.exists(path):\n",
    "        print('Path: {}, does not exist'.format(path))\n",
    "        os.makedirs(path)     \n",
    "        \n",
    "if not os.path.exists('./e05a-Figures'):\n",
    "    os.makedirs('./e05a-Figures')"
   ]
  },
  {
   "cell_type": "markdown",
   "metadata": {
    "deletable": true,
    "editable": true
   },
   "source": [
    "## Generate List of Data"
   ]
  },
  {
   "cell_type": "code",
   "execution_count": null,
   "metadata": {
    "collapsed": false,
    "deletable": true,
    "editable": true
   },
   "outputs": [],
   "source": [
    "subj_cfg_ids = np.unique([full_subj_path.split('/')[-1].split('.')[0]\n",
    "                          for full_subj_path in glob.iglob('{}/*.cfg_matr.npz'.format(path_SubData))])\n",
    "    \n",
    "subj_dict = {}\n",
    "for subj in subj_cfg_ids:\n",
    "    subj_dict[subj] = {'subgraph_path': '{}/{}.consensus_subgraph.npz'.format(path_SubData, subj),\n",
    "                       'cfg_path': '{}/{}.cfg_matr.npz'.format(path_SubData, subj)}"
   ]
  },
  {
   "cell_type": "markdown",
   "metadata": {
    "deletable": true,
    "editable": true
   },
   "source": [
    "# Subgraph Topography"
   ]
  },
  {
   "cell_type": "markdown",
   "metadata": {
    "deletable": true,
    "editable": true
   },
   "source": [
    "## Relate Subgraph Connection Strength to Connection Distance"
   ]
  },
  {
   "cell_type": "code",
   "execution_count": null,
   "metadata": {
    "collapsed": false,
    "deletable": true,
    "editable": true
   },
   "outputs": [],
   "source": [
    "dist_matr = np.load('{}/geom_adj_matr.npz'.format(path_SubData))['dist_matr']\n",
    "\n",
    "%matplotlib inline\n",
    "n_null = 10\n",
    "\n",
    "n_subj = len(subj_dict.keys())\n",
    "for subj_i, subj in enumerate(subj_dict.iterkeys()):\n",
    "    print(\" -- Processing: {}\".format(subj))\n",
    "    \n",
    "    data_sub = np.load(subj_dict[subj]['subgraph_path'], mmap_mode='r')\n",
    "    \n",
    "    fac_subgraph = data_sub['fac_subnet']\n",
    "    fac_coef = data_sub['fac_coef']\n",
    "        \n",
    "    n_fac = fac_subgraph.shape[0]\n",
    "    n_conn = fac_subgraph.shape[1]\n",
    "    \n",
    "    conn_dist = convert_adj_matr_to_cfg_matr(dist_matr.reshape(1, dist_matr.shape[0], dist_matr.shape[1])).reshape(-1)\n",
    "    \n",
    "    if subj_i == 0:\n",
    "        topo_sens_pop = np.nan*np.zeros((n_subj, n_fac))\n",
    "        topo_sens_pop_geom_null = np.nan*np.zeros((n_subj, n_null, n_fac))\n",
    "\n",
    "    # Correlation between Subgraph and Distance Matrix\n",
    "    for f_id in xrange(n_fac):\n",
    "        fac_subgraph_norm = fac_subgraph[f_id, :] / fac_subgraph[f_id, :].max()\n",
    "        rho, pval = stats.pearsonr(conn_dist, fac_subgraph_norm)\n",
    "        topo_sens_pop[subj_i, f_id] = rho\n",
    "    \n",
    "    # Null Correlation between Subgraph and Distance Matrix\n",
    "    for ns in xrange(n_null):\n",
    "        for f_id in xrange(n_fac):\n",
    "            adj_real = convert_conn_vec_to_adj_matr(fac_subgraph[f_id, :])\n",
    "            adj_null = Echobase.Network.Rewire.geometry.bin_perm(adj_real, dist_matr, 3)\n",
    "            fac_subgraph_null = convert_adj_matr_to_cfg_matr(adj_null.reshape(1, adj_null.shape[0], adj_null.shape[1])).reshape(-1)\n",
    "            fac_subgraph_null /= fac_subgraph_null.max()\n",
    "            rho, pval = stats.pearsonr(conn_dist, fac_subgraph_null)\n",
    "            topo_sens_pop_geom_null[subj_i, ns, f_id] = rho            \n",
    "            \n",
    "np.savez('{}/Topographic_Sensitivity.npz'.format(path_ExpData),\n",
    "         topo_sens_pop=topo_sens_pop,\n",
    "         topo_sens_pop_geom_null=topo_sens_pop_geom_null)\n",
    "\n",
    "## Plot Example Geometric Null\n",
    "plt.figure()\n",
    "ax = plt.subplot(121)\n",
    "ax.matshow(adj_real, cmap='rainbow')\n",
    "ax.set_title('Real Adjacency')\n",
    "ax.set_axis_off()\n",
    "\n",
    "ax = plt.subplot(122)\n",
    "ax.matshow(adj_null, cmap='rainbow')\n",
    "ax.set_title('Geometric Null Adjacency')\n",
    "ax.set_axis_off()"
   ]
  },
  {
   "cell_type": "markdown",
   "metadata": {
    "deletable": true,
    "editable": true
   },
   "source": [
    "## Plot Ranked Topographical Sensitivity"
   ]
  },
  {
   "cell_type": "code",
   "execution_count": null,
   "metadata": {
    "collapsed": false,
    "deletable": true,
    "editable": true
   },
   "outputs": [],
   "source": [
    "df = np.load('{}/Topographic_Sensitivity.npz'.format(path_ExpData))\n",
    "topo_sens_pop = df['topo_sens_pop']\n",
    "topo_sens_pop_geom_null = df['topo_sens_pop_geom_null']\n",
    "\n",
    "# Sort the topographic sensitivity for subgraphs of each subject\n",
    "topo_sens_pop_sorted = np.sort(topo_sens_pop, axis=1)\n",
    "topo_sens_pop_geom_null_sorted = np.sort(topo_sens_pop_geom_null, axis=2).reshape(n_subj*n_null, n_fac)\n",
    "\n",
    "alpha = 0.05 / n_fac\n",
    "\n",
    "print('\\n\\n----- Geometric Null ------')\n",
    "for ii in xrange(n_fac):\n",
    "    tval, pval = stats.ttest_ind(topo_sens_pop_sorted[:, ii], topo_sens_pop_geom_null_sorted[:, ii])\n",
    "    if pval < alpha:\n",
    "        sig = '*'\n",
    "    else:\n",
    "        sig = ' '    \n",
    "    print('{}- t={:0.5}, p={:0.5}, sig={}'.format(ii+1, tval, pval, sig))\n",
    "\n",
    "    \n",
    "# Plot Topographical Sensitivity\n",
    "plt.figure()\n",
    "ax = plt.subplot(111)\n",
    "\n",
    "ax.plot(np.arange(1, n_fac+1),\n",
    "        np.percentile(topo_sens_pop_geom_null_sorted, 50, axis=0),\n",
    "        color='k', linewidth=1.0)\n",
    "ax.fill_between(np.arange(1, 17),\n",
    "                y1=np.percentile(topo_sens_pop_geom_null_sorted, 25, axis=0),\n",
    "                y2=np.percentile(topo_sens_pop_geom_null_sorted, 75, axis=0),\n",
    "                color=[0.75, 0.75, 0.75])\n",
    "\n",
    "clr_list = []\n",
    "for ii in xrange(n_fac):\n",
    "    clr_list.append([0.0, 0.375, 1.0])\n",
    "bplot = ax.boxplot(topo_sens_pop_sorted, patch_artist=True);\n",
    "Echobase.Plotting.fig_format.set_box_color(bplot, 'k', clr_list)\n",
    "\n",
    "# Axis Settings\n",
    "ax.set_xlim([0, 17])\n",
    "ax.yaxis.set_ticks_position('left')\n",
    "ax.xaxis.set_ticks_position('bottom')\n",
    "ax.set_ylabel('Pearson Correlation\\n(Edge Strength vs Euclidean Dist.)');\n",
    "ax.set_xlabel('Subgraphs');\n",
    "\n",
    "plt.savefig('./e05a-Figures/Topographic_Sensitivity-SubgraphPCorr.svg')\n",
    "plt.show()\n",
    "plt.close()              "
   ]
  },
  {
   "cell_type": "code",
   "execution_count": null,
   "metadata": {
    "collapsed": false,
    "deletable": true,
    "editable": true
   },
   "outputs": [],
   "source": []
  }
 ],
 "metadata": {
  "anaconda-cloud": {},
  "kernelspec": {
   "display_name": "Python 2",
   "language": "python",
   "name": "python2"
  },
  "language_info": {
   "codemirror_mode": {
    "name": "ipython",
    "version": 2
   },
   "file_extension": ".py",
   "mimetype": "text/x-python",
   "name": "python",
   "nbconvert_exporter": "python",
   "pygments_lexer": "ipython2",
   "version": "2.7.13"
  },
  "latex_envs": {
   "LaTeX_envs_menu_present": true,
   "bibliofile": "biblio.bib",
   "cite_by": "apalike",
   "current_citInitial": 1,
   "eqLabelWithNumbers": true,
   "eqNumInitial": 0,
   "labels_anchors": false,
   "latex_user_defs": false,
   "report_style_numbering": false,
   "user_envs_cfg": false
  },
  "toc": {
   "colors": {
    "hover_highlight": "#DAA520",
    "running_highlight": "#FF0000",
    "selected_highlight": "#FFD700"
   },
   "moveMenuLeft": true,
   "nav_menu": {
    "height": "210px",
    "width": "252px"
   },
   "navigate_menu": true,
   "number_sections": true,
   "sideBar": true,
   "threshold": 4,
   "toc_cell": true,
   "toc_number_sections": true,
   "toc_position": {
    "height": "897px",
    "left": "0px",
    "right": "1612px",
    "top": "106px",
    "width": "307px"
   },
   "toc_section_display": "block",
   "toc_threshold": 6,
   "toc_window_display": true
  }
 },
 "nbformat": 4,
 "nbformat_minor": 0
}
