{
 "cells": [
  {
   "cell_type": "markdown",
   "metadata": {
    "toc": "true"
   },
   "source": [
    "# Table of Contents\n",
    " <p><div class=\"lev1 toc-item\"><a href=\"#Initialize-Environment\" data-toc-modified-id=\"Initialize-Environment-1\"><span class=\"toc-item-num\">1&nbsp;&nbsp;</span>Initialize Environment</a></div><div class=\"lev2 toc-item\"><a href=\"#Generate-List-of-Data\" data-toc-modified-id=\"Generate-List-of-Data-11\"><span class=\"toc-item-num\">1.1&nbsp;&nbsp;</span>Generate List of Data</a></div><div class=\"lev1 toc-item\"><a href=\"#Modules-vs-Subgraphs\" data-toc-modified-id=\"Modules-vs-Subgraphs-2\"><span class=\"toc-item-num\">2&nbsp;&nbsp;</span>Modules vs Subgraphs</a></div><div class=\"lev2 toc-item\"><a href=\"#Map-Subgraph-Topology-to-Module-Allegiance-Matrix\" data-toc-modified-id=\"Map-Subgraph-Topology-to-Module-Allegiance-Matrix-21\"><span class=\"toc-item-num\">2.1&nbsp;&nbsp;</span>Map Subgraph Topology to Module Allegiance Matrix</a></div><div class=\"lev3 toc-item\"><a href=\"#Plot-Ranked-Module-Sensitivity\" data-toc-modified-id=\"Plot-Ranked-Module-Sensitivity-211\"><span class=\"toc-item-num\">2.1.1&nbsp;&nbsp;</span>Plot Ranked Module Sensitivity</a></div><div class=\"lev3 toc-item\"><a href=\"#Plot-Subgraphs\" data-toc-modified-id=\"Plot-Subgraphs-212\"><span class=\"toc-item-num\">2.1.2&nbsp;&nbsp;</span>Plot Subgraphs</a></div><div class=\"lev2 toc-item\"><a href=\"#Compute-Subgraph-and-Module-Dynamics\" data-toc-modified-id=\"Compute-Subgraph-and-Module-Dynamics-22\"><span class=\"toc-item-num\">2.2&nbsp;&nbsp;</span>Compute Subgraph and Module Dynamics</a></div><div class=\"lev2 toc-item\"><a href=\"#Temporal-Dynamics-of-Inter/Intra-Module-Processing\" data-toc-modified-id=\"Temporal-Dynamics-of-Inter/Intra-Module-Processing-23\"><span class=\"toc-item-num\">2.3&nbsp;&nbsp;</span>Temporal Dynamics of Inter/Intra Module Processing</a></div><div class=\"lev3 toc-item\"><a href=\"#Plot-subgraphs-with-high-and-low-coupling-strengths\" data-toc-modified-id=\"Plot-subgraphs-with-high-and-low-coupling-strengths-231\"><span class=\"toc-item-num\">2.3.1&nbsp;&nbsp;</span>Plot subgraphs with high and low coupling strengths</a></div><div class=\"lev3 toc-item\"><a href=\"#Plot-the-average-temporal-correlation-of-subgraphs\" data-toc-modified-id=\"Plot-the-average-temporal-correlation-of-subgraphs-232\"><span class=\"toc-item-num\">2.3.2&nbsp;&nbsp;</span>Plot the average temporal correlation of subgraphs</a></div><div class=\"lev3 toc-item\"><a href=\"#Plot-the-temporal-correlation-between-subgraph-types\" data-toc-modified-id=\"Plot-the-temporal-correlation-between-subgraph-types-233\"><span class=\"toc-item-num\">2.3.3&nbsp;&nbsp;</span>Plot the temporal correlation between subgraph types</a></div><div class=\"lev3 toc-item\"><a href=\"#Module-Reorganization-via-Subgraph-Expression-Coupling\" data-toc-modified-id=\"Module-Reorganization-via-Subgraph-Expression-Coupling-234\"><span class=\"toc-item-num\">2.3.4&nbsp;&nbsp;</span>Module Reorganization via Subgraph Expression Coupling</a></div><div class=\"lev2 toc-item\"><a href=\"#Regional-variation-in-module-flexibility-and-subgraph-coupling\" data-toc-modified-id=\"Regional-variation-in-module-flexibility-and-subgraph-coupling-24\"><span class=\"toc-item-num\">2.4&nbsp;&nbsp;</span>Regional variation in module flexibility and subgraph coupling</a></div><div class=\"lev3 toc-item\"><a href=\"#Project-Module-based-node-flexibility-onto-Brain\" data-toc-modified-id=\"Project-Module-based-node-flexibility-onto-Brain-241\"><span class=\"toc-item-num\">2.4.1&nbsp;&nbsp;</span>Project Module-based node flexibility onto Brain</a></div><div class=\"lev3 toc-item\"><a href=\"#Project-Subgraph-based-node-coupling-onto-Brain\" data-toc-modified-id=\"Project-Subgraph-based-node-coupling-onto-Brain-242\"><span class=\"toc-item-num\">2.4.2&nbsp;&nbsp;</span>Project Subgraph-based node coupling onto Brain</a></div>"
   ]
  },
  {
   "cell_type": "markdown",
   "metadata": {
    "deletable": true,
    "editable": true
   },
   "source": [
    "# Initialize Environment"
   ]
  },
  {
   "cell_type": "code",
   "execution_count": 3,
   "metadata": {
    "ExecuteTime": {
     "end_time": "2017-04-08T22:51:31.853093",
     "start_time": "2017-04-08T22:51:31.776069"
    },
    "collapsed": false,
    "deletable": true,
    "editable": true,
    "init_cell": true
   },
   "outputs": [
    {
     "name": "stdout",
     "output_type": "stream",
     "text": [
      "The autoreload extension is already loaded. To reload it, use:\n",
      "  %reload_ext autoreload\n"
     ]
    }
   ],
   "source": [
    "try:\n",
    "    %load_ext autoreload\n",
    "    %autoreload 2\n",
    "    %reset -f\n",
    "except:\n",
    "    print 'NOT IPYTHON'\n",
    "\n",
    "from __future__ import division\n",
    "\n",
    "import os\n",
    "import sys\n",
    "import glob\n",
    "\n",
    "import numpy as np\n",
    "import pandas as pd\n",
    "import seaborn as sns\n",
    "import scipy.stats as stats\n",
    "import scipy.io as io\n",
    "import h5py\n",
    "import matplotlib.pyplot as plt\n",
    "from matplotlib import rcParams\n",
    "\n",
    "sys.path.append('/Users/akhambhati/Developer/hoth_research/Echobase')\n",
    "import Echobase\n",
    "convert_conn_vec_to_adj_matr = Echobase.Network.Transforms.configuration.convert_conn_vec_to_adj_matr\n",
    "convert_adj_matr_to_cfg_matr = Echobase.Network.Transforms.configuration.convert_adj_matr_to_cfg_matr\n",
    "\n",
    "rcParams = Echobase.Plotting.fig_format.update_rcparams(rcParams)\n",
    "\n",
    "path_AtlasData = '/Users/akhambhati/Remotes/CORE.MRI_Atlases'\n",
    "path_CoreData = '/Users/akhambhati/Remotes/CORE.fMRI_multiband.mmattar/restdata'\n",
    "path_PeriphData = '/Users/akhambhati/Remotes/RSRCH.NMF_Subnetworks'\n",
    "path_ModData = path_PeriphData + '/e02c-DynFuncModule-Population'\n",
    "path_SubData = path_PeriphData + '/e03c-DynFuncSubgraph-Population'\n",
    "path_ExpData = path_PeriphData + '/e04c-CmpModuleSubgraph-Population'\n",
    "\n",
    "for path in [path_CoreData, path_PeriphData, path_ModData, path_SubData, path_ExpData]:\n",
    "    if not os.path.exists(path):\n",
    "        print('Path: {}, does not exist'.format(path))\n",
    "        os.makedirs(path)     \n",
    "        \n",
    "if not os.path.exists('./e04c-Figures'):\n",
    "    os.makedirs('./e04c-Figures')"
   ]
  },
  {
   "cell_type": "markdown",
   "metadata": {
    "deletable": true,
    "editable": true
   },
   "source": [
    "## Generate List of Data"
   ]
  },
  {
   "cell_type": "code",
   "execution_count": 4,
   "metadata": {
    "ExecuteTime": {
     "end_time": "2017-04-08T22:51:33.831183",
     "start_time": "2017-04-08T22:51:33.810287"
    },
    "collapsed": false,
    "deletable": true,
    "editable": true,
    "init_cell": true
   },
   "outputs": [],
   "source": [
    "data_dict = {'module_path': glob.glob('{}/Module_Optimization.ModAssign.*.mat'.format(path_ModData)),\n",
    "             'module_alleg_path': '{}/consensus_module_allegiance.npz'.format(path_ModData),\n",
    "             'subgraph_path': '{}/NMF_Optimization.consensus_subgraph.npz'.format(path_SubData),\n",
    "             'cfg_path': '{}/NMF_Optimization.CfgMatr.npz'.format(path_SubData),\n",
    "             'subgraph_edge_null_path': glob.glob('{}/NMF_EdgeNull.subgraph_seed-*.npz'.format(path_SubData))}"
   ]
  },
  {
   "cell_type": "markdown",
   "metadata": {
    "deletable": true,
    "editable": true
   },
   "source": [
    "# Modules vs Subgraphs"
   ]
  },
  {
   "cell_type": "markdown",
   "metadata": {
    "deletable": true,
    "editable": true
   },
   "source": [
    "## Map Subgraph Topology to Module Allegiance Matrix"
   ]
  },
  {
   "cell_type": "code",
   "execution_count": null,
   "metadata": {
    "collapsed": false,
    "deletable": true,
    "editable": true
   },
   "outputs": [],
   "source": [
    "# Load Module Allegiance data\n",
    "data_mda = np.load(data_dict['module_alleg_path'], mmap_mode='r')\n",
    "mda_vec = convert_adj_matr_to_cfg_matr(np.expand_dims(data_mda['module_alleg'], axis=0)).reshape(-1)\n",
    "\n",
    "# Load Subgraph Data\n",
    "data_sub = np.load(data_dict['subgraph_path'], mmap_mode='r')\n",
    "fac_subgraph = data_sub['fac_subnet']\n",
    "\n",
    "# Get Data Params\n",
    "n_fac = fac_subgraph.shape[0]\n",
    "n_conn = fac_subgraph.shape[1]\n",
    "n_null = len(data_dict['subgraph_edge_null_path'])\n",
    "\n",
    "# Initialize buckets\n",
    "msi_real = np.nan*np.zeros(n_fac)\n",
    "msi_edge_null = np.nan*np.zeros((n_fac, n_null))\n",
    "\n",
    "# Correlation between Subgraph and Distance Matrix\n",
    "for f_id in xrange(n_fac):\n",
    "    rho, pval = stats.pearsonr(mda_vec, fac_subgraph[f_id, :])\n",
    "    msi_real[f_id] = rho\n",
    "    \n",
    "# Edge Null Correlation between Subgraph and Distance Matrix\n",
    "for n_i, null_path in enumerate(data_dict['subgraph_edge_null_path']):\n",
    "    data_null_sub = np.load(null_path, mmap_mode='r')\n",
    "    fac_subgraph = data_null_sub['fac_subnet']\n",
    "\n",
    "    for f_id in xrange(n_fac):\n",
    "        rho, pval = stats.pearsonr(mda_vec, fac_subgraph[f_id, :])\n",
    "        msi_edge_null[f_id, n_i] = rho\n",
    "\n",
    "np.savez('{}/Module_Sensitivity.npz'.format(path_ExpData),\n",
    "         msi_real=msi_real,\n",
    "         msi_edge_null=msi_edge_null)"
   ]
  },
  {
   "cell_type": "markdown",
   "metadata": {
    "deletable": true,
    "editable": true
   },
   "source": [
    "### Plot Ranked Module Sensitivity\n",
    "$\\text{Subgraph}_{TRUE}$ -- represents groups of temporally co-varying edge strengths with in-tact geometry and topology -- Topographic sensitivity of subgraphs driven by temporal structure of geometry and topology\n",
    "\n",
    "$\\text{Subgraph}_{RW}$ -- represents the ``noise floor`` of the temporal co-variance without geometry or topology -- Topographic sensitivity of subgraphs driven purely by temporal structure\n",
    "\n",
    "$\\text{Subgraph}_{GRW}$ -- represents the ``noise floor`` of the temporal co-variance with in-tact geometry, but no topology -- Topographic sensitivity of subgraphs driven purely by temporal structure of geometry, but no topology"
   ]
  },
  {
   "cell_type": "code",
   "execution_count": null,
   "metadata": {
    "collapsed": false,
    "deletable": true,
    "editable": true,
    "scrolled": false
   },
   "outputs": [],
   "source": [
    "# Load Data\n",
    "df = np.load('{}/Module_Sensitivity.npz'.format(path_ExpData))\n",
    "\n",
    "msi_real = df['msi_real']\n",
    "msi_edge_null = df['msi_edge_null']\n",
    "msi_ord_ix = np.argsort(msi_real)\n",
    "\n",
    "n_fac, n_null = msi_edge_null.shape\n",
    "\n",
    "### Plot Module Sensitivity Index\n",
    "plt.figure(figsize=(3,3))\n",
    "ax = plt.subplot(111)\n",
    "\n",
    "# Real Topography\n",
    "ax.plot(np.arange(n_fac)+1, np.sort(msi_real),\n",
    "        color=[0.2, 0.2, 0.2])\n",
    "\n",
    "alpha = 0.025\n",
    "subg_intra_mod = []\n",
    "subg_inter_mod = []\n",
    "for ix, msi in enumerate(np.sort(msi_real)):\n",
    "    if np.mean(msi_edge_null.reshape(-1) > msi) < alpha:\n",
    "        color=[0.75, 0.20, 0.20]\n",
    "        subg_intra_mod.append(ix)\n",
    "    elif np.mean(msi_edge_null.reshape(-1) < msi) < alpha:\n",
    "        color=[0.20, 0.20, 0.75] \n",
    "        subg_inter_mod.append(ix)\n",
    "    else:\n",
    "        color=[0.20, 0.20, 0.20]\n",
    "        \n",
    "    ax.scatter(ix+1, msi,\n",
    "               lw=0, color=color, alpha=1.0, s=40.0)\n",
    "\n",
    "# Geometric and Edge Null Topography\n",
    "ax.fill_between([1, n_fac],\n",
    "                y1=np.percentile(msi_edge_null.reshape(-1), alpha*100),\n",
    "                y2=np.percentile(msi_edge_null.reshape(-1), (1-alpha)*100),\n",
    "                color=[1.00, 0.25, 0.25], alpha=0.2, lw=0)\n",
    "\n",
    "# Axis Settings\n",
    "ax.set_xlim([0, n_fac+1])\n",
    "#ax.set_ylim([-0.2, 0.6])\n",
    "ax.yaxis.set_ticks_position('left')\n",
    "ax.xaxis.set_ticks_position('bottom')\n",
    "ax.set_ylabel('Pearson Correlation\\n(Edge Strength vs Module Allegiance)');\n",
    "ax.set_xlabel('Subgraphs');\n",
    "\n",
    "plt.savefig('./e04c-Figures/Module_Sensitivity_Distribution.svg')\n",
    "plt.show()\n",
    "plt.close()\n",
    "\n",
    "np.savez('{}/Module_Sensitivity.npz'.format(path_ExpData),\n",
    "         msi_real=msi_real,\n",
    "         msi_ord_ix=msi_ord_ix,\n",
    "         msi_edge_null=msi_edge_null,\n",
    "         subg_intra_mod = subg_intra_mod,\n",
    "         subg_inter_mod = subg_inter_mod)"
   ]
  },
  {
   "cell_type": "markdown",
   "metadata": {
    "deletable": true,
    "editable": true
   },
   "source": [
    "### Plot Subgraphs"
   ]
  },
  {
   "cell_type": "code",
   "execution_count": null,
   "metadata": {
    "collapsed": false,
    "deletable": true,
    "editable": true
   },
   "outputs": [],
   "source": [
    "# Load Subgraph Data\n",
    "data_sub = np.load(data_dict['subgraph_path'], mmap_mode='r')\n",
    "fac_subgraph = data_sub['fac_subnet']\n",
    "\n",
    "# Load Module Sensitivity Index\n",
    "df = np.load('{}/Module_Sensitivity.npz'.format(path_ExpData))\n",
    "msi_ord_ix = df['msi_ord_ix']\n",
    "\n",
    "sel_fac = [('InterM', msi_ord_ix[0]),\n",
    "           ('IntraM', msi_ord_ix[-1])]\n",
    "\n",
    "# Read the ROI CSV\n",
    "roi_csv = pd.read_csv('{}/fsl/HarvardOxford/HOA112_Labels.csv'.format(path_AtlasData))\n",
    "roi_coords = np.vstack((roi_csv['X'], roi_csv['Y'], roi_csv['Z'])).T\n",
    "\n",
    "view_angle = {'Axial_LR': [0.0, 0.0],\n",
    "              'Axial_RL': [0.0, 180.0],\n",
    "              'Sag_PA': [0.0, 90.0],\n",
    "              'Sag_AP': [180.0, 90.0]}\n",
    "\n",
    "for subg_type, ix in sel_fac:\n",
    "    Echobase.Plotting.render_brain_connectivity.draw(vtk_files=['{}/fsl/MNI/rh.pial.vtk'.format(path_AtlasData),\n",
    "                                                                '{}/fsl/MNI/lh.pial.vtk'.format(path_AtlasData)],\n",
    "                                                     brain_rgba=(0.5, 0.5, 0.5, 0.05), conn_cmap='plasma',\n",
    "                                                     node_coords=roi_coords, conn_thr=[0.975, 1.0],\n",
    "                                                     conn_list=fac_subgraph[ix, :] / fac_subgraph[ix, :].max())\n",
    "    for ang in view_angle.keys():\n",
    "        Echobase.Plotting.render_brain_connectivity.mlab.view(azimuth=view_angle[ang][0],\n",
    "                                                              elevation=view_angle[ang][1])\n",
    "        Echobase.Plotting.render_brain_connectivity.mlab.savefig('./e04c-Figures/Subgraph-{}-{}.png'.format(subg_type, ang))\n",
    "    Echobase.Plotting.render_brain_connectivity.mlab.close(all=True)"
   ]
  },
  {
   "cell_type": "markdown",
   "metadata": {
    "deletable": true,
    "editable": true
   },
   "source": [
    "## Compute Subgraph and Module Dynamics"
   ]
  },
  {
   "cell_type": "code",
   "execution_count": null,
   "metadata": {
    "collapsed": false,
    "deletable": true,
    "editable": true,
    "scrolled": false
   },
   "outputs": [],
   "source": [
    "# Load Module Sensitivity Index\n",
    "df = np.load('{}/Module_Sensitivity.npz'.format(path_ExpData))\n",
    "msi_ord_ix = df['msi_ord_ix']\n",
    "\n",
    "# Load cfg data\n",
    "data_cfg = np.load(data_dict['cfg_path'], mmap_mode='r')\n",
    "subj_coef_full_lbl = data_cfg['cfg_name']\n",
    "subj_coef_lbl = np.array([name.split('.')[0] for name in data_cfg['cfg_name']])\n",
    "subj_lbl = np.unique(subj_coef_lbl)\n",
    "n_subj = len(subj_lbl)\n",
    "n_win_per_subj = len(np.flatnonzero(subj_coef_lbl == subj_lbl[0]))\n",
    "n_win_per_run = 20\n",
    "n_run_per_subj = int(n_win_per_subj / n_win_per_run)\n",
    "\n",
    "# Load Subgraph Data\n",
    "data_sub = np.load(data_dict['subgraph_path'], mmap_mode='r')\n",
    "fac_subgraph = data_sub['fac_subnet']\n",
    "fac_coef = data_sub['fac_coef'][msi_ord_ix, :]    # **Order by MSI index\n",
    "\n",
    "# Get Data Params\n",
    "n_fac = fac_subgraph.shape[0]\n",
    "n_conn = fac_subgraph.shape[1]\n",
    "n_node = np.int(np.ceil(np.sqrt(n_conn*2)))\n",
    "n_mod_seed = len(data_dict['module_path'])\n",
    "\n",
    "# Buckets for Subgraph dynamics\n",
    "subgraph_expr_corr = np.nan*np.zeros((n_fac, n_fac, n_subj, n_run_per_subj))\n",
    "\n",
    "# Compute Subgraph Expression Dynamics\n",
    "for s_id, subj_id in enumerate(subj_lbl):\n",
    "    win_ix = np.flatnonzero(subj_coef_lbl == subj_id)\n",
    "    \n",
    "    run_lbl = np.unique(subj_coef_full_lbl[win_ix])\n",
    "    for r_id, r_lbl in enumerate(run_lbl):\n",
    "        run_ix = np.flatnonzero(subj_coef_full_lbl == r_lbl)\n",
    "\n",
    "        sel_fac_coef = fac_coef[:, run_ix]\n",
    "        subgraph_expr_corr[:, :, s_id, r_id] = np.corrcoef(sel_fac_coef**2)\n",
    "\n",
    "# Compute module flexibility\n",
    "module_flex = np.nan*np.zeros((n_subj, n_run_per_subj, n_node, n_mod_seed))\n",
    "for mseed_id, mseed_path in enumerate(data_dict['module_path']):\n",
    "    data_mseed = io.loadmat(mseed_path)\n",
    "    for s_id in xrange(n_subj):\n",
    "        module_assign = np.array(data_mseed['Ssubj'][0, s_id], float).T\n",
    "        \n",
    "        for r_id in xrange(n_run_per_subj):\n",
    "            module_run = module_assign[r_id*n_win_per_run:(r_id+1)*n_win_per_run, :]\n",
    "            module_flex[s_id, r_id, :, mseed_id] = np.nanmean(np.abs(np.diff(module_run, axis=0)) > 0, axis=0)                \n",
    "                \n",
    "np.savez('{}/Subgraph_Module_Dynamics.npz'.format(path_ExpData),\n",
    "         module_flex = module_flex,\n",
    "         subgraph_expr_corr = subgraph_expr_corr)"
   ]
  },
  {
   "cell_type": "markdown",
   "metadata": {
    "deletable": true,
    "editable": true
   },
   "source": [
    "## Temporal Dynamics of Inter/Intra Module Processing"
   ]
  },
  {
   "cell_type": "code",
   "execution_count": null,
   "metadata": {
    "collapsed": false,
    "deletable": true,
    "editable": true,
    "scrolled": false
   },
   "outputs": [],
   "source": [
    "# Load Temporal Expression Correlation\n",
    "df = np.load('{}/Subgraph_Module_Dynamics.npz'.format(path_ExpData), mmap_mode='r')\n",
    "subg_expr_corr = df['subgraph_expr_corr']\n",
    "n_fac, n_fac, n_subj, n_run = subg_expr_corr.shape\n",
    "\n",
    "# Load Within-Module and Between-Module Subgraphs\n",
    "df = np.load('{}/Module_Sensitivity.npz'.format(path_ExpData))\n",
    "subg_intra_mod = df['subg_intra_mod']\n",
    "subg_inter_mod = df['subg_inter_mod']\n",
    "\n",
    "### Distribution of Temporal Correlation of Subgraphs\n",
    "## Correlation among Inter-Module Subgraphs\n",
    "triu_ix, triu_iy = np.triu_indices(len(subg_inter_mod), k=1)\n",
    "\n",
    "# Real\n",
    "expr_corr_inter_mod = subg_expr_corr[np.meshgrid(subg_inter_mod, subg_inter_mod)]\n",
    "expr_corr_inter_mod_dist_lvoo = []\n",
    "expr_corr_inter_mod_dist_lvoo.append(expr_corr_inter_mod[triu_ix, triu_iy, :, :].mean(axis=0).mean(axis=-1))\n",
    "for r_id in xrange(n_run):\n",
    "    lvin = np.setdiff1d(range(n_run), r_id)\n",
    "    expr_corr_inter_mod_dist_lvoo.append(\n",
    "        expr_corr_inter_mod[triu_ix, triu_iy, :, :][:, :, lvin].mean(axis=0).mean(axis=-1))\n",
    "\n",
    "## Correlation among Intra-Module Subgraphs\n",
    "triu_ix, triu_iy = np.triu_indices(len(subg_intra_mod), k=1)\n",
    "\n",
    "# Real\n",
    "expr_corr_intra_mod = subg_expr_corr[np.meshgrid(subg_intra_mod, subg_intra_mod)]\n",
    "expr_corr_intra_mod_dist_lvoo = []\n",
    "expr_corr_intra_mod_dist_lvoo.append(expr_corr_intra_mod[triu_ix, triu_iy, :, :].mean(axis=0).mean(axis=-1))\n",
    "for r_id in xrange(n_run):\n",
    "    lvin = np.setdiff1d(range(n_run), r_id)\n",
    "    expr_corr_intra_mod_dist_lvoo.append(\n",
    "        expr_corr_intra_mod[triu_ix, triu_iy, :, :][:, :, lvin].mean(axis=0).mean(axis=-1))\n",
    "\n",
    "## Correlation between Intra-Module and Inter-Module Subgraphs\n",
    "# Real\n",
    "expr_corr_betwn_mod = subg_expr_corr[np.meshgrid(subg_inter_mod, subg_intra_mod)]\n",
    "expr_corr_betwn_mod_dist_lvoo = []\n",
    "expr_corr_betwn_mod_dist_lvoo.append(expr_corr_betwn_mod.mean(axis=0).mean(axis=0).mean(axis=-1))\n",
    "for r_id in xrange(n_run):\n",
    "    lvin = np.setdiff1d(range(n_run), r_id)\n",
    "    expr_corr_betwn_mod_dist_lvoo.append(\n",
    "        expr_corr_betwn_mod[:, :, :, lvin].mean(axis=0).mean(axis=0).mean(axis=-1))"
   ]
  },
  {
   "cell_type": "markdown",
   "metadata": {},
   "source": [
    "### Plot subgraphs with high and low coupling strengths"
   ]
  },
  {
   "cell_type": "code",
   "execution_count": null,
   "metadata": {
    "collapsed": false,
    "scrolled": false
   },
   "outputs": [],
   "source": [
    "high_couple_ix = np.nonzero((subg_expr_corr.mean(axis=-1) < 0.98) &\n",
    "                            (subg_expr_corr.mean(axis=-1) > 0.50))\n",
    "low_couple_ix = np.nonzero((subg_expr_corr.mean(axis=-1) > -0.98) &\n",
    "                           (subg_expr_corr.mean(axis=-1) < -0.50))\n",
    "\n",
    "plt.figure()\n",
    "ax = plt.subplot(111)\n",
    "for cp_ix, (couple_name, couple_ix) in enumerate([('High_Couple', high_couple_ix),\n",
    "                                                  ('Low_Couple', low_couple_ix)]):\n",
    "    sg1 = couple_ix[0][0]\n",
    "    sg2 = couple_ix[1][0]\n",
    "    subj_ix = couple_ix[2][0]\n",
    "    \n",
    "    win_ix = np.flatnonzero(subj_coef_lbl == subj_lbl[subj_ix])\n",
    "    sel_fac_coef = fac_coef[:, win_ix]\n",
    "    \n",
    "    fac1 = sel_fac_coef[sg1, :] / (1.25*sel_fac_coef[sg1, :].max())\n",
    "    fac2 = sel_fac_coef[sg2, :] / (1.25*sel_fac_coef[sg2, :].max())\n",
    "    \n",
    "    ax.plot((fac1-fac1.mean())+cp_ix+1)\n",
    "    ax.plot((fac2-fac2.mean())+cp_ix+1)\n",
    "\n",
    "ax.set_ylim([0.5, 2.5])\n",
    "ax.yaxis.set_ticks_position('left')\n",
    "ax.xaxis.set_ticks_position('bottom')\n",
    "ax.set_xlabel('Time')\n",
    "\n",
    "plt.savefig('./e04c-Figures/Subgraph_Coupling.svg'.format(couple_name))\n",
    "plt.show()\n",
    "plt.close()"
   ]
  },
  {
   "cell_type": "markdown",
   "metadata": {
    "deletable": true,
    "editable": true
   },
   "source": [
    "### Plot the average temporal correlation of subgraphs"
   ]
  },
  {
   "cell_type": "code",
   "execution_count": null,
   "metadata": {
    "collapsed": false,
    "deletable": true,
    "editable": true
   },
   "outputs": [],
   "source": [
    "avg_expr_corr = subg_expr_corr.mean(axis=-1).mean(axis=-1)\n",
    "avg_expr_corr[np.diag_indices_from(avg_expr_corr)] = 0\n",
    "vmin=np.min(avg_expr_corr[np.nonzero(avg_expr_corr)])\n",
    "vmax=np.max(avg_expr_corr[np.nonzero(avg_expr_corr)])\n",
    "\n",
    "plt.figure()\n",
    "ax = plt.subplot(111)\n",
    "mat = ax.matshow(avg_expr_corr, cmap='plasma',\n",
    "                 vmin=vmin, vmax=vmax)\n",
    "plt.colorbar(mat, ax=ax)\n",
    "ax.yaxis.set_ticks_position('left')\n",
    "ax.xaxis.set_ticks_position('bottom')\n",
    "ax.set_xlabel('Subgraphs')\n",
    "ax.set_ylabel('Subgraphs')\n",
    "\n",
    "plt.savefig('./e04c-Figures/Temporal_Corr_Subgraph_Expression.svg')\n",
    "plt.show()\n",
    "plt.close()"
   ]
  },
  {
   "cell_type": "markdown",
   "metadata": {
    "deletable": true,
    "editable": true
   },
   "source": [
    "### Plot the temporal correlation between subgraph types"
   ]
  },
  {
   "cell_type": "code",
   "execution_count": null,
   "metadata": {
    "collapsed": false,
    "deletable": true,
    "editable": true,
    "scrolled": false
   },
   "outputs": [],
   "source": [
    "### Reproducibility\n",
    "for set_id, (inter_lvoo, intra_lvoo, betwn_lvoo) in enumerate(zip(expr_corr_inter_mod_dist_lvoo,\n",
    "                                                                  expr_corr_intra_mod_dist_lvoo,\n",
    "                                                                  expr_corr_betwn_mod_dist_lvoo)):\n",
    "    print('\\n --- Reproducibility: Set {} ---'.format(set_id))\n",
    "    \n",
    "    plt.figure()\n",
    "    ax = plt.subplot(111)\n",
    "    bplot = ax.boxplot([inter_lvoo,\n",
    "                        betwn_lvoo,\n",
    "                        intra_lvoo], patch_artist=True);\n",
    "    Echobase.Plotting.fig_format.set_box_color(bplot, 'k', [[0.0, 0.375, 1.0],\n",
    "                                                            [0.0, 0.375, 1.0],\n",
    "                                                            [0.0, 0.375, 1.0]])\n",
    "    # Axis Settings\n",
    "    ax.set_ylim([-0.3, 0.3])\n",
    "    ax.yaxis.set_ticks_position('left')\n",
    "    ax.xaxis.set_ticks_position('bottom')\n",
    "    ax.set_ylabel('Temporal Correlation of Subgraph Expression');\n",
    "    ax.set_xticklabels(['Amongst\\nInter-Module\\nSubgraphs', \n",
    "                        'Between\\nInter- and Intra-Module\\nSubgraphs',\n",
    "                        'Amongst\\nIntra-Module\\nSubgraphs']);\n",
    "\n",
    "    plt.savefig('./e04c-Figures/Temporal_Corr_Subgraph_Expression-Module_Type-LVOO_{}.svg'.format(set_id))\n",
    "    plt.close()    \n",
    "    \n",
    "    print(stats.ttest_rel(inter_lvoo, betwn_lvoo))\n",
    "    print(stats.ttest_rel(betwn_lvoo, intra_lvoo))\n",
    "    print(stats.ttest_rel(inter_lvoo, intra_lvoo))"
   ]
  },
  {
   "cell_type": "markdown",
   "metadata": {
    "collapsed": false,
    "deletable": true,
    "editable": true
   },
   "source": [
    "### Module Reorganization via Subgraph Expression Coupling"
   ]
  },
  {
   "cell_type": "code",
   "execution_count": null,
   "metadata": {
    "collapsed": false,
    "deletable": true,
    "editable": true,
    "scrolled": false
   },
   "outputs": [],
   "source": [
    "# Load Temporal Expression Correlation\n",
    "df = np.load('{}/Subgraph_Module_Dynamics.npz'.format(path_ExpData), mmap_mode='r')\n",
    "module_flex = df['module_flex']\n",
    "\n",
    "n_subj, n_run, n_node, n_seed = module_flex.shape\n",
    "\n",
    "# Compute module flexibility for subjects\n",
    "module_flex_dist_lvoo = []\n",
    "module_flex_dist_lvoo.append(module_flex.mean(axis=-1).mean(axis=-1).mean(axis=-1))\n",
    "for r_id in xrange(n_run):\n",
    "    lvin = np.setdiff1d(range(n_run), r_id)\n",
    "    module_flex_dist_lvoo.append(module_flex[:, lvin, :, :].mean(axis=-1).mean(axis=-1).mean(axis=-1))\n",
    "\n",
    "### Reproducibility\n",
    "for set_id, (flex_lvoo, inter_lvoo, intra_lvoo, betwn_lvoo) in enumerate(zip(module_flex_dist_lvoo,\n",
    "                                                                             expr_corr_inter_mod_dist_lvoo,\n",
    "                                                                             expr_corr_intra_mod_dist_lvoo,\n",
    "                                                                             expr_corr_betwn_mod_dist_lvoo)):\n",
    "    print('\\n --- Reproducibility: Set {} ---'.format(set_id))\n",
    "    \n",
    "    ### Inter-Module Subgraph\n",
    "    plt.figure()\n",
    "    ax = plt.subplot(111)\n",
    "\n",
    "    m, b, rho_inter, _, _ = stats.linregress(inter_lvoo,\n",
    "                                             flex_lvoo)\n",
    "    ax.scatter(inter_lvoo, flex_lvoo, \n",
    "               lw=0, s=30.0, color=[0.20, 0.20, 0.75])\n",
    "    x = np.array([-0.05, 0.3])\n",
    "    y = m * x + b\n",
    "    ax.plot(x, y, color=[0.2, 0.2, 0.2])\n",
    "\n",
    "    # Axis Settings\n",
    "    ax.set_ylim([0.09, 0.14])\n",
    "    ax.yaxis.set_ticks_position('left')\n",
    "    ax.xaxis.set_ticks_position('bottom')\n",
    "    ax.set_xlabel('Temporal Correlation')\n",
    "    ax.set_ylabel('Module Flexibility');\n",
    "\n",
    "    plt.savefig('./e04c-Figures/Inter_Module_Expr_Corr-Module_Flex-LVOO_{}.svg'.format(set_id))\n",
    "    plt.close()\n",
    "\n",
    "\n",
    "    ### Intra-Module Subgraph\n",
    "    plt.figure()\n",
    "    ax = plt.subplot(111)\n",
    "\n",
    "    m, b, rho_intra, _, _ = stats.linregress(intra_lvoo,\n",
    "                                             flex_lvoo)\n",
    "    ax.scatter(intra_lvoo, flex_lvoo, \n",
    "               lw=0, s=30.0, color=[0.75, 0.20, 0.20])\n",
    "    x = np.array([-0.07, -0.02])\n",
    "    y = m * x + b\n",
    "    ax.plot(x, y, color=[0.2, 0.2, 0.2])\n",
    "\n",
    "    # Axis Settings\n",
    "    ax.set_ylim([0.09, 0.14])    \n",
    "    ax.yaxis.set_ticks_position('left')\n",
    "    ax.xaxis.set_ticks_position('bottom')\n",
    "    ax.set_xlabel('Temporal Correlation')\n",
    "    ax.set_ylabel('Module Flexibility');\n",
    "\n",
    "    plt.savefig('./e04c-Figures/Intra_Module_Expr_Corr-Module_Flex-LVOO_{}.svg'.format(set_id))\n",
    "    plt.close()\n",
    "\n",
    "\n",
    "    ### Inter/Intra-Module Subgraph\n",
    "    plt.figure()\n",
    "    ax = plt.subplot(111)\n",
    "\n",
    "    m, b, rho_betwn, _, _ = stats.linregress(betwn_lvoo,\n",
    "                                             flex_lvoo)\n",
    "    ax.scatter(betwn_lvoo, flex_lvoo, \n",
    "               lw=0, s=30.0, color=[0.20, 0.20, 0.20])\n",
    "    x = np.array([-0.05, 0.05])\n",
    "    y = m * x + b\n",
    "    ax.plot(x, y, color=[0.2, 0.2, 0.2])\n",
    "\n",
    "    # Axis Settings\n",
    "    ax.set_ylim([0.09, 0.14])    \n",
    "    ax.yaxis.set_ticks_position('left')\n",
    "    ax.xaxis.set_ticks_position('bottom')\n",
    "    ax.set_xlabel('Temporal Correlation')\n",
    "    ax.set_ylabel('Module Flexibility');\n",
    "\n",
    "    plt.savefig('./e04c-Figures/Betwn_Module_Expr_Corr-Module_Flex-LVOO_{}.svg'.format(set_id))\n",
    "    plt.close()\n",
    "\n",
    "\n",
    "    ### Correlation\n",
    "    n_null = 100000\n",
    "    rho_inter_null = []\n",
    "    rho_intra_null = []\n",
    "    rho_betwn_null = []\n",
    "    for n_i in xrange(n_null):\n",
    "        rho, pv = stats.pearsonr(np.random.permutation(flex_lvoo), np.random.permutation(inter_lvoo))\n",
    "        rho_inter_null.append(rho)\n",
    "\n",
    "        rho, pv = stats.pearsonr(np.random.permutation(flex_lvoo), np.random.permutation(intra_lvoo))\n",
    "        rho_intra_null.append(rho)\n",
    "\n",
    "        rho, pv = stats.pearsonr(np.random.permutation(flex_lvoo), np.random.permutation(betwn_lvoo))\n",
    "        rho_betwn_null.append(rho)\n",
    "\n",
    "    if rho_inter < 0:    \n",
    "        pv_inter_null = np.mean(rho_inter_null < rho_inter)\n",
    "    else:\n",
    "        pv_inter_null = np.mean(rho_inter_null > rho_inter)        \n",
    "    if rho_intra < 0:    \n",
    "        pv_intra_null = np.mean(rho_intra_null < rho_intra)\n",
    "    else:\n",
    "        pv_intra_null = np.mean(rho_intra_null > rho_intra)\n",
    "    if rho_betwn < 0:        \n",
    "        pv_betwn_null = np.mean(rho_betwn_null < rho_betwn)\n",
    "    else:\n",
    "        pv_betwn_null = np.mean(rho_betwn_null > rho_betwn)    \n",
    "\n",
    "    print('Inter-Module Subgraphs: rho={}, pv={}'.format(rho_inter, pv_inter_null))\n",
    "    print('Intra-Module Subgraphs: rho={}, pv={}'.format(rho_intra, pv_intra_null))\n",
    "    print('Between Inter/Intra-Module Subgraphs: rho={}, pv={}'.format(rho_betwn, pv_betwn_null))"
   ]
  },
  {
   "cell_type": "markdown",
   "metadata": {
    "deletable": true,
    "editable": true
   },
   "source": [
    "## Regional variation in module flexibility and subgraph coupling\n",
    "Prior work shows that individual brain regions have varying degree of flexibility in shifting between functional modules."
   ]
  },
  {
   "cell_type": "code",
   "execution_count": null,
   "metadata": {
    "collapsed": false,
    "deletable": true,
    "editable": true
   },
   "outputs": [],
   "source": [
    "# Load Subgraph Data\n",
    "data_sub = np.load(data_dict['subgraph_path'], mmap_mode='r')\n",
    "fac_subgraph = data_sub['fac_subnet']\n",
    "subg_adj = np.array([convert_conn_vec_to_adj_matr(subg_conn) for subg_conn in fac_subgraph])\n",
    "n_fac = fac_subgraph.shape[0]\n",
    "\n",
    "# Load Module Flexibility and Temporal Expression Correlation\n",
    "df = np.load('{}/Subgraph_Module_Dynamics.npz'.format(path_ExpData), mmap_mode='r')\n",
    "module_flex = df['module_flex']\n",
    "subg_expr_corr = df['subgraph_expr_corr']\n",
    "\n",
    "n_subj, n_run, n_node, n_seed = module_flex.shape\n",
    "\n",
    "# Compute regional flexibility\n",
    "node_flex_lvoo = []\n",
    "node_flex_lvoo.append(module_flex.mean(axis=-1).mean(axis=1))\n",
    "for r_id in xrange(n_run):\n",
    "    lvin = np.setdiff1d(range(n_run), r_id)\n",
    "    node_flex_lvoo.append(module_flex[:, lvin, :, :].mean(axis=-1).mean(axis=1))\n",
    "\n",
    "# Compute node coupling\n",
    "ns_fac_subg = np.sum(subg_adj, axis=1)\n",
    "avg_subg_expr_corr = subg_expr_corr.mean(axis=0).mean(axis=-1)  # Subgraph_ID x Subject_ID\n",
    "node_couple_lvoo = []\n",
    "node_couple_lvoo.append(np.dot(avg_subg_expr_corr.T, ns_fac_subg))\n",
    "for r_id in xrange(n_run):\n",
    "    lvin = np.setdiff1d(range(n_run), r_id)\n",
    "    avg_subg_expr_corr = subg_expr_corr[:, :, :, lvin].mean(axis=0).mean(axis=-1)  # Subgraph_ID x Subject_ID\n",
    "    node_couple_lvoo.append(np.dot(avg_subg_expr_corr.T, ns_fac_subg))\n",
    "\n",
    "### Reproducibility\n",
    "for set_id, (nd_flex_lvoo, nd_couple_lvoo) in enumerate(zip(node_flex_lvoo,\n",
    "                                                            node_couple_lvoo)):\n",
    "                                                            \n",
    "    print('\\n --- Reproducibility: Set {} ---'.format(set_id))\n",
    "    \n",
    "    plt.figure()\n",
    "    ax = plt.subplot(111)\n",
    "    m, b, rho, pval, _ = stats.linregress(nd_couple_lvoo.mean(axis=0),\n",
    "                                          nd_flex_lvoo.mean(axis=0),)\n",
    "    ax.scatter(nd_couple_lvoo.mean(axis=0),\n",
    "               nd_flex_lvoo.mean(axis=0),\n",
    "               lw=0, s=10.0, color=[0.20, 0.20, 0.20])\n",
    "    x = np.array([0.6, 1.2])\n",
    "    y = m * x + b\n",
    "    ax.plot(x, y, color=[0.20, 0.20, 0.20])\n",
    "\n",
    "    # Axis Settings\n",
    "    #ax.set_ylim([0.04, 0.20])\n",
    "    #ax.set_xlim([0.6, 1.2])\n",
    "    ax.yaxis.set_ticks_position('left')\n",
    "    ax.xaxis.set_ticks_position('bottom')\n",
    "    ax.set_xlabel('Node Coupling')\n",
    "    ax.set_ylabel('Node Flexibility');\n",
    "\n",
    "    print('Node Flexibility and Coupling: rho={}, pv={}'.format(rho, pval))\n",
    "\n",
    "    plt.savefig('./e04c-Figures/Node_Flex-Node_Couple-LVOO_{}.svg'.format(set_id))\n",
    "    plt.close()"
   ]
  },
  {
   "cell_type": "markdown",
   "metadata": {
    "deletable": true,
    "editable": true
   },
   "source": [
    "### Project Module-based node flexibility onto Brain"
   ]
  },
  {
   "cell_type": "code",
   "execution_count": null,
   "metadata": {
    "collapsed": false,
    "deletable": true,
    "editable": true
   },
   "outputs": [],
   "source": [
    "import nibabel as nib\n",
    "\n",
    "# Average over subjects\n",
    "node_flex = node_flex_lvoo[0].mean(axis=0)\n",
    "n_node = node_flex.shape[0]\n",
    "node_flex = (node_flex - node_flex.mean()) / node_flex.std()\n",
    "\n",
    "# Set the colormap\n",
    "vmin = -2\n",
    "vmax = 2\n",
    "cm_sm = plt.cm.ScalarMappable()\n",
    "cm_sm.set_cmap('plasma')\n",
    "cm_sm.set_clim(vmin=vmin, vmax=vmax)\n",
    "rgb = 255*cm_sm.to_rgba(node_flex)\n",
    "\n",
    "# Read the ROI CSV\n",
    "roi_csv = pd.read_csv('{}/Atlas/HOA112_Labels.csv'.format(path_CoreData))\n",
    "\n",
    "# Map colors to ROI labels\n",
    "for hemi in ['L', 'R']:\n",
    "    f = open('{}/node_flex-hemi-{}.txt'.format(path_ExpData, hemi), 'w')\n",
    "    f.write('{:3d}    {:3d} {:3d} {:3d}    {:1d} {:1d} {:1d}    \"{}\"\\n'.format(0,0,0,0,0,0,0,'Clear Label'))\n",
    "    \n",
    "    for n_i in xrange(n_node):\n",
    "        if roi_csv['Hemisphere'][n_i] == hemi:\n",
    "            f.write('{:3d}    {:3d} {:3d} {:3d}    {:1d} {:1d} {:1d}    \"{}\"\\n'.format(n_i+1,\n",
    "                                                                                     int(rgb[n_i,0]), int(rgb[n_i,1]), int(rgb[n_i,2]),\n",
    "                                                                                     1, 1, 1, roi_csv['Nomenclature'][n_i]))\n",
    "        else:\n",
    "            f.write('{:3d}    {:3d} {:3d} {:3d}    {:1d} {:1d} {:1d}    \"{}\"\\n'.format(n_i+1,\n",
    "                                                                                     int(rgb[n_i,0]), int(rgb[n_i,1]), int(rgb[n_i,2]),\n",
    "                                                                                     0, 0, 0, roi_csv['Nomenclature'][n_i]))\n",
    "    f.close()"
   ]
  },
  {
   "cell_type": "markdown",
   "metadata": {
    "deletable": true,
    "editable": true
   },
   "source": [
    "### Project Subgraph-based node coupling onto Brain"
   ]
  },
  {
   "cell_type": "code",
   "execution_count": null,
   "metadata": {
    "collapsed": false,
    "deletable": true,
    "editable": true
   },
   "outputs": [],
   "source": [
    "import nibabel as nib\n",
    "\n",
    "# Average over subjects\n",
    "node_couple = node_couple_lvoo[0].mean(axis=0)\n",
    "n_node = node_couple.shape[0]\n",
    "node_couple = (node_couple - node_couple.mean()) / node_couple.std()\n",
    "\n",
    "# Set the colormap\n",
    "vmin = -2\n",
    "vmax = 2\n",
    "cm_sm = plt.cm.ScalarMappable()\n",
    "cm_sm.set_cmap('plasma')\n",
    "cm_sm.set_clim(vmin=vmin, vmax=vmax)\n",
    "rgb = 255*cm_sm.to_rgba(node_couple)\n",
    "\n",
    "# Read the ROI CSV\n",
    "roi_csv = pd.read_csv('{}/Atlas/HOA112_Labels.csv'.format(path_CoreData))\n",
    "\n",
    "# Map colors to ROI labels\n",
    "for hemi in ['L', 'R']:\n",
    "    f = open('{}/node_couple-hemi-{}.txt'.format(path_ExpData, hemi), 'w')\n",
    "    f.write('{:3d}    {:3d} {:3d} {:3d}    {:1d} {:1d} {:1d}    \"{}\"\\n'.format(0,0,0,0,0,0,0,'Clear Label'))\n",
    "    \n",
    "    for n_i in xrange(n_node):\n",
    "        if roi_csv['Hemisphere'][n_i] == hemi:\n",
    "            f.write('{:3d}    {:3d} {:3d} {:3d}    {:1d} {:1d} {:1d}    \"{}\"\\n'.format(n_i+1,\n",
    "                                                                                     int(rgb[n_i,0]), int(rgb[n_i,1]), int(rgb[n_i,2]),\n",
    "                                                                                     1, 1, 1, roi_csv['Nomenclature'][n_i]))\n",
    "        else:\n",
    "            f.write('{:3d}    {:3d} {:3d} {:3d}    {:1d} {:1d} {:1d}    \"{}\"\\n'.format(n_i+1,\n",
    "                                                                                     int(rgb[n_i,0]), int(rgb[n_i,1]), int(rgb[n_i,2]),\n",
    "                                                                                     0, 0, 0, roi_csv['Nomenclature'][n_i]))\n",
    "    f.close()"
   ]
  },
  {
   "cell_type": "code",
   "execution_count": null,
   "metadata": {
    "collapsed": false
   },
   "outputs": [],
   "source": []
  }
 ],
 "metadata": {
  "anaconda-cloud": {},
  "celltoolbar": "Initialisation Cell",
  "kernelspec": {
   "display_name": "Python 2",
   "language": "python",
   "name": "python2"
  },
  "language_info": {
   "codemirror_mode": {
    "name": "ipython",
    "version": 2
   },
   "file_extension": ".py",
   "mimetype": "text/x-python",
   "name": "python",
   "nbconvert_exporter": "python",
   "pygments_lexer": "ipython2",
   "version": "2.7.13"
  },
  "latex_envs": {
   "LaTeX_envs_menu_present": true,
   "bibliofile": "biblio.bib",
   "cite_by": "apalike",
   "current_citInitial": 1,
   "eqLabelWithNumbers": true,
   "eqNumInitial": 0,
   "labels_anchors": false,
   "latex_user_defs": false,
   "report_style_numbering": false,
   "user_envs_cfg": false
  },
  "toc": {
   "colors": {
    "hover_highlight": "#DAA520",
    "running_highlight": "#FF0000",
    "selected_highlight": "#FFD700"
   },
   "moveMenuLeft": true,
   "nav_menu": {
    "height": "210px",
    "width": "252px"
   },
   "navigate_menu": true,
   "number_sections": true,
   "sideBar": true,
   "threshold": 4,
   "toc_cell": true,
   "toc_number_sections": true,
   "toc_position": {
    "height": "897px",
    "left": "0px",
    "right": "1612px",
    "top": "106px",
    "width": "411px"
   },
   "toc_section_display": "block",
   "toc_threshold": 6,
   "toc_window_display": true
  }
 },
 "nbformat": 4,
 "nbformat_minor": 0
}
