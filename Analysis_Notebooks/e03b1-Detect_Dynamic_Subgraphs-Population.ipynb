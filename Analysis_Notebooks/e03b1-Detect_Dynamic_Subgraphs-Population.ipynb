{
 "cells": [
  {
   "cell_type": "markdown",
   "metadata": {
    "toc": "true"
   },
   "source": [
    "# Table of Contents\n",
    " <p><div class=\"lev1 toc-item\"><a href=\"#Initialize-Environment\" data-toc-modified-id=\"Initialize-Environment-1\"><span class=\"toc-item-num\">1&nbsp;&nbsp;</span>Initialize Environment</a></div><div class=\"lev2 toc-item\"><a href=\"#Generate-List-of-Data\" data-toc-modified-id=\"Generate-List-of-Data-11\"><span class=\"toc-item-num\">1.1&nbsp;&nbsp;</span>Generate List of Data</a></div><div class=\"lev2 toc-item\"><a href=\"#Construct-Configuration-Matrices\" data-toc-modified-id=\"Construct-Configuration-Matrices-12\"><span class=\"toc-item-num\">1.2&nbsp;&nbsp;</span>Construct Configuration Matrices</a></div><div class=\"lev1 toc-item\"><a href=\"#Detect-Dynamic-Subgraphs\" data-toc-modified-id=\"Detect-Dynamic-Subgraphs-2\"><span class=\"toc-item-num\">2&nbsp;&nbsp;</span>Detect Dynamic Subgraphs</a></div><div class=\"lev2 toc-item\"><a href=\"#Map-NMF-Consensus-to-Identify-Seed-Subgraphs\" data-toc-modified-id=\"Map-NMF-Consensus-to-Identify-Seed-Subgraphs-21\"><span class=\"toc-item-num\">2.1&nbsp;&nbsp;</span>Map NMF Consensus to Identify Seed Subgraphs</a></div><div class=\"lev2 toc-item\"><a href=\"#Consensus-Clustering-of-Dynamic-Subgraphs\" data-toc-modified-id=\"Consensus-Clustering-of-Dynamic-Subgraphs-22\"><span class=\"toc-item-num\">2.2&nbsp;&nbsp;</span>Consensus Clustering of Dynamic Subgraphs</a></div><div class=\"lev3 toc-item\"><a href=\"#Plot-Subgraphs\" data-toc-modified-id=\"Plot-Subgraphs-221\"><span class=\"toc-item-num\">2.2.1&nbsp;&nbsp;</span>Plot Subgraphs</a></div><div class=\"lev1 toc-item\"><a href=\"#Test-Retest-Reliability\" data-toc-modified-id=\"Test-Retest-Reliability-3\"><span class=\"toc-item-num\">3&nbsp;&nbsp;</span>Test-Retest Reliability</a></div>"
   ]
  },
  {
   "cell_type": "markdown",
   "metadata": {},
   "source": [
    "# Initialize Environment"
   ]
  },
  {
   "cell_type": "code",
   "execution_count": null,
   "metadata": {},
   "outputs": [],
   "source": [
    "try:\n",
    "    %load_ext autoreload\n",
    "    %autoreload 2\n",
    "    %reset\n",
    "except:\n",
    "    print 'NOT IPYTHON'\n",
    "\n",
    "from __future__ import division\n",
    "\n",
    "import os\n",
    "import sys\n",
    "import glob\n",
    "\n",
    "import numpy as np\n",
    "import pandas as pd\n",
    "import scipy.stats as stats\n",
    "import scipy.io as io\n",
    "import h5py\n",
    "import matplotlib.pyplot as plt\n",
    "from matplotlib import rcParams\n",
    "import seaborn as sns\n",
    "\n",
    "sys.path.append('/Users/akhambhati/Developer/hoth_research/Echobase')\n",
    "import Echobase\n",
    "convert_conn_vec_to_adj_matr = Echobase.Network.Transforms.configuration.convert_conn_vec_to_adj_matr\n",
    "convert_adj_matr_to_cfg_matr = Echobase.Network.Transforms.configuration.convert_adj_matr_to_cfg_matr\n",
    "nmf = Echobase.Network.Partitioning.Subgraph.nmf\n",
    "\n",
    "rcParams = Echobase.Plotting.fig_format.update_rcparams(rcParams)\n",
    "\n",
    "path_CoreData = '/Users/akhambhati/Remotes/CORE.fMRI_multiband.mmattar/restdata'\n",
    "path_PeriphData = '/Users/akhambhati/Remotes/RSRCH.NMF_Subnetworks'\n",
    "path_AtlasData = '/Users/akhambhati/Remotes/CORE.MRI_Atlases'\n",
    "path_InpData = path_PeriphData + '/e01-Dyne_FuncNetw'\n",
    "path_ExpData = path_PeriphData + '/e03b1-DynFuncSubgraph-Population'\n",
    "\n",
    "for path in [path_CoreData, path_PeriphData, path_InpData, path_ExpData]:\n",
    "    if not os.path.exists(path):\n",
    "        print('Path: {}, does not exist'.format(path))\n",
    "        os.makedirs(path)\n",
    "        \n",
    "if not os.path.exists('./e03b1-Figures'):\n",
    "    os.makedirs('./e03b1-Figures')        "
   ]
  },
  {
   "cell_type": "markdown",
   "metadata": {},
   "source": [
    "## Generate List of Data"
   ]
  },
  {
   "cell_type": "code",
   "execution_count": null,
   "metadata": {
    "collapsed": false
   },
   "outputs": [],
   "source": [
    "subj_date = [full_subj_path.split('/')[-1]\n",
    "             for full_subj_path in glob.iglob('{}/Adjacency.*.npz'.format(path_InpData))]\n",
    "\n",
    "subj_ids = {}\n",
    "for s_d in subj_date:\n",
    "    subj, date = s_d.split('.')[1:3]\n",
    "    try:\n",
    "        subj_ids[subj]\n",
    "    except KeyError:\n",
    "        subj_ids[subj] = []\n",
    "    \n",
    "    subj_ids[subj].append(date)"
   ]
  },
  {
   "cell_type": "markdown",
   "metadata": {},
   "source": [
    "## Construct Configuration Matrices\n",
    "*__WARNING: Will Delete Existing Output__*"
   ]
  },
  {
   "cell_type": "code",
   "execution_count": null,
   "metadata": {
    "collapsed": false
   },
   "outputs": [],
   "source": [
    "# Remove all existing output (retains pipe/pipeline definitions)\n",
    "rm_outp = glob.glob(\"{}/NMF_Optimization.CfgMatr.npz\".format(path_ExpData))\n",
    "\n",
    "for rm_type in [rm_outp]:\n",
    "    for path in rm_type:\n",
    "        try:\n",
    "            os.remove(path)\n",
    "        except:\n",
    "            print(\"{} not found\".format(path))"
   ]
  },
  {
   "cell_type": "code",
   "execution_count": null,
   "metadata": {
    "collapsed": false
   },
   "outputs": [],
   "source": [
    "cfg_matr_run1 = []\n",
    "cfg_name_run1 = []\n",
    "\n",
    "cfg_matr_run2 = []\n",
    "cfg_name_run2 = []\n",
    "\n",
    "for subj_id in subj_ids.keys():\n",
    "    for run_ii, run_id in enumerate(subj_ids[subj_id]):\n",
    "    \n",
    "        # Read the input data\n",
    "        df_name = 'Adjacency.{}.{}.npz'.format(subj_id, run_id)\n",
    "        df = np.load('{}/{}'.format(path_InpData, df_name))\n",
    "\n",
    "        for cfg_vec in convert_adj_matr_to_cfg_matr(df['adj_matr']):\n",
    "            if run_ii < 2:\n",
    "                cfg_matr_run1.append(cfg_vec)\n",
    "                cfg_name_run1.append('.'.join(df_name.split('.')[1:3]))\n",
    "            else:\n",
    "                cfg_matr_run2.append(cfg_vec)\n",
    "                cfg_name_run2.append('.'.join(df_name.split('.')[1:3]))            \n",
    "\n",
    "# Cache the configuration matrices\n",
    "cfg_matr_run1 = np.array(cfg_matr_run1)\n",
    "cfg_name_run1 = np.array(cfg_name_run1)\n",
    "\n",
    "np.savez('{}/NMF_Optimization.CfgMatr.Run_2.npz'.format(path_ExpData),\n",
    "         cfg_matr=cfg_matr_run1, cfg_name=cfg_name_run1)\n",
    "\n",
    "# Cache the configuration matrices\n",
    "cfg_matr_run2 = np.array(cfg_matr_run2)\n",
    "cfg_name_run2 = np.array(cfg_name_run2)\n",
    "\n",
    "np.savez('{}/NMF_Optimization.CfgMatr.Run_2.npz'.format(path_ExpData),\n",
    "         cfg_matr=cfg_matr_run2, cfg_name=cfg_name_run2)"
   ]
  },
  {
   "cell_type": "markdown",
   "metadata": {},
   "source": [
    "# Detect Dynamic Subgraphs"
   ]
  },
  {
   "cell_type": "markdown",
   "metadata": {},
   "source": [
    "## Map NMF Consensus to Identify Seed Subgraphs\n",
    "*__WARNING: Will Delete Existing Output__*"
   ]
  },
  {
   "cell_type": "code",
   "execution_count": null,
   "metadata": {
    "collapsed": false
   },
   "outputs": [],
   "source": [
    "def find_seed_subgraphs(proc_item):\n",
    "    path_Output = '{}/NMF_Consensus.Run_2.Param.{}.npz'.format(path_ExpData, proc_item['seed'])\n",
    "\n",
    "    # Check if the output already exists (can be commented if overwrite is needed)\n",
    "    if os.path.exists(path_Output):\n",
    "        raise Exception('Output {} already exists'.format(path_Output))\n",
    "\n",
    "    # Load the configuration matrix and optimal parameter set\n",
    "    cfg_data = np.load('{}/NMF_Optimization.CfgMatr.Run_2.npz'.format(path_ExpData))\n",
    "    cfg_matr = cfg_data['cfg_matr']\n",
    "\n",
    "    # Grab the task ID of the current job (and the associated parameter dictionary)\n",
    "    fac_subnet = np.random.uniform(low=0, high=1.0,\n",
    "                                   size=(proc_item['rank'],\n",
    "                                         cfg_matr.shape[1]))\n",
    "    fac_coef = np.random.uniform(low=0, high=1.0,\n",
    "                                 size=(proc_item['rank'],\n",
    "                                       cfg_matr.shape[0]))\n",
    "\n",
    "    # Run NMF Algorithm\n",
    "    fac_subnet, fac_coef, err = Echobase.Network.Partitioning.Subgraph.nmf.snmf_bcd(\n",
    "        cfg_matr,\n",
    "        alpha=proc_item['alpha'],\n",
    "        beta=proc_item['beta'],\n",
    "        fac_subnet_init=fac_subnet,\n",
    "        fac_coef_init=fac_coef,\n",
    "        max_iter=100, verbose=False)\n",
    "\n",
    "    # Cache the NMF result\n",
    "    np.savez(path_Output,\n",
    "             fac_subnet=fac_subnet,\n",
    "             fac_coef=fac_coef,\n",
    "             err=err)\n",
    "    \n",
    "    print(path_Output)"
   ]
  },
  {
   "cell_type": "code",
   "execution_count": null,
   "metadata": {
    "scrolled": false
   },
   "outputs": [],
   "source": [
    "param = {'rank': 21,\n",
    "         'alpha': 0.50,\n",
    "         'beta': 0.39}\n",
    "n_seed = 100\n",
    "\n",
    "# Generate a processing joblist\n",
    "proc_list = []\n",
    "for seed in xrange(n_seed):\n",
    "    proc_list.append({'rank': param['rank'],\n",
    "                      'alpha': param['alpha'],\n",
    "                      'beta': param['beta'],\n",
    "                      'seed': seed+1})\n",
    "\n",
    "from multiprocessing import Pool\n",
    "parallel_run = True\n",
    "\n",
    "if parallel_run:\n",
    "    mp = Pool(7)\n",
    "    mp.map(find_seed_subgraphs, proc_list)\n",
    "else:\n",
    "    find_seed_subgraphs(proc_list[0])\n",
    "    #map(find_seed_subgraphs, proc_list)"
   ]
  },
  {
   "cell_type": "markdown",
   "metadata": {},
   "source": [
    "## Consensus Clustering of Dynamic Subgraphs"
   ]
  },
  {
   "cell_type": "code",
   "execution_count": null,
   "metadata": {
    "collapsed": false
   },
   "outputs": [],
   "source": [
    "seed_paths = glob.glob(\"{}/NMF_Consensus.Run_2.Param.*.npz\".format(path_ExpData))\n",
    "\n",
    "# Aggregate the estimated subgraphs of each seed\n",
    "fac_subnet_seeds = []\n",
    "for ii, path in enumerate(seed_paths):\n",
    "    data = np.load(path, mmap_mode='r')\n",
    "    fac_subnet = data['fac_subnet'][:, :]\n",
    "    data.close()\n",
    "\n",
    "    n_fac = fac_subnet.shape[0]\n",
    "    n_conn = fac_subnet.shape[1]\n",
    "\n",
    "    for iy in xrange(fac_subnet.shape[0]):\n",
    "        fac_subnet_seeds.append(fac_subnet[iy, :])\n",
    "fac_subnet_seeds = np.array(fac_subnet_seeds)\n",
    "\n",
    "n_obs = fac_subnet_seeds.shape[0]\n",
    "n_conn = fac_subnet_seeds.shape[1]\n",
    "\n",
    "# Consensus Subgraphs\n",
    "fac_cons_subnet, fac_cons_seeds, err = nmf.snmf_bcd(\n",
    "    fac_subnet_seeds,\n",
    "    alpha=0.0,\n",
    "    beta=0.0,\n",
    "    fac_subnet_init=np.random.uniform(low=0.0, high=1.0, size=(n_fac, n_conn)),\n",
    "    fac_coef_init=np.random.uniform(low=0.0, high=1.0, size=(n_fac, n_obs)),\n",
    "    max_iter=100, verbose=False)\n",
    "\n",
    "# Consensus Coefficients\n",
    "cfg_matr_path = glob.glob(\"{}/NMF_Optimization.CfgMatr.Run_2.npz\".format(path_ExpData))[0]\n",
    "data_cfg = np.load(cfg_matr_path, mmap_mode='r')\n",
    "n_win = data_cfg['cfg_matr'].shape[0]\n",
    "fac_cons_subnet_2, fac_cons_coef_2, err = nmf.snmf_bcd(\n",
    "    data_cfg['cfg_matr'],\n",
    "    alpha=0.0,\n",
    "    beta=0.0,\n",
    "    fac_subnet_init=fac_cons_subnet,\n",
    "    fac_coef_init=np.random.uniform(low=0.0, high=1.0, size=(n_fac, n_win)),\n",
    "    max_iter=100, verbose=False)\n",
    "\n",
    "# Cache the Consensus NMF result\n",
    "np.savez(\"{}/NMF_Optimization.Run_2.consensus_subgraph.npz\".format(path_ExpData),\n",
    "         fac_subnet=fac_cons_subnet_2, fac_coef=fac_cons_coef_2, err=err)"
   ]
  },
  {
   "cell_type": "markdown",
   "metadata": {},
   "source": [
    "### Plot Subgraphs"
   ]
  },
  {
   "cell_type": "code",
   "execution_count": null,
   "metadata": {
    "scrolled": false
   },
   "outputs": [],
   "source": [
    "%matplotlib inline\n",
    "\n",
    "# Load the consensus data\n",
    "data = np.load(\"{}/NMF_Optimization.Run_2.consensus_subgraph.npz\".format(path_ExpData),\n",
    "               mmap_mode='r')\n",
    "fac_subnet = data['fac_subnet']\n",
    "fac_coef = data['fac_coef']\n",
    "\n",
    "# Normalize\n",
    "fac_subnet = fac_subnet / fac_subnet.max()\n",
    "fac_coef = fac_coef / fac_coef.max()\n",
    "\n",
    "n_fac = fac_subnet.shape[0]\n",
    "n_conn = fac_subnet.shape[1]\n",
    "n_win = fac_coef.shape[1]\n",
    "\n",
    "# Plot subgraph matrix\n",
    "plt.figure()\n",
    "ax = plt.subplot(111)\n",
    "mat = ax.matshow(fac_subnet.T, aspect=n_fac/n_conn, cmap='rainbow', vmin=0, vmax=1)\n",
    "plt.colorbar(mat, ax=ax)\n",
    "\n",
    "ax.yaxis.set_ticks_position('left')\n",
    "ax.xaxis.set_ticks_position('bottom')\n",
    "#ax.set_xticks(np.linspace(0, 80, 5))\n",
    "ax.set_ylabel('Functional Interactions')\n",
    "ax.set_xlabel('Subgraphs')\n",
    "\n",
    "plt.savefig('./e03b1-Figures/Subgraph-Cfg_Matrix.svg')\n",
    "plt.close()      \n",
    "\n",
    "# Plot subgraph adjacency\n",
    "plt.figure()\n",
    "n_row = np.floor(np.sqrt(n_fac))\n",
    "n_col = np.ceil(n_fac / n_row)\n",
    "for ii, subg in enumerate(fac_subnet):\n",
    "    adj = convert_conn_vec_to_adj_matr(subg)\n",
    "\n",
    "    ax = plt.subplot(n_row, n_col, ii+1)\n",
    "    mat = ax.matshow(adj, cmap='rainbow', vmin=0, vmax=1)\n",
    "    #plt.colorbar(mat, ax=ax)\n",
    "    ax.set_axis_off()\n",
    "    \n",
    "plt.savefig('./e03b1-Figures/Subgraph-Adj_Matrices.svg')\n",
    "plt.show()\n",
    "plt.close()      \n",
    "\n",
    "# Plot Coefficients\n",
    "plt.figure()\n",
    "ax = plt.subplot(111)\n",
    "\n",
    "fac_coef = fac_coef.T\n",
    "norm_fac = fac_coef - fac_coef.mean(axis=0)\n",
    "for ff in xrange(n_fac):\n",
    "    ax.plot(ff + norm_fac[:, ff] / (3*np.std(norm_fac[:, ff])), color=[66/256., 152/256., 221./256])\n",
    "\n",
    "# Axis Settings\n",
    "ax.yaxis.set_ticks_position('left')\n",
    "ax.xaxis.set_ticks_position('bottom')\n",
    "ax.set_ylim([-1, n_fac+1])\n",
    "ax.set_ylabel('Subgraphs')\n",
    "ax.set_xlabel('Time Windows')\n",
    "\n",
    "plt.savefig('./e03b1-Figures/Subgraph-Coefs.svg')\n",
    "plt.show()\n",
    "plt.close()  "
   ]
  },
  {
   "cell_type": "markdown",
   "metadata": {},
   "source": [
    "# Test-Retest Reliability"
   ]
  },
  {
   "cell_type": "code",
   "execution_count": null,
   "metadata": {
    "scrolled": false
   },
   "outputs": [],
   "source": [
    "import scipy.optimize as sciopt\n",
    "\n",
    "data_ds1 = np.load(\"{}/NMF_Optimization.Run_1.consensus_subgraph.npz\".format(path_ExpData),\n",
    "                     mmap_mode='r')\n",
    "ds1_fac_subnet = data_ds1['fac_subnet']\n",
    "\n",
    "data_ds2 = np.load(\"{}/NMF_Optimization.Run_2.consensus_subgraph.npz\".format(path_ExpData),\n",
    "                     mmap_mode='r')\n",
    "ds2_fac_subnet = data_ds2['fac_subnet']\n",
    "\n",
    "n_fac = ds1_fac_subnet.shape[0]\n",
    "\n",
    "def hungarian(ds1_fac_subnet, ds2_fac_subnet):\n",
    "    n_fac = ds1_fac_subnet.shape[0]\n",
    "    cost_matrix = np.zeros((n_fac, n_fac))\n",
    "\n",
    "    for ds1_fac_ii in xrange(ds1_fac_subnet.shape[0]):\n",
    "        for ds2_fac_ii in xrange(ds2_fac_subnet.shape[0]):\n",
    "            cost_matrix[ds1_fac_ii, ds2_fac_ii] = np.linalg.norm(ds1_fac_subnet[ds1_fac_ii] -\n",
    "                                                                 ds2_fac_subnet[ds2_fac_ii])\n",
    "\n",
    "    ds1_old_ii, ds1_new_ii = sciopt.linear_sum_assignment(cost_matrix)\n",
    "    ds1_fac_subnet[ds1_new_ii, :] = ds1_fac_subnet[ds1_old_ii, :]\n",
    "\n",
    "    val = np.array([stats.pearsonr(ds1_fac_subnet[fac_i, :], ds2_fac_subnet[fac_i, :])\n",
    "                    for fac_i in xrange(n_fac)])\n",
    "    \n",
    "    r_value, p_value = val[:, 0], val[:, 1]\n",
    "    \n",
    "    return r_value, p_value, ds1_fac_subnet, ds2_fac_subnet\n",
    "\n",
    "\n",
    "true_rho, true_pv, fac_A, fac_B = hungarian(ds1_fac_subnet, ds2_fac_subnet)\n",
    "fac_A = fac_A[np.argsort(true_rho)[::-1]]\n",
    "fac_B = fac_B[np.argsort(true_rho)[::-1]]\n",
    "\n",
    "alpha = 0.05\n",
    "beta = alpha/len(true_rho)\n",
    "\n",
    "plt.figure(dpi=300)\n",
    "ax = plt.subplot(111)\n",
    "\n",
    "clr = []\n",
    "for ix in np.argsort(true_rho)[::-1]:\n",
    "    if true_pv[ix] < beta:\n",
    "        clr.append('b')\n",
    "    else:\n",
    "        clr.append('k')\n",
    "        \n",
    "ax.bar(xrange(n_fac), np.sort(true_rho)[::-1], color=clr, lw=0)\n",
    "\n",
    "ax.yaxis.set_ticks_position('left')\n",
    "ax.xaxis.set_ticks_position('bottom')\n",
    "ax.set_ylabel('Frequency')\n",
    "ax.set_xlabel('Subgraph Correlation')\n",
    "ax.set_xlim([0, 21])\n",
    "ax.set_ylim([-0.3, 1.0])\n",
    "plt.savefig('./e03b1-Figures/Test_Retest.svg')\n",
    "plt.show()"
   ]
  },
  {
   "cell_type": "code",
   "execution_count": null,
   "metadata": {},
   "outputs": [],
   "source": [
    "%matplotlib inline\n",
    "\n",
    "# Plot subgraph adjacency\n",
    "fig = plt.figure(figsize=(12, 12), dpi=300)\n",
    "for ii, (fa, fb) in enumerate(zip(fac_A, fac_B)):\n",
    "    adj_A = convert_conn_vec_to_adj_matr(fa)\n",
    "    adj_B = convert_conn_vec_to_adj_matr(fb)    \n",
    "    \n",
    "    adj_AB = np.nan*np.zeros((2*adj_A.shape[0]+20, 2*adj_A.shape[0]+20))\n",
    "    adj_AB[:adj_A.shape[0], :adj_A.shape[0]] = adj_A\n",
    "    adj_AB[:adj_A.shape[0], -adj_A.shape[0]:] = adj_B\n",
    "    \n",
    "    ax = fig.add_subplot(7, 3, ii+1)\n",
    "    mat = ax.matshow(adj_AB, cmap='viridis')\n",
    "    ax.set_axis_off()\n",
    "    ax.set_title('Subgraph: {}'.format(ii+1))\n",
    "    \n",
    "fig.tight_layout(pad=0.1, h_pad=0.1, w_pad=0.1)\n",
    "fig.savefig('./e03b1-Figures/Paired_Subgraphs.svg')\n",
    "fig.show()"
   ]
  },
  {
   "cell_type": "code",
   "execution_count": null,
   "metadata": {
    "collapsed": false
   },
   "outputs": [],
   "source": []
  }
 ],
 "metadata": {
  "anaconda-cloud": {},
  "kernelspec": {
   "display_name": "Python 2",
   "language": "python",
   "name": "python2"
  },
  "language_info": {
   "codemirror_mode": {
    "name": "ipython",
    "version": 2
   },
   "file_extension": ".py",
   "mimetype": "text/x-python",
   "name": "python",
   "nbconvert_exporter": "python",
   "pygments_lexer": "ipython2",
   "version": "2.7.13"
  },
  "latex_envs": {
   "LaTeX_envs_menu_present": true,
   "bibliofile": "biblio.bib",
   "cite_by": "apalike",
   "current_citInitial": 1,
   "eqLabelWithNumbers": true,
   "eqNumInitial": 0,
   "labels_anchors": false,
   "latex_user_defs": false,
   "report_style_numbering": false,
   "user_envs_cfg": false
  },
  "toc": {
   "colors": {
    "hover_highlight": "#DAA520",
    "running_highlight": "#FF0000",
    "selected_highlight": "#FFD700"
   },
   "moveMenuLeft": true,
   "nav_menu": {
    "height": "102px",
    "width": "252px"
   },
   "navigate_menu": true,
   "number_sections": true,
   "sideBar": true,
   "threshold": 4,
   "toc_cell": true,
   "toc_number_sections": true,
   "toc_position": {
    "height": "897px",
    "left": "0px",
    "right": "1707px",
    "top": "106px",
    "width": "212px"
   },
   "toc_section_display": "block",
   "toc_threshold": 6,
   "toc_window_display": true
  }
 },
 "nbformat": 4,
 "nbformat_minor": 1
}
