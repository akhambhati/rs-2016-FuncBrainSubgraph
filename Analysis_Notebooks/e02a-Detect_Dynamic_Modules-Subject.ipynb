{
 "cells": [
  {
   "cell_type": "markdown",
   "metadata": {
    "toc": "true"
   },
   "source": [
    "# Table of Contents\n",
    " <p><div class=\"lev1\"><a href=\"#Dynamic-Network-Modules-1\"><span class=\"toc-item-num\">1&nbsp;&nbsp;</span>Dynamic Network Modules</a></div><div class=\"lev2\"><a href=\"#Summary-1.1\"><span class=\"toc-item-num\">1.1&nbsp;&nbsp;</span>Summary</a></div><div class=\"lev2\"><a href=\"#Methodology-1.2\"><span class=\"toc-item-num\">1.2&nbsp;&nbsp;</span>Methodology</a></div><div class=\"lev1\"><a href=\"#Detect-Dynamic-Communities-2\"><span class=\"toc-item-num\">2&nbsp;&nbsp;</span>Detect Dynamic Communities</a></div><div class=\"lev2\"><a href=\"#Initialize-Environment-2.1\"><span class=\"toc-item-num\">2.1&nbsp;&nbsp;</span>Initialize Environment</a></div><div class=\"lev2\"><a href=\"#Generate-List-of-Data-2.2\"><span class=\"toc-item-num\">2.2&nbsp;&nbsp;</span>Generate List of Data</a></div><div class=\"lev2\"><a href=\"#Construct-Modularity-Matrices-2.3\"><span class=\"toc-item-num\">2.3&nbsp;&nbsp;</span>Construct Modularity Matrices</a></div><div class=\"lev2\"><a href=\"#Run-Genlouvain-Algorithm-2.4\"><span class=\"toc-item-num\">2.4&nbsp;&nbsp;</span>Run Genlouvain Algorithm</a></div><div class=\"lev1\"><a href=\"#Statistics-on-Dynamic-Modules-3\"><span class=\"toc-item-num\">3&nbsp;&nbsp;</span>Statistics on Dynamic Modules</a></div><div class=\"lev2\"><a href=\"#Initialize-Environment-3.1\"><span class=\"toc-item-num\">3.1&nbsp;&nbsp;</span>Initialize Environment</a></div><div class=\"lev2\"><a href=\"#Generate-List-of-Data-3.2\"><span class=\"toc-item-num\">3.2&nbsp;&nbsp;</span>Generate List of Data</a></div><div class=\"lev2\"><a href=\"#Module-Allegiance-3.3\"><span class=\"toc-item-num\">3.3&nbsp;&nbsp;</span>Module Allegiance</a></div><div class=\"lev2\"><a href=\"#Temporal-Allegiance-3.4\"><span class=\"toc-item-num\">3.4&nbsp;&nbsp;</span>Temporal Allegiance</a></div><div class=\"lev2\"><a href=\"#Consensus-Dynamic-Modules-3.5\"><span class=\"toc-item-num\">3.5&nbsp;&nbsp;</span>Consensus Dynamic Modules</a></div>"
   ]
  },
  {
   "cell_type": "markdown",
   "metadata": {},
   "source": [
    "# Dynamic Network Modules"
   ]
  },
  {
   "cell_type": "markdown",
   "metadata": {
    "heading_collapsed": true
   },
   "source": [
    "## Summary"
   ]
  },
  {
   "cell_type": "markdown",
   "metadata": {},
   "source": [
    "*__Introduction__*\n",
    "\n",
    "  * Functional organization of the brain is modular. That is, brain regions are organized into functional domains, in which they are strongly connected to each other and weakly connected to brain regions in different functional domains. Modular organization can aid a network in distributing metabolic resources more efficiently amongst nodes.\n",
    "  \n",
    "  * The modular organization of a network can change dynamically, perhaps to adapt to changes in network topology. Dynamic reorganization of functinoal brain modules has been associated with ageing, learning, and neurological and psychiatrical diseases.\n",
    "  \n",
    "  * Functional brain modules during resting state...\n",
    "  \n",
    "*__References__*\n",
    "  - Bassett, D. S., Wymbs, N. F., Porter, M. A., Mucha, P. J., Carlson, J. M., & Grafton, S. T. (2010). Dynamic reconfiguration of human brain networks during learning. Learning, 108(18), 19. http://doi.org/10.1073/pnas.1018985108\n",
    "  - Bassett, D. S., Wymbs, N. F., Rombach, M. P., Porter, M. A., Mucha, P. J., & Grafton, S. T. (2013). Task-based core-periphery organization of human brain dynamics. PLoS Computational Biology, 9(9), e1003171. http://doi.org/10.1371/journal.pcbi.1003171.\n",
    "  - Bassett, D. S., Yang, M., Wymbs, N. F., & Grafton, S. T. (2015). Learning-Induced Autonomy of Sensorimotor Systems. Nature Neuroscience, 18(5), 744–751. http://doi.org/10.1038/nn.3993\n",
    "  - Sporns, Betzel papers"
   ]
  },
  {
   "cell_type": "markdown",
   "metadata": {
    "heading_collapsed": true
   },
   "source": [
    "## Methodology"
   ]
  },
  {
   "cell_type": "markdown",
   "metadata": {},
   "source": [
    "*__Dynamic Community Detection__*\n",
    "\n",
    "  * Static and dynamic community detection algorithms assign network nodes into modules by optimizing a modularity quality function, Q, such that:\n",
    "  \n",
    "  $Q = \\frac{1}{2\\mu} \\sum_{ijlr}[(A_{ijl} - \\gamma_l P_{ijl})\\delta_{lr} + \\delta_{ij} \\omega_{jlr}]\n",
    "  \\delta(g_{il}, g_{jr})$\n",
    "  \n",
    "  where, $A$ is an adjacency tensor of size $N \\times N \\times T$ ($N$ nodes; $T$ time windows), $i$ and $j$ are the $i^\\text{th}$ and $j^\\text{th}$ nodes, $l$ and $r$ are the $l^\\text{th}$ and $r^\\text{th}$ time windows, $P$ is a network null model of $A$, $\\gamma_l$ is the structural resolution parameter for time window $l$, $\\omega_{jlr}$ is the temporal resolution parameter linking node $j$ from time windows $l$ and $r$, $\\mu$ is the total network connection strength.\n",
    "  \n",
    "*__References__*\n",
    "  - Bassett, D. S., Porter, M. A., Wymbs, N. F., Grafton, S. T., Carlson, J. M., & Mucha, P. J. (2013). Robust detection of dynamic community structure in networks. Chaos (Woodbury, N.Y.), 23(1), 013142. http://doi.org/10.1063/1.4790830"
   ]
  },
  {
   "cell_type": "markdown",
   "metadata": {
    "heading_collapsed": true
   },
   "source": [
    "# Detect Dynamic Communities"
   ]
  },
  {
   "cell_type": "markdown",
   "metadata": {
    "heading_collapsed": true
   },
   "source": [
    "## Initialize Environment"
   ]
  },
  {
   "cell_type": "code",
   "execution_count": null,
   "metadata": {},
   "outputs": [],
   "source": [
    "try:\n",
    "    %load_ext autoreload\n",
    "    %autoreload 2\n",
    "    %reset\n",
    "except:\n",
    "    print 'NOT IPYTHON'\n",
    "\n",
    "from __future__ import division\n",
    "\n",
    "import os\n",
    "import sys\n",
    "import glob\n",
    "\n",
    "import numpy as np\n",
    "import pandas as pd\n",
    "import seaborn as sns\n",
    "import scipy.stats as stats\n",
    "import scipy.io as io\n",
    "import h5py\n",
    "import matplotlib.pyplot as plt\n",
    "from matplotlib import rcParams\n",
    "\n",
    "sys.path.append('/Users/akhambhati/Developer/hoth_research/Echobase')\n",
    "import Echobase\n",
    "\n",
    "rcParams = Echobase.Plotting.fig_format.update_rcparams(rcParams)\n",
    "\n",
    "path_CoreData = '/Users/akhambhati/Remotes/CORE.fMRI_multiband.mmattar/restdata'\n",
    "path_PeriphData = '/Users/akhambhati/Remotes/RSRCH.NMF_Subnetworks'\n",
    "path_InpData = path_PeriphData + '/e01-Dyne_FuncNetw'\n",
    "path_ExpData = path_PeriphData + '/e02-DynFuncModule'\n",
    "\n",
    "for path in [path_CoreData, path_PeriphData, path_ExpData]:\n",
    "    if not os.path.exists(path):\n",
    "        print('Path: {}, does not exist'.format(path))\n",
    "        os.makedirs(path)"
   ]
  },
  {
   "cell_type": "markdown",
   "metadata": {
    "heading_collapsed": true
   },
   "source": [
    "## Generate List of Data"
   ]
  },
  {
   "cell_type": "code",
   "execution_count": null,
   "metadata": {},
   "outputs": [],
   "source": [
    "subj_date = [full_subj_path.split('/')[-1]\n",
    "             for full_subj_path in glob.iglob('{}/*.dyne_output.hdf'.format(path_InpData))]\n",
    "\n",
    "subj_ids = {}\n",
    "for s_d in subj_date:\n",
    "    subj, date = s_d.split('.')[:2]\n",
    "    try:\n",
    "        subj_ids[subj]\n",
    "    except KeyError:\n",
    "        subj_ids[subj] = []\n",
    "    \n",
    "    subj_ids[subj].append(date)"
   ]
  },
  {
   "cell_type": "markdown",
   "metadata": {
    "heading_collapsed": true
   },
   "source": [
    "## Construct Modularity Matrices\n",
    "*__WARNING: Will Delete Existing Output__*"
   ]
  },
  {
   "cell_type": "code",
   "execution_count": null,
   "metadata": {},
   "outputs": [],
   "source": [
    "# Remove all existing output (retains pipe/pipeline definitions)\n",
    "rm_outp = glob.glob(\"{}/*.ml_mod_matr.npz\".format(path_ExpData))\n",
    "\n",
    "for rm_type in [rm_outp]:\n",
    "    for path in rm_type:\n",
    "        try:\n",
    "            os.remove(path)\n",
    "        except:\n",
    "            print(\"{} not found\".format(path))"
   ]
  },
  {
   "cell_type": "code",
   "execution_count": null,
   "metadata": {},
   "outputs": [],
   "source": [
    "GAMMA = 1.0\n",
    "OMEGA = 1.0\n",
    "RHO = OMEGA/2.0\n",
    "gen_modmat = Echobase.Network.Partitioning.Module.modularity.ml_modularity_matr\n",
    "\n",
    "for subj, dates in subj_ids.items():\n",
    "    for d_i, date in enumerate(dates):\n",
    "        \n",
    "        # Input data paths\n",
    "        log_path = \"{}/{}.{}.dyne_log.csv\".format(path_InpData,\n",
    "                                                  subj, date)\n",
    "        inp_path = \"{}/{}.{}.dyne_output.hdf\".format(path_InpData,\n",
    "                                                     subj, date)\n",
    "\n",
    "        # Read the input data\n",
    "        df_log = pd.read_csv(log_path, delimiter=',')\n",
    "        pipe_hash = df_log[df_log.PIPE_NAME == 'MTCoh'].DOWNSTREAM_HASH[0]\n",
    "        \n",
    "        df_inp = h5py.File(inp_path, 'r')\n",
    "        inp_dat = df_inp[pipe_hash]['data'][...]\n",
    "        inp_meta = df_inp[pipe_hash]['meta']\n",
    "\n",
    "        n_node = inp_meta['ax_0']['index'].shape[1]\n",
    "        n_conn = int(n_node*(n_node-1)*0.5)\n",
    "        triu_ix, triu_iy = np.triu_indices(n_node, k=1)\n",
    "        \n",
    "        # Concatenate the configuration matrix over multiple runs\n",
    "        if d_i == 0:\n",
    "            cfg_matr = np.empty((0, n_conn))\n",
    "            time_list = np.empty(0)\n",
    "            break_ix = []\n",
    "        cfg_matr = np.vstack((cfg_matr, inp_dat[:, triu_ix, triu_iy]))\n",
    "        time_list = np.hstack((time_list, inp_meta['time']['index'][:, 0]))\n",
    "        break_ix.append(len(time_list)-1)\n",
    "        \n",
    "        df_inp.close()\n",
    "    \n",
    "    # Compute the modularity matrix\n",
    "    B, twomu = gen_modmat(cfg_matr, GAMMA, OMEGA, 'None')\n",
    "    \n",
    "    for ix in xrange(len(break_ix)):\n",
    "        if ix == len(break_ix)-1:\n",
    "            break\n",
    "        blk_ix = break_ix[ix]*n_node\n",
    "        for ii in xrange(n_node):\n",
    "            B[blk_ix+ii, blk_ix+n_node+ii] = RHO\n",
    "            B[blk_ix+n_node+ii, blk_ix+ii] = RHO\n",
    "\n",
    "    # Cache the modularity matrices\n",
    "    df_modmat = np.savez(\"{}/{}.ml_mod_matr.npz\".format(path_ExpData,\n",
    "                                                        subj),\n",
    "                         ml_mod_matr=B, mu=twomu)    "
   ]
  },
  {
   "cell_type": "markdown",
   "metadata": {
    "heading_collapsed": true
   },
   "source": [
    "## Run Genlouvain Algorithm\n",
    "*__WARNING: Will Delete Existing Output__*"
   ]
  },
  {
   "cell_type": "code",
   "execution_count": null,
   "metadata": {},
   "outputs": [],
   "source": [
    "# Remove all existing output (retains pipe/pipeline definitions)\n",
    "rm_outp = glob.glob(\"{}/*.module_assignment.*\".format(path_ExpData))\n",
    "\n",
    "for rm_type in [rm_outp]:\n",
    "    for path in rm_type:\n",
    "        try:\n",
    "            os.remove(path)\n",
    "        except:\n",
    "            print(\"{} not found\".format(path))"
   ]
  },
  {
   "cell_type": "code",
   "execution_count": null,
   "metadata": {},
   "outputs": [],
   "source": [
    "from multiprocessing import Pool\n",
    "\n",
    "N_SEED = 100\n",
    "parallel_run = True\n",
    "\n",
    "# Generate processing list of subjects to run\n",
    "proc_list = []\n",
    "for subj in subj_ids.keys():\n",
    "    subj_path = \"{}/{}.ml_mod_matr.npz\".format(path_ExpData, subj)\n",
    "    \n",
    "    for nn in xrange(N_SEED):\n",
    "        proc_list.append((subj, subj_path, nn+1))\n",
    "\n",
    "# Setup helper function to map pipeline run\n",
    "def _genlouvain_helper(proc_item):\n",
    "    subj, inp_path, seed = proc_item\n",
    "    \n",
    "    # Load the file\n",
    "    print(\" -- Processing: {}, with Seed: {}\".format(subj, seed))\n",
    "    data = np.load(inp_path, mmap_mode='r')\n",
    "    \n",
    "    # Run gen louvain algorithm\n",
    "    cvec, q = Codebase.Networks.ModuleDetection.community.genlouvain(\n",
    "        data['ml_mod_matr'], limit=1000, verbose=False)\n",
    "    comm_matr = cvec.reshape(-1, 112)\n",
    "    \n",
    "    # Cache the community detection result\n",
    "    np.savez(\"{}/{}.module_assignment.{}.npz\".format(path_ExpData, subj,\n",
    "                                                     seed),\n",
    "             module_assign=comm_matr, Q=q/data['mu']) \n",
    "    \n",
    "if parallel_run:\n",
    "    mp = Pool(6)\n",
    "    mp.map(_genlouvain_helper, proc_list)\n",
    "else:\n",
    "    map(_genlouvain_helper, proc_list)"
   ]
  },
  {
   "cell_type": "markdown",
   "metadata": {},
   "source": [
    "# Statistics on Dynamic Modules"
   ]
  },
  {
   "cell_type": "markdown",
   "metadata": {},
   "source": [
    "## Initialize Environment"
   ]
  },
  {
   "cell_type": "code",
   "execution_count": null,
   "metadata": {},
   "outputs": [],
   "source": [
    "try:\n",
    "    %load_ext autoreload\n",
    "    %autoreload 2\n",
    "    %reset\n",
    "except:\n",
    "    print 'NOT IPYTHON'\n",
    "\n",
    "from __future__ import division\n",
    "\n",
    "import os\n",
    "import sys\n",
    "import glob\n",
    "\n",
    "import numpy as np\n",
    "import pandas as pd\n",
    "import seaborn as sns\n",
    "import scipy.stats as stats\n",
    "import scipy.io as io\n",
    "import h5py\n",
    "import matplotlib.pyplot as plt\n",
    "from matplotlib import rcParams\n",
    "\n",
    "sys.path.append('/Users/akhambhati/Developer/hoth_research/Echobase')\n",
    "import Echobase\n",
    "\n",
    "rcParams = Echobase.Plotting.fig_format.update_rcparams(rcParams)\n",
    "\n",
    "path_CoreData = '/Users/akhambhati/Remotes/CORE.fMRI_multiband.mmattar/restdata'\n",
    "path_PeriphData = '/Users/akhambhati/Remotes/RSRCH.NMF_Subnetworks'\n",
    "path_InpData = path_PeriphData + '/e01-Dyne_FuncNetw'\n",
    "path_ExpData = path_PeriphData + '/e02-DynFuncModule'\n",
    "\n",
    "for path in [path_CoreData, path_PeriphData, path_ExpData]:\n",
    "    if not os.path.exists(path):\n",
    "        print('Path: {}, does not exist'.format(path))\n",
    "        os.makedirs(path)"
   ]
  },
  {
   "cell_type": "markdown",
   "metadata": {},
   "source": [
    "## Generate List of Data"
   ]
  },
  {
   "cell_type": "code",
   "execution_count": null,
   "metadata": {},
   "outputs": [],
   "source": [
    "subj_ids = np.unique([full_subj_path.split('/')[-1].split('.')[0]\n",
    "                      for full_subj_path in glob.iglob('{}/*.module_assignment.*.npz'.format(path_ExpData))])\n",
    "\n",
    "subj_seeds = {}\n",
    "for subj in subj_ids:\n",
    "    subj_seeds[subj] = [full_subj_path\n",
    "                        for full_subj_path in glob.iglob('{}/{}.module_assignment.*.npz'.format(path_ExpData, subj))]"
   ]
  },
  {
   "cell_type": "markdown",
   "metadata": {},
   "source": [
    "## Module Allegiance"
   ]
  },
  {
   "cell_type": "markdown",
   "metadata": {},
   "source": [
    "How often do brain regions occupy the same functional module?"
   ]
  },
  {
   "cell_type": "code",
   "execution_count": null,
   "metadata": {},
   "outputs": [],
   "source": [
    "%matplotlib inline\n",
    "\n",
    "plt.figure(figsize=(16, 12))\n",
    "\n",
    "n_subj = len(subj_seeds.keys())\n",
    "n_rows = int(np.sqrt(n_subj))\n",
    "n_cols = int(np.ceil(n_subj/n_rows))\n",
    "\n",
    "for ii, (subj, seeds) in enumerate(subj_seeds.items()):\n",
    "    print(\" -- Processing: {}\".format(subj))\n",
    "    \n",
    "    ax = plt.subplot(n_rows, n_cols, ii+1)\n",
    "    for ix, path in enumerate(seeds):\n",
    "        data = np.load(path, mmap_mode='r')\n",
    "        module_assign = data['module_assign']\n",
    "        \n",
    "        n_win = module_assign.shape[0]\n",
    "        n_node = module_assign.shape[1] \n",
    "        \n",
    "        if (ii == 0) and (ix == 0):\n",
    "            pop_module_alleg = np.zeros((n_node, n_node))\n",
    "        if ix == 0:\n",
    "            subj_module_alleg = np.zeros((n_node, n_node))\n",
    "            \n",
    "        for iw in xrange(n_win):\n",
    "            module_id = np.unique(module_assign[iw, :])\n",
    "            \n",
    "            for m_id in module_id:\n",
    "                m_nodes = np.flatnonzero(module_assign[iw, :] == m_id)\n",
    "                n1, n2 = np.meshgrid(m_nodes, m_nodes)\n",
    "                \n",
    "                subj_module_alleg[n1, n2] += 1\n",
    "                pop_module_alleg[n1, n2] += 1\n",
    "\n",
    "    # Subject-level Module Allegiance\n",
    "    subj_module_alleg /= subj_module_alleg[0, 0]\n",
    "    ax.matshow(subj_module_alleg, vmin=0, vmax=1)\n",
    "    ax.set_axis_off()\n",
    "    ax.set_title(subj)\n",
    "\n",
    "# Population-level Module Allegiance\n",
    "pop_module_alleg /= pop_module_alleg[0, 0]\n",
    "plt.figure(figsize=(16, 12))\n",
    "ax = plt.subplot(111)\n",
    "ax.matshow(pop_module_alleg, vmin=0, vmax=1)\n",
    "ax.set_axis_off()\n",
    "ax.set_title('Population Module Allegiance')\n"
   ]
  },
  {
   "cell_type": "markdown",
   "metadata": {},
   "source": [
    "## Consensus Dynamic Modules"
   ]
  },
  {
   "cell_type": "code",
   "execution_count": null,
   "metadata": {},
   "outputs": [],
   "source": [
    "for ii, (subj, seeds) in enumerate(subj_seeds.items()):\n",
    "    print(\" -- Processing: {}\".format(subj))\n",
    "    \n",
    "    # Dynamic Module Allegiance\n",
    "    for ix, path in enumerate(seeds):\n",
    "        data = np.load(path, mmap_mode='r')\n",
    "        module_assign = data['module_assign'][...]\n",
    "\n",
    "        n_win = module_assign.shape[0]\n",
    "        n_node = module_assign.shape[1]\n",
    "        \n",
    "        if ix==0:\n",
    "            subj_dynmod_alleg = np.zeros((n_win*n_node, n_win*n_node))\n",
    "\n",
    "        dynmod_assign = module_assign.reshape(-1)    \n",
    "        module_id = np.unique(dynmod_assign)            \n",
    "        for m_id in module_id:\n",
    "            m_nodes = np.flatnonzero(dynmod_assign == m_id)\n",
    "            n1, n2 = np.meshgrid(m_nodes, m_nodes)\n",
    "\n",
    "            subj_dynmod_alleg[n1, n2] += 1 \n",
    "    subj_dynmod_alleg /= subj_dynmod_alleg[0, 0]\n",
    "    subj_dynmod_alleg[np.diag_indices_from(subj_dynmod_alleg)] = 0\n",
    "    \n",
    "    # Compute Static Modularity\n",
    "    k = np.sum(subj_dynmod_alleg, axis=0)\n",
    "    twom = np.sum(k)\n",
    "    B = subj_dynmod_alleg - np.dot(k.reshape(-1, 1), k.reshape(1, -1)) / twom\n",
    "    \n",
    "    cvec, q = Codebase.Networks.ModuleDetection.community.genlouvain(B,\n",
    "                                                                     limit=1000,\n",
    "                                                                     verbose=True)\n",
    "    \n",
    "    # Cache the community detection result\n",
    "    np.savez(\"{}/{}.consensus_module.npz\".format(path_ExpData, subj),\n",
    "             module_assign=cvec.reshape(n_win, n_node)) "
   ]
  },
  {
   "cell_type": "markdown",
   "metadata": {},
   "source": [
    "## Module Allegiance Matrix"
   ]
  },
  {
   "cell_type": "code",
   "execution_count": null,
   "metadata": {},
   "outputs": [],
   "source": [
    "\n",
    "\n",
    "n_subj = len(subj_ids)\n",
    "n_row = int(np.sqrt(n_subj))\n",
    "n_col = int(np.ceil(n_subj/n_row))\n",
    "\n",
    "%matplotlib inline\n",
    "for ii in xrange(n_subj):\n",
    "    data = np.load(\"{}/{}.consensus_module.npz\".format(path_ExpData,\n",
    "                                                       subj_ids[ii]))\n",
    "\n",
    "    plt.figure()        \n",
    "    ax = plt.subplot(111)\n",
    "    mat = ax.matshow(data['module_assign'].T, cmap='rainbow')\n",
    "    plt.colorbar(mat, ax=ax)\n",
    "\n",
    "    # Axis Settings\n",
    "    ax.yaxis.set_ticks_position('left')\n",
    "    ax.xaxis.set_ticks_position('bottom')\n",
    "    ax.set_xlabel('Time Windows')        \n",
    "    ax.set_ylabel('Brain Regions')\n",
    "\n",
    "    plt.savefig('./e02-Figures/{}-Dynamic_Community.svg'.format(subj_ids[ii]))\n",
    "    plt.show()\n",
    "    plt.close()              "
   ]
  },
  {
   "cell_type": "code",
   "execution_count": null,
   "metadata": {},
   "outputs": [],
   "source": []
  }
 ],
 "metadata": {
  "anaconda-cloud": {},
  "kernelspec": {
   "display_name": "Python [conda env:echobase]",
   "language": "python",
   "name": "conda-env-echobase-py"
  },
  "language_info": {
   "codemirror_mode": {
    "name": "ipython",
    "version": 2
   },
   "file_extension": ".py",
   "mimetype": "text/x-python",
   "name": "python",
   "nbconvert_exporter": "python",
   "pygments_lexer": "ipython2",
   "version": "2.7.12"
  },
  "latex_envs": {
   "bibliofile": "biblio.bib",
   "cite_by": "apalike",
   "current_citInitial": 1,
   "eqLabelWithNumbers": true,
   "eqNumInitial": 0
  },
  "toc": {
   "toc_cell": true,
   "toc_number_sections": true,
   "toc_section_display": "none",
   "toc_threshold": 6,
   "toc_window_display": true
  }
 },
 "nbformat": 4,
 "nbformat_minor": 0
}
