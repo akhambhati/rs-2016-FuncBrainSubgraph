{
 "cells": [
  {
   "cell_type": "markdown",
   "metadata": {
    "deletable": true,
    "editable": true,
    "toc": "true"
   },
   "source": [
    "# Table of Contents\n",
    " <p><div class=\"lev1 toc-item\"><a href=\"#Dynamic-Network-Modules\" data-toc-modified-id=\"Dynamic-Network-Modules-1\"><span class=\"toc-item-num\">1&nbsp;&nbsp;</span>Dynamic Network Modules</a></div><div class=\"lev2 toc-item\"><a href=\"#Summary\" data-toc-modified-id=\"Summary-11\"><span class=\"toc-item-num\">1.1&nbsp;&nbsp;</span>Summary</a></div><div class=\"lev2 toc-item\"><a href=\"#Methodology\" data-toc-modified-id=\"Methodology-12\"><span class=\"toc-item-num\">1.2&nbsp;&nbsp;</span>Methodology</a></div><div class=\"lev1 toc-item\"><a href=\"#Detect-Dynamic-Communities\" data-toc-modified-id=\"Detect-Dynamic-Communities-2\"><span class=\"toc-item-num\">2&nbsp;&nbsp;</span>Detect Dynamic Communities</a></div><div class=\"lev2 toc-item\"><a href=\"#Initialize-Environment\" data-toc-modified-id=\"Initialize-Environment-21\"><span class=\"toc-item-num\">2.1&nbsp;&nbsp;</span>Initialize Environment</a></div><div class=\"lev2 toc-item\"><a href=\"#Generate-List-of-Data\" data-toc-modified-id=\"Generate-List-of-Data-22\"><span class=\"toc-item-num\">2.2&nbsp;&nbsp;</span>Generate List of Data</a></div><div class=\"lev2 toc-item\"><a href=\"#Construct-Modularity-Matrices\" data-toc-modified-id=\"Construct-Modularity-Matrices-23\"><span class=\"toc-item-num\">2.3&nbsp;&nbsp;</span>Construct Modularity Matrices</a></div><div class=\"lev2 toc-item\"><a href=\"#Run-Genlouvain-Algorithm\" data-toc-modified-id=\"Run-Genlouvain-Algorithm-24\"><span class=\"toc-item-num\">2.4&nbsp;&nbsp;</span>Run Genlouvain Algorithm</a></div><div class=\"lev1 toc-item\"><a href=\"#Statistics-on-Dynamic-Modules\" data-toc-modified-id=\"Statistics-on-Dynamic-Modules-3\"><span class=\"toc-item-num\">3&nbsp;&nbsp;</span>Statistics on Dynamic Modules</a></div><div class=\"lev2 toc-item\"><a href=\"#Generate-List-of-Data\" data-toc-modified-id=\"Generate-List-of-Data-31\"><span class=\"toc-item-num\">3.1&nbsp;&nbsp;</span>Generate List of Data</a></div><div class=\"lev2 toc-item\"><a href=\"#Consensus-Dynamic-Modules\" data-toc-modified-id=\"Consensus-Dynamic-Modules-32\"><span class=\"toc-item-num\">3.2&nbsp;&nbsp;</span>Consensus Dynamic Modules</a></div><div class=\"lev2 toc-item\"><a href=\"#Module-Allegiance-Matrix\" data-toc-modified-id=\"Module-Allegiance-Matrix-33\"><span class=\"toc-item-num\">3.3&nbsp;&nbsp;</span>Module Allegiance Matrix</a></div><div class=\"lev2 toc-item\"><a href=\"#Find-clusters-in-module-allegiance-matrix\" data-toc-modified-id=\"Find-clusters-in-module-allegiance-matrix-34\"><span class=\"toc-item-num\">3.4&nbsp;&nbsp;</span>Find clusters in module allegiance matrix</a></div><div class=\"lev2 toc-item\"><a href=\"#Project-module-assignments-back-on-atlas\" data-toc-modified-id=\"Project-module-assignments-back-on-atlas-35\"><span class=\"toc-item-num\">3.5&nbsp;&nbsp;</span>Project module assignments back on atlas</a></div>"
   ]
  },
  {
   "cell_type": "markdown",
   "metadata": {
    "deletable": true,
    "editable": true
   },
   "source": [
    "# Dynamic Network Modules"
   ]
  },
  {
   "cell_type": "markdown",
   "metadata": {
    "deletable": true,
    "editable": true,
    "heading_collapsed": true
   },
   "source": [
    "## Summary"
   ]
  },
  {
   "cell_type": "markdown",
   "metadata": {
    "deletable": true,
    "editable": true
   },
   "source": [
    "*__Introduction__*\n",
    "\n",
    "  * Functional organization of the brain is modular. That is, brain regions are organized into functional domains, in which they are strongly connected to each other and weakly connected to brain regions in different functional domains. Modular organization can aid a network in distributing metabolic resources more efficiently amongst nodes.\n",
    "  \n",
    "  * The modular organization of a network can change dynamically, perhaps to adapt to changes in network topology. Dynamic reorganization of functinoal brain modules has been associated with ageing, learning, and neurological and psychiatrical diseases.\n",
    "  \n",
    "  * Functional brain modules during resting state...\n",
    "  \n",
    "*__References__*\n",
    "  - Bassett, D. S., Wymbs, N. F., Porter, M. A., Mucha, P. J., Carlson, J. M., & Grafton, S. T. (2010). Dynamic reconfiguration of human brain networks during learning. Learning, 108(18), 19. http://doi.org/10.1073/pnas.1018985108\n",
    "  - Bassett, D. S., Wymbs, N. F., Rombach, M. P., Porter, M. A., Mucha, P. J., & Grafton, S. T. (2013). Task-based core-periphery organization of human brain dynamics. PLoS Computational Biology, 9(9), e1003171. http://doi.org/10.1371/journal.pcbi.1003171.\n",
    "  - Bassett, D. S., Yang, M., Wymbs, N. F., & Grafton, S. T. (2015). Learning-Induced Autonomy of Sensorimotor Systems. Nature Neuroscience, 18(5), 744–751. http://doi.org/10.1038/nn.3993\n",
    "  - Sporns, Betzel papers"
   ]
  },
  {
   "cell_type": "markdown",
   "metadata": {
    "deletable": true,
    "editable": true,
    "heading_collapsed": true
   },
   "source": [
    "## Methodology"
   ]
  },
  {
   "cell_type": "markdown",
   "metadata": {
    "deletable": true,
    "editable": true
   },
   "source": [
    "*__Dynamic Community Detection__*\n",
    "\n",
    "  * Static and dynamic community detection algorithms assign network nodes into modules by optimizing a modularity quality function, Q, such that:\n",
    "  \n",
    "  $Q = \\frac{1}{2\\mu} \\sum_{ijlr}[(A_{ijl} - \\gamma_l P_{ijl})\\delta_{lr} + \\delta_{ij} \\omega_{jlr}]\n",
    "  \\delta(g_{il}, g_{jr})$\n",
    "  \n",
    "  where, $A$ is an adjacency tensor of size $N \\times N \\times T$ ($N$ nodes; $T$ time windows), $i$ and $j$ are the $i^\\text{th}$ and $j^\\text{th}$ nodes, $l$ and $r$ are the $l^\\text{th}$ and $r^\\text{th}$ time windows, $P$ is a network null model of $A$, $\\gamma_l$ is the structural resolution parameter for time window $l$, $\\omega_{jlr}$ is the temporal resolution parameter linking node $j$ from time windows $l$ and $r$, $\\mu$ is the total network connection strength.\n",
    "  \n",
    "*__References__*\n",
    "  - Bassett, D. S., Porter, M. A., Wymbs, N. F., Grafton, S. T., Carlson, J. M., & Mucha, P. J. (2013). Robust detection of dynamic community structure in networks. Chaos (Woodbury, N.Y.), 23(1), 013142. http://doi.org/10.1063/1.4790830"
   ]
  },
  {
   "cell_type": "markdown",
   "metadata": {
    "deletable": true,
    "editable": true,
    "heading_collapsed": true
   },
   "source": [
    "# Detect Dynamic Communities"
   ]
  },
  {
   "cell_type": "markdown",
   "metadata": {
    "deletable": true,
    "editable": true,
    "heading_collapsed": true
   },
   "source": [
    "## Initialize Environment"
   ]
  },
  {
   "cell_type": "code",
   "execution_count": null,
   "metadata": {
    "collapsed": false,
    "deletable": true,
    "editable": true
   },
   "outputs": [],
   "source": [
    "try:\n",
    "    %load_ext autoreload\n",
    "    %autoreload 2\n",
    "    %reset\n",
    "except:\n",
    "    print 'NOT IPYTHON'\n",
    "\n",
    "from __future__ import division\n",
    "\n",
    "import os\n",
    "import sys\n",
    "import glob\n",
    "\n",
    "import numpy as np\n",
    "import pandas as pd\n",
    "import seaborn as sns\n",
    "import scipy.stats as stats\n",
    "import scipy.io as io\n",
    "import h5py\n",
    "import matplotlib.pyplot as plt\n",
    "from matplotlib import rcParams\n",
    "\n",
    "sys.path.append('/Users/akhambhati/Developer/hoth_research/Echobase')\n",
    "import Echobase\n",
    "\n",
    "rcParams = Echobase.Plotting.fig_format.update_rcparams(rcParams)\n",
    "\n",
    "path_CoreData = '/Users/akhambhati/Remotes/CORE.fMRI_multiband.mmattar/restdata'\n",
    "path_PeriphData = '/Users/akhambhati/Remotes/RSRCH.NMF_Subnetworks'\n",
    "path_InpData = path_PeriphData + '/e01-Dyne_FuncNetw'\n",
    "path_ExpData = path_PeriphData + '/e02a-DynFuncModule-Subject'\n",
    "\n",
    "for path in [path_CoreData, path_PeriphData, path_ExpData]:\n",
    "    if not os.path.exists(path):\n",
    "        print('Path: {}, does not exist'.format(path))\n",
    "        os.makedirs(path)\n",
    "\n",
    "if not os.path.exists('./e02a-Figures'):\n",
    "    os.makedirs('./e02a-Figures')        "
   ]
  },
  {
   "cell_type": "markdown",
   "metadata": {
    "deletable": true,
    "editable": true,
    "heading_collapsed": true
   },
   "source": [
    "## Generate List of Data"
   ]
  },
  {
   "cell_type": "code",
   "execution_count": null,
   "metadata": {
    "collapsed": false,
    "deletable": true,
    "editable": true
   },
   "outputs": [],
   "source": [
    "subj_date = glob.glob('{}/Adjacency.*.npz'.format(path_InpData))\n",
    "\n",
    "subj_ids = {}\n",
    "for s_d in subj_date:\n",
    "    subj, date = s_d.split('/')[-1].split('.')[1:3]\n",
    "    try:\n",
    "        subj_ids[subj]\n",
    "    except KeyError:\n",
    "        subj_ids[subj] = {}\n",
    "    \n",
    "    subj_ids[subj][date] = {'Adj_Path': s_d}"
   ]
  },
  {
   "cell_type": "markdown",
   "metadata": {
    "deletable": true,
    "editable": true,
    "heading_collapsed": true
   },
   "source": [
    "## Construct Modularity Matrices\n",
    "*__WARNING: Will Delete Existing Output__*"
   ]
  },
  {
   "cell_type": "code",
   "execution_count": null,
   "metadata": {
    "collapsed": false,
    "deletable": true,
    "editable": true
   },
   "outputs": [],
   "source": [
    "# Remove all existing output (retains pipe/pipeline definitions)\n",
    "rm_outp = glob.glob(\"{}/*.ml_mod_matr.npz\".format(path_ExpData))\n",
    "\n",
    "for rm_type in [rm_outp]:\n",
    "    for path in rm_type:\n",
    "        try:\n",
    "            os.remove(path)\n",
    "        except:\n",
    "            print(\"{} not found\".format(path))"
   ]
  },
  {
   "cell_type": "code",
   "execution_count": null,
   "metadata": {
    "collapsed": false,
    "deletable": true,
    "editable": true
   },
   "outputs": [],
   "source": [
    "GAMMA = 1.0\n",
    "OMEGA = 1.0\n",
    "RHO = OMEGA/2.0\n",
    "gen_modmat = Echobase.Network.Partitioning.Module.modularity.ml_modularity_matr\n",
    "\n",
    "for subj in subj_ids.keys():\n",
    "    \n",
    "    cfg_matr = []\n",
    "    for d_i, date in enumerate(subj_ids[subj].keys()):\n",
    "        \n",
    "        # Read the input data\n",
    "        df = np.load(subj_ids[subj][date]['Adj_Path'])\n",
    "        \n",
    "        # Concatenate the configuration matrix over multiple runs\n",
    "        for cfg_ii, cfg_vec in enumerate(Echobase.Network.Transforms.configuration.convert_adj_matr_to_cfg_matr(df['adj_matr'])):\n",
    "            cfg_matr.append(cfg_vec) \n",
    "        \n",
    "        df.close()\n",
    "    cfg_matr = np.array(cfg_matr)\n",
    "    \n",
    "    # Compute the modularity matrix\n",
    "    B, twomu = gen_modmat(cfg_matr, GAMMA, OMEGA, 'None')\n",
    "    \n",
    "    # Cache the modularity matrices\n",
    "    df_modmat = np.savez(\"{}/{}.ml_mod_matr.npz\".format(path_ExpData, subj),\n",
    "                         ml_mod_matr=B, mu=twomu)"
   ]
  },
  {
   "cell_type": "markdown",
   "metadata": {
    "deletable": true,
    "editable": true,
    "heading_collapsed": true
   },
   "source": [
    "## Run Genlouvain Algorithm\n",
    "*__WARNING: Will Delete Existing Output__*"
   ]
  },
  {
   "cell_type": "code",
   "execution_count": null,
   "metadata": {
    "collapsed": false,
    "deletable": true,
    "editable": true
   },
   "outputs": [],
   "source": [
    "# Remove all existing output (retains pipe/pipeline definitions)\n",
    "rm_outp = glob.glob(\"{}/*.module_assignment.*\".format(path_ExpData))\n",
    "\n",
    "for rm_type in [rm_outp]:\n",
    "    for path in rm_type:\n",
    "        try:\n",
    "            os.remove(path)\n",
    "        except:\n",
    "            print(\"{} not found\".format(path))"
   ]
  },
  {
   "cell_type": "code",
   "execution_count": null,
   "metadata": {
    "collapsed": false,
    "deletable": true,
    "editable": true
   },
   "outputs": [],
   "source": [
    "from multiprocessing import Pool\n",
    "\n",
    "N_SEED = 100\n",
    "parallel_run = True\n",
    "\n",
    "# Generate processing list of subjects to run\n",
    "proc_list = []\n",
    "for subj in subj_ids.keys():\n",
    "    subj_path = \"{}/{}.ml_mod_matr.npz\".format(path_ExpData, subj)\n",
    "    \n",
    "    for nn in xrange(N_SEED):\n",
    "        proc_list.append((subj, subj_path, nn+1))\n",
    "\n",
    "# Setup helper function to map pipeline run\n",
    "def _genlouvain_helper(proc_item):\n",
    "    subj, inp_path, seed = proc_item\n",
    "    \n",
    "    # Load the file\n",
    "    print(\" -- Processing: {}, with Seed: {}\".format(subj, seed))\n",
    "    data = np.load(inp_path, mmap_mode='r')\n",
    "    \n",
    "    # Run gen louvain algorithm\n",
    "    cvec, q = Echobase.Network.Partitioning.Module.community.genlouvain(\n",
    "        data['ml_mod_matr'], limit=1000, verbose=False)\n",
    "    comm_matr = cvec.reshape(-1, 112)\n",
    "    \n",
    "    # Cache the community detection result\n",
    "    np.savez(\"{}/{}.module_assignment.{}.npz\".format(path_ExpData, subj,\n",
    "                                                     seed),\n",
    "             module_assign=comm_matr, Q=q/data['mu']) \n",
    "    \n",
    "if parallel_run:\n",
    "    mp = Pool(6)\n",
    "    mp.map(_genlouvain_helper, proc_list)\n",
    "else:\n",
    "    map(_genlouvain_helper, proc_list)"
   ]
  },
  {
   "cell_type": "markdown",
   "metadata": {
    "deletable": true,
    "editable": true
   },
   "source": [
    "# Statistics on Dynamic Modules"
   ]
  },
  {
   "cell_type": "markdown",
   "metadata": {
    "deletable": true,
    "editable": true
   },
   "source": [
    "## Generate List of Data"
   ]
  },
  {
   "cell_type": "code",
   "execution_count": null,
   "metadata": {
    "collapsed": false,
    "deletable": true,
    "editable": true
   },
   "outputs": [],
   "source": [
    "subj_ids = np.unique([full_subj_path.split('/')[-1].split('.')[0]\n",
    "                      for full_subj_path in glob.iglob('{}/*.module_assignment.*.npz'.format(path_ExpData))])\n",
    "\n",
    "subj_seeds = {}\n",
    "for subj in subj_ids:\n",
    "    subj_seeds[subj] = [full_subj_path\n",
    "                        for full_subj_path in glob.iglob('{}/{}.module_assignment.*.npz'.format(path_ExpData, subj))]"
   ]
  },
  {
   "cell_type": "markdown",
   "metadata": {
    "deletable": true,
    "editable": true
   },
   "source": [
    "## Consensus Dynamic Modules"
   ]
  },
  {
   "cell_type": "code",
   "execution_count": null,
   "metadata": {
    "collapsed": false,
    "deletable": true,
    "editable": true
   },
   "outputs": [],
   "source": [
    "for ii, (subj, seeds) in enumerate(subj_seeds.items()):\n",
    "    print(\" -- Processing: {}\".format(subj))\n",
    "    \n",
    "    # Dynamic Module Allegiance\n",
    "    for ix, path in enumerate(seeds):\n",
    "        data = np.load(path, mmap_mode='r')\n",
    "        module_assign = data['module_assign'][...]\n",
    "\n",
    "        n_win = module_assign.shape[0]\n",
    "        n_node = module_assign.shape[1]\n",
    "        \n",
    "        if ix==0:\n",
    "            subj_dynmod_alleg = np.zeros((n_win*n_node, n_win*n_node))\n",
    "\n",
    "        dynmod_assign = module_assign.reshape(-1)    \n",
    "        module_id = np.unique(dynmod_assign)            \n",
    "        for m_id in module_id:\n",
    "            m_nodes = np.flatnonzero(dynmod_assign == m_id)\n",
    "            n1, n2 = np.meshgrid(m_nodes, m_nodes)\n",
    "\n",
    "            subj_dynmod_alleg[n1, n2] += 1 \n",
    "    subj_dynmod_alleg /= subj_dynmod_alleg[0, 0]\n",
    "    subj_dynmod_alleg[np.diag_indices_from(subj_dynmod_alleg)] = 0\n",
    "    \n",
    "    # Compute Static Modularity\n",
    "    k = np.sum(subj_dynmod_alleg, axis=0)\n",
    "    twom = np.sum(k)\n",
    "    B = subj_dynmod_alleg - np.dot(k.reshape(-1, 1), k.reshape(1, -1)) / twom\n",
    "    \n",
    "    cvec, q = Codebase.Networks.ModuleDetection.community.genlouvain(B,\n",
    "                                                                     limit=1000,\n",
    "                                                                     verbose=True)\n",
    "    \n",
    "    # Cache the community detection result\n",
    "    np.savez(\"{}/{}.consensus_module.npz\".format(path_ExpData, subj),\n",
    "             module_assign=cvec.reshape(n_win, n_node)) "
   ]
  },
  {
   "cell_type": "markdown",
   "metadata": {
    "deletable": true,
    "editable": true
   },
   "source": [
    "## Module Allegiance Matrix\n",
    "Aggregated across all subjects, sessions, and 100 optimizations"
   ]
  },
  {
   "cell_type": "code",
   "execution_count": null,
   "metadata": {
    "code_folding": [],
    "collapsed": false,
    "deletable": true,
    "editable": true,
    "scrolled": false
   },
   "outputs": [],
   "source": [
    "%matplotlib inline\n",
    "\n",
    "for ii, (subj, seeds) in enumerate(subj_seeds.items()):\n",
    "    print(\" -- Processing: {}\".format(subj))\n",
    "    \n",
    "    for ix, path in enumerate(seeds):\n",
    "        data = np.load(path, mmap_mode='r')\n",
    "        module_assign = data['module_assign']\n",
    "        \n",
    "        n_win = module_assign.shape[0]\n",
    "        n_node = module_assign.shape[1] \n",
    "        \n",
    "        if (ii == 0) and (ix == 0):\n",
    "            module_alleg = np.zeros((n_node, n_node))\n",
    "            \n",
    "        for iw in xrange(n_win):\n",
    "            module_id = np.unique(module_assign[iw, :])\n",
    "            \n",
    "            for m_id in module_id:\n",
    "                m_nodes = np.flatnonzero(module_assign[iw, :] == m_id)\n",
    "                n1, n2 = np.meshgrid(m_nodes, m_nodes)\n",
    "                \n",
    "                module_alleg[n1, n2] += 1\n",
    "module_alleg /= module_alleg[0, 0]\n",
    "module_alleg[np.diag_indices_from(module_alleg)] = 0\n",
    "np.savez(\"{}/consensus_module_allegiance.npz\".format(path_ExpData),\n",
    "         module_alleg=module_alleg) \n",
    "\n",
    "# Plot the Module Allegiance across the cohort\n",
    "plt.figure()\n",
    "ax = plt.subplot(111)\n",
    "ax.matshow(module_alleg, vmin=0, vmax=1, cmap='rainbow')\n",
    "ax.set_axis_off()\n",
    "ax.set_title('Population Module Allegiance')"
   ]
  },
  {
   "cell_type": "markdown",
   "metadata": {},
   "source": [
    "## Find clusters in module allegiance matrix"
   ]
  },
  {
   "cell_type": "code",
   "execution_count": null,
   "metadata": {
    "collapsed": false,
    "deletable": true,
    "editable": true,
    "scrolled": false
   },
   "outputs": [],
   "source": [
    "# Compute Static Modularity\n",
    "df = np.load('{}/consensus_module_allegiance.npz'.format(path_ExpData, subj))\n",
    "module_alleg = df['module_alleg']\n",
    "k = np.sum(module_alleg, axis=0)\n",
    "twom = np.sum(k)\n",
    "\n",
    "# Optimize Gamma\n",
    "qq = []\n",
    "gamma = np.linspace(0.5, 3.0, 1000)\n",
    "for gm in gamma:\n",
    "    B = module_alleg - gm*np.dot(k.reshape(-1, 1), k.reshape(1, -1)) / twom\n",
    "    mod_alleg_id, q = Echobase.Network.Partitioning.Module.community.genlouvain(B, limit=10000, verbose=False)\n",
    "    \n",
    "    qq.append(q)\n",
    "qq = np.array(qq)\n",
    "opt_ix = Echobase.Statistics.Optimization.curve.find_elbow(qq)\n",
    "opt_gamma = gamma[opt_ix]\n",
    "\n",
    "# Perform consensus\n",
    "B = module_alleg - opt_gamma*np.dot(k.reshape(-1, 1), k.reshape(1, -1)) / twom\n",
    "n_seed = 1000\n",
    "mod_consensus = np.zeros((n_node, n_node))\n",
    "for n_i in xrange(n_seed):\n",
    "    mod_alleg_id, q = Echobase.Network.Partitioning.Module.community.genlouvain(B, limit=10000, verbose=False)\n",
    "\n",
    "    for m_id in np.unique(mod_alleg_id):\n",
    "        m_nodes = np.flatnonzero(mod_alleg_id == m_id)\n",
    "        n1, n2 = np.meshgrid(m_nodes, m_nodes)\n",
    "\n",
    "        mod_consensus[n1, n2] += 1\n",
    "mod_consensus /= mod_consensus[0, 0]\n",
    "mod_consensus[np.diag_indices_from(mod_consensus)] = 0\n",
    "\n",
    "k = np.sum(mod_consensus, axis=0)\n",
    "twom = np.sum(k)\n",
    "B = mod_consensus - opt_gamma*np.dot(k.reshape(-1, 1), k.reshape(1, -1)) / twom\n",
    "true_mod_alleg, q = Echobase.Network.Partitioning.Module.community.genlouvain(B, limit=10000, verbose=False)\n",
    "\n",
    "# Re-ordered Module Allegiance\n",
    "plt.figure()\n",
    "ax = plt.subplot(111)\n",
    "mat = ax.matshow(mod_consensus[np.meshgrid(np.argsort(true_mod_alleg), np.argsort(true_mod_alleg))],\n",
    "                 cmap='rainbow', vmin=0, vmax=1);\n",
    "plt.colorbar(mat, ax=ax)\n",
    "\n",
    "# Axis Settings\n",
    "ax.set_axis_off()\n",
    "ax.set_xlabel('Brain Regions');\n",
    "ax.set_ylabel('Brain Regions');\n",
    "plt.show()\n",
    "\n",
    "# Print out the module membership assignment\n",
    "roi_csv = pd.read_csv('{}/Atlas/HOA112_Labels.csv'.format(path_CoreData))\n",
    "for module_id in np.unique(true_mod_alleg):\n",
    "    mod_ix = np.flatnonzero(true_mod_alleg == module_id)\n",
    "    \n",
    "    print('Module_ID: {}'.format(module_id+1))     \n",
    "    print(np.unique(roi_csv['Nomenclature'][mod_ix]))"
   ]
  },
  {
   "cell_type": "markdown",
   "metadata": {
    "collapsed": false,
    "deletable": true,
    "editable": true
   },
   "source": [
    "## Project module assignments back on atlas"
   ]
  },
  {
   "cell_type": "code",
   "execution_count": null,
   "metadata": {
    "collapsed": false
   },
   "outputs": [],
   "source": [
    "import nibabel as nib\n",
    "\n",
    "df_atlas = nib.load('{}/Atlas/HOA112_MNI-thr0-1mm.nii.gz'.format(path_CoreData))\n",
    "atlas_matr = df_atlas.get_data()\n",
    "atlas_module_matr = np.zeros_like(atlas_matr)\n",
    "\n",
    "# Map ROI labels to Module labels\n",
    "for n_i in xrange(n_node):\n",
    "    atlas_module_matr[np.nonzero(atlas_matr == n_i+1)] = true_mod_alleg[n_i]+1  \n",
    "    \n",
    "# Create new Nifti1 Image    \n",
    "df_atlas_module = nib.Nifti1Image(atlas_module_matr, df_atlas.affine, df_atlas.header)\n",
    "nib.save(df_atlas_module, '{}/module_allegiance.nii.gz'.format(path_ExpData))"
   ]
  },
  {
   "cell_type": "code",
   "execution_count": null,
   "metadata": {
    "collapsed": false
   },
   "outputs": [],
   "source": [
    "from nilearn import plotting, image\n",
    "\n",
    "smooth_anat_img = image.smooth_img('{}/module_allegiance.nii.gz'.format(path_ExpData), 0)\n",
    "display = plotting.plot_stat_map(smooth_anat_img, smooth_anat_img,\n",
    "                                 cmap='Accent', black_bg=False,\n",
    "                                 colorbar=True, draw_cross=False)"
   ]
  },
  {
   "cell_type": "code",
   "execution_count": null,
   "metadata": {
    "collapsed": false
   },
   "outputs": [],
   "source": []
  }
 ],
 "metadata": {
  "anaconda-cloud": {},
  "kernelspec": {
   "display_name": "Python 2",
   "language": "python",
   "name": "python2"
  },
  "language_info": {
   "codemirror_mode": {
    "name": "ipython",
    "version": 2
   },
   "file_extension": ".py",
   "mimetype": "text/x-python",
   "name": "python",
   "nbconvert_exporter": "python",
   "pygments_lexer": "ipython2",
   "version": "2.7.13"
  },
  "latex_envs": {
   "LaTeX_envs_menu_present": true,
   "bibliofile": "biblio.bib",
   "cite_by": "apalike",
   "current_citInitial": 1,
   "eqLabelWithNumbers": true,
   "eqNumInitial": 0,
   "labels_anchors": false,
   "latex_user_defs": false,
   "report_style_numbering": false,
   "user_envs_cfg": false
  },
  "toc": {
   "colors": {
    "hover_highlight": "#DAA520",
    "running_highlight": "#FF0000",
    "selected_highlight": "#FFD700"
   },
   "moveMenuLeft": true,
   "nav_menu": {
    "height": "264px",
    "width": "252px"
   },
   "navigate_menu": true,
   "number_sections": true,
   "sideBar": true,
   "threshold": 4,
   "toc_cell": true,
   "toc_number_sections": true,
   "toc_position": {
    "height": "897px",
    "left": "0px",
    "right": "1707px",
    "top": "106px",
    "width": "212px"
   },
   "toc_section_display": "block",
   "toc_threshold": 6,
   "toc_window_display": true
  }
 },
 "nbformat": 4,
 "nbformat_minor": 0
}
