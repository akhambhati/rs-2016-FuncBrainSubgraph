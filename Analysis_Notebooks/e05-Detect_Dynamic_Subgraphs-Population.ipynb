{
 "cells": [
  {
   "cell_type": "markdown",
   "metadata": {
    "toc": "true"
   },
   "source": [
    "# Table of Contents\n",
    " <p><div class=\"lev1\"><a href=\"#Optimize-Dynamic-Subgraphs-1\"><span class=\"toc-item-num\">1&nbsp;&nbsp;</span>Optimize Dynamic Subgraphs</a></div><div class=\"lev2\"><a href=\"#Initialize-Environment-1.1\"><span class=\"toc-item-num\">1.1&nbsp;&nbsp;</span>Initialize Environment</a></div><div class=\"lev2\"><a href=\"#Generate-List-of-Data-1.2\"><span class=\"toc-item-num\">1.2&nbsp;&nbsp;</span>Generate List of Data</a></div><div class=\"lev2\"><a href=\"#Construct-Configuration-Matrices-1.3\"><span class=\"toc-item-num\">1.3&nbsp;&nbsp;</span>Construct Configuration Matrices</a></div><div class=\"lev2\"><a href=\"#Parameter-Search-Space-1.4\"><span class=\"toc-item-num\">1.4&nbsp;&nbsp;</span>Parameter Search Space</a></div><div class=\"lev2\"><a href=\"#Run-Non-Negative-Matrix-Factorization-Algorithm-1.5\"><span class=\"toc-item-num\">1.5&nbsp;&nbsp;</span>Run Non-Negative Matrix Factorization Algorithm</a></div><div class=\"lev2\"><a href=\"#Analyze-Parameter-Search-Space-1.6\"><span class=\"toc-item-num\">1.6&nbsp;&nbsp;</span>Analyze Parameter Search Space</a></div><div class=\"lev3\"><a href=\"#Display-Parameter-Search-Space-1.6.1\"><span class=\"toc-item-num\">1.6.1&nbsp;&nbsp;</span>Display Parameter Search Space</a></div><div class=\"lev3\"><a href=\"#Display-Relationship-Between-Parameters-and-Quality-Measures-1.6.2\"><span class=\"toc-item-num\">1.6.2&nbsp;&nbsp;</span>Display Relationship Between Parameters and Quality Measures</a></div><div class=\"lev3\"><a href=\"#Display-Bivariate-Distribution-of-Error-and-Sparsity-1.6.3\"><span class=\"toc-item-num\">1.6.3&nbsp;&nbsp;</span>Display Bivariate Distribution of Error and Sparsity</a></div><div class=\"lev3\"><a href=\"#Find-Optimal-Parameters-1.6.4\"><span class=\"toc-item-num\">1.6.4&nbsp;&nbsp;</span>Find Optimal Parameters</a></div><div class=\"lev1\"><a href=\"#Detect-Dynamic-Subgraphs-2\"><span class=\"toc-item-num\">2&nbsp;&nbsp;</span>Detect Dynamic Subgraphs</a></div><div class=\"lev2\"><a href=\"#Initialize-Environment-2.1\"><span class=\"toc-item-num\">2.1&nbsp;&nbsp;</span>Initialize Environment</a></div><div class=\"lev2\"><a href=\"#Run-Non-Negative-Matrix-Factorization-Algorithm-2.2\"><span class=\"toc-item-num\">2.2&nbsp;&nbsp;</span>Run Non-Negative Matrix Factorization Algorithm</a></div><div class=\"lev1\"><a href=\"#Statistics-on-Dynamic-Subgraphs-3\"><span class=\"toc-item-num\">3&nbsp;&nbsp;</span>Statistics on Dynamic Subgraphs</a></div><div class=\"lev2\"><a href=\"#Initialize-Environment-3.1\"><span class=\"toc-item-num\">3.1&nbsp;&nbsp;</span>Initialize Environment</a></div><div class=\"lev2\"><a href=\"#Generate-List-of-Data-3.2\"><span class=\"toc-item-num\">3.2&nbsp;&nbsp;</span>Generate List of Data</a></div><div class=\"lev2\"><a href=\"#Consensus-Dynamic-Subgraphs-3.3\"><span class=\"toc-item-num\">3.3&nbsp;&nbsp;</span>Consensus Dynamic Subgraphs</a></div>"
   ]
  },
  {
   "cell_type": "markdown",
   "metadata": {},
   "source": [
    "# Optimize Dynamic Subgraphs"
   ]
  },
  {
   "cell_type": "markdown",
   "metadata": {},
   "source": [
    "## Initialize Environment"
   ]
  },
  {
   "cell_type": "code",
   "execution_count": null,
   "metadata": {},
   "outputs": [],
   "source": [
    "try:\n",
    "    %load_ext autoreload\n",
    "    %autoreload 2\n",
    "    %reset\n",
    "except:\n",
    "    print 'NOT IPYTHON'\n",
    "\n",
    "from __future__ import division\n",
    "\n",
    "import os\n",
    "import sys\n",
    "import glob\n",
    "\n",
    "import numpy as np\n",
    "import pandas as pd\n",
    "import seaborn as sns\n",
    "import scipy.stats as stats\n",
    "import scipy.io as io\n",
    "import h5py\n",
    "import matplotlib.pyplot as plt\n",
    "from matplotlib import rcParams\n",
    "\n",
    "sys.path.append('/Users/akhambhati/Developer/hoth_research/Echobase')\n",
    "import Echobase\n",
    "\n",
    "rcParams = Echobase.Plotting.fig_format.update_rcparams(rcParams)\n",
    "\n",
    "path_CoreData = '/Users/akhambhati/Remotes/CORE.fMRI_multiband.mmattar/restdata'\n",
    "path_PeriphData = '/Users/akhambhati/Remotes/RSRCH.NMF_Subnetworks'\n",
    "path_InpData = path_PeriphData + '/e01-Dyne_FuncNetw'\n",
    "path_ExpData = path_PeriphData + '/e05-DynFuncSubgraph_Population'\n",
    "\n",
    "for path in [path_CoreData, path_PeriphData, path_InpData, path_ExpData]:\n",
    "    if not os.path.exists(path):\n",
    "        print('Path: {}, does not exist'.format(path))\n",
    "        os.makedirs(path)"
   ]
  },
  {
   "cell_type": "markdown",
   "metadata": {},
   "source": [
    "## Generate List of Data"
   ]
  },
  {
   "cell_type": "code",
   "execution_count": null,
   "metadata": {},
   "outputs": [],
   "source": [
    "subj_date = [full_subj_path.split('/')[-1]\n",
    "             for full_subj_path in glob.iglob('{}/Adjacency.*.npz'.format(path_InpData))]\n",
    "\n",
    "subj_ids = {}\n",
    "for s_d in subj_date:\n",
    "    subj, date = s_d.split('.')[1:3]\n",
    "    try:\n",
    "        subj_ids[subj]\n",
    "    except KeyError:\n",
    "        subj_ids[subj] = []\n",
    "    \n",
    "    subj_ids[subj].append(date)"
   ]
  },
  {
   "cell_type": "markdown",
   "metadata": {},
   "source": [
    "## Construct Configuration Matrices\n",
    "*__WARNING: Will Delete Existing Output__*"
   ]
  },
  {
   "cell_type": "code",
   "execution_count": null,
   "metadata": {},
   "outputs": [],
   "source": [
    "# Remove all existing output (retains pipe/pipeline definitions)\n",
    "rm_outp = glob.glob(\"{}/NMF_Optimization.CfgMatr.npz\".format(path_ExpData))\n",
    "\n",
    "for rm_type in [rm_outp]:\n",
    "    for path in rm_type:\n",
    "        try:\n",
    "            os.remove(path)\n",
    "        except:\n",
    "            print(\"{} not found\".format(path))"
   ]
  },
  {
   "cell_type": "code",
   "execution_count": null,
   "metadata": {},
   "outputs": [],
   "source": [
    "conv_adj_matr_to_cfg_matr = Echobase.Network.Transforms.configuration.convert_adj_matr_to_cfg_matr\n",
    "\n",
    "cfg_matr = []\n",
    "cfg_name = []\n",
    "for df_name in subj_date:\n",
    "    \n",
    "    # Read the input data\n",
    "    df = np.load('{}/{}'.format(path_InpData, df_name))\n",
    "\n",
    "    for cfg_vec in conv_adj_matr_to_cfg_matr(df['adj_matr']):\n",
    "        cfg_matr.append(cfg_vec)\n",
    "        cfg_name.append('.'.join(df_name.split('.')[1:3]))\n",
    "\n",
    "# Cache the configuration matrices\n",
    "cfg_matr = np.array(cfg_matr)\n",
    "cfg_name = np.array(cfg_name)\n",
    "np.savez('{}/NMF_Optimization.CfgMatr.npz'.format(path_ExpData),\n",
    "         cfg_matr=cfg_matr, cfg_name=cfg_name)"
   ]
  },
  {
   "cell_type": "markdown",
   "metadata": {},
   "source": [
    "## NMF Cross-Validation Optimizaion"
   ]
  },
  {
   "cell_type": "code",
   "execution_count": null,
   "metadata": {},
   "outputs": [],
   "source": [
    "# Load configuration matrix\n",
    "cfg_data = np.load('{}/NMF_Optimization.CfgMatr.npz'.format(path_ExpData))\n",
    "cfg_matr = cfg_data['cfg_matr']\n",
    "\n",
    "# Set search params\n",
    "search_alpha = [0.0] #list(np.linspace(0.01, 1.0, 1))\n",
    "search_beta = [0.0] #list(np.linspace(0.01, 1.0, 1))\n",
    "search_rank = list(np.arange(2, 31))\n",
    "search_fold = 10\n",
    "\n",
    "# Cross-Validation Optimization\n",
    "str_path = '{}/NMF_Optimization.Error.npz'.format(path_ExpData)\n",
    "if os.path.exists(str_path):\n",
    "    os.remove(str_path)\n",
    "    \n",
    "opt_dict = Echobase.Network.Partitioning.Subgraph.optimize_nmf.cross_validation(\n",
    "    cfg_matr, search_alpha, search_beta, search_rank, search_fold, n_proc=8,\n",
    "    str_path=str_path)\n",
    "\n",
    "np.savez('{}/NMF_Optimization.Error.npz'.format(path_ExpData),\n",
    "         alpha=opt_dict['alpha'],\n",
    "         beta=opt_dict['beta'],\n",
    "         rank=opt_dict['rank'],\n",
    "         error=opt_dict['error'])"
   ]
  },
  {
   "cell_type": "code",
   "execution_count": null,
   "metadata": {},
   "outputs": [],
   "source": [
    "opt_dict = np.load('{}/NMF_Optimization.Error.npz'.format(path_ExpData))\n",
    "\n",
    "error_rank = [opt_dict['error'][np.flatnonzero(opt_dict['rank']==rank)].mean()\n",
    "              for rank in np.unique(opt_dict['rank'])]\n",
    "rank_ix = np.flatnonzero(opt_dict['rank'] == 24)\n",
    "error_alpha = [opt_dict['error'][np.flatnonzero(opt_dict['alpha']==alpha)].mean()\n",
    "              for alpha in np.unique(opt_dict['alpha'][rank_ix])]\n",
    "error_beta = [opt_dict['error'][np.flatnonzero(opt_dict['beta']==beta)].mean()\n",
    "              for beta in np.unique(opt_dict['beta'][rank_ix])]\n",
    "\n",
    "%matplotlib inline\n",
    "plt.figure()\n",
    "ax = plt.subplot(111)\n",
    "opt_ix = np.argmin(error_rank)\n",
    "ax.plot(np.unique(opt_dict['rank']), error_rank)\n",
    "ax.scatter(np.unique(opt_dict['rank'])[opt_ix], error_rank[opt_ix], marker='x', color='r', s=30)\n",
    "\n",
    "plt.figure()\n",
    "ax = plt.subplot(111)\n",
    "opt_ix = np.argmin(error_alpha)\n",
    "ax.plot(np.unique(opt_dict['alpha']), error_alpha)\n",
    "ax.scatter(np.unique(opt_dict['alpha'])[opt_ix], error_alpha[opt_ix], marker='x', color='r', s=30)\n",
    "\n",
    "plt.figure()\n",
    "ax = plt.subplot(111)\n",
    "opt_ix = np.argmin(error_beta)\n",
    "ax.plot(np.unique(opt_dict['beta']), error_beta)\n",
    "ax.scatter(np.unique(opt_dict['beta'])[opt_ix], error_beta[opt_ix], marker='x', color='r', s=30)\n",
    "\n",
    "opt_params = Echobase.Network.Partitioning.Subgraph.optimize_nmf.min_crossval_param(dict(opt_dict))\n",
    "print('Optimal Rank: {}'.format(opt_params['rank']))\n",
    "print('Optimal Alpha: {}'.format(opt_params['alpha']))\n",
    "print('Optimal Beta: {}'.format(opt_params['beta']))"
   ]
  },
  {
   "cell_type": "code",
   "execution_count": null,
   "metadata": {},
   "outputs": [],
   "source": []
  }
 ],
 "metadata": {
  "anaconda-cloud": {},
  "kernelspec": {
   "display_name": "Python [conda env:echobase]",
   "language": "python",
   "name": "conda-env-echobase-py"
  },
  "language_info": {
   "codemirror_mode": {
    "name": "ipython",
    "version": 2
   },
   "file_extension": ".py",
   "mimetype": "text/x-python",
   "name": "python",
   "nbconvert_exporter": "python",
   "pygments_lexer": "ipython2",
   "version": "2.7.12"
  },
  "latex_envs": {
   "bibliofile": "biblio.bib",
   "cite_by": "apalike",
   "current_citInitial": 1,
   "eqLabelWithNumbers": true,
   "eqNumInitial": 0
  },
  "toc": {
   "toc_cell": true,
   "toc_number_sections": true,
   "toc_section_display": "none",
   "toc_threshold": 6,
   "toc_window_display": true
  }
 },
 "nbformat": 4,
 "nbformat_minor": 0
}
